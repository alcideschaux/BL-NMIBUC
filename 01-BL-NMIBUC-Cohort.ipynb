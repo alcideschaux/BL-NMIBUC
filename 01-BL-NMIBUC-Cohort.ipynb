{
 "cells": [
  {
   "cell_type": "markdown",
   "metadata": {},
   "source": [
    "# Cohort features"
   ]
  },
  {
   "cell_type": "code",
   "execution_count": 1,
   "metadata": {},
   "outputs": [
    {
     "name": "stdout",
     "output_type": "stream",
     "text": [
      "Observations: 411\n",
      "Variables: 23\n",
      "$ registry_id            <dbl> 20060035601, 19970063502, 20040008703, 2007008…\n",
      "$ pt_stage               <fct> T1, T1, T2, T1, T1, T1, Tis, T1, T2, Ta, Ta, T…\n",
      "$ sp_id                  <chr> \"06-S-4802\", \"07-S-3788\", \"07-S-8931\", \"07-S-6…\n",
      "$ ck56                   <dbl> 60, 10, 90, NA, NA, 5, NA, 0, 0, 40, NA, 40, 4…\n",
      "$ ck20                   <dbl> 0, 0, 0, NA, 0, 70, NA, 80, 0, 0, NA, 0, 10, N…\n",
      "$ cd44                   <dbl> 70, 60, NA, NA, NA, 40, NA, 5, NA, 60, NA, NA,…\n",
      "$ gata3                  <dbl> 100, 100, 100, NA, 100, 100, NA, 100, 100, 100…\n",
      "$ er                     <dbl> 40, 20, NA, NA, 0, 0, 0, 0, 0, 5, NA, NA, 0, N…\n",
      "$ her2                   <dbl> 0, 5, NA, NA, 60, 30, NA, 40, 60, 60, NA, 30, …\n",
      "$ uroplakin              <dbl> 5, 20, NA, NA, NA, 0, NA, 10, NA, 0, NA, NA, 0…\n",
      "$ sex                    <fct> Male, Male, Male, Male, Male, Male, Female, Ma…\n",
      "$ death                  <fct> Dead, Alive, Dead, Alive, Alive, Alive, Alive,…\n",
      "$ progression_stage_any  <fct> No stage progression, Stage progression, Stage…\n",
      "$ progression_stage_next <fct> No stage progression, No stage progression, No…\n",
      "$ recurrence_any         <fct> No tumor recurrence, Tumor recurrence, Tumor r…\n",
      "$ recurrence_next        <fct> No tumor recurrence, Tumor recurrence, No tumo…\n",
      "$ progression_grade_any  <fct> No grade progression, No grade progression, No…\n",
      "$ progression_grade_next <fct> No grade progression, No grade progression, No…\n",
      "$ age_dx                 <dbl> 77, 71, 89, 59, 76, 68, 59, 71, 71, 60, 56, 78…\n",
      "$ fu_mo                  <dbl> 42.6, 36.0, 3.9, 43.5, 39.1, 16.3, 66.6, 51.5,…\n",
      "$ histo_dx               <fct> HG, HG, HG, HG, HG, HG, CIS, HG, Invasive, HG,…\n",
      "$ date_dx                <dttm> 2006-06-07, 2007-04-17, 2007-09-05, 2007-06-1…\n",
      "$ date_last              <dttm> 2009-12-07, 2010-04-02, 2008-01-01, 2011-01-1…\n"
     ]
    }
   ],
   "source": [
    "# Libraries\n",
    "suppressPackageStartupMessages(library(tidyverse))\n",
    "\n",
    "# Global\n",
    "options(warn = -1)\n",
    "\n",
    "# Scripts\n",
    "source(\"summarize.R\")\n",
    "\n",
    "# Data\n",
    "load(\"DF.Rdata\")\n",
    "\n",
    "glimpse(DF)"
   ]
  },
  {
   "cell_type": "markdown",
   "metadata": {},
   "source": [
    "## Clinical and outcome features\n",
    "Clinical and outcome features are analyzed at the patient level."
   ]
  },
  {
   "cell_type": "code",
   "execution_count": 2,
   "metadata": {},
   "outputs": [
    {
     "name": "stdout",
     "output_type": "stream",
     "text": [
      "Observations: 60\n",
      "Variables: 8\n",
      "$ registry_id           <dbl> 20060035601, 19970063502, 20040008703, 20070089…\n",
      "$ age_dx                <dbl> 77, 71, 89, 59, 76, 68, 59, 71, 60, 56, 78, 89,…\n",
      "$ sex                   <fct> Male, Male, Male, Male, Male, Male, Female, Mal…\n",
      "$ fu_mo                 <dbl> 42.6, 36.0, 3.9, 43.5, 39.1, 16.3, 66.6, 51.5, …\n",
      "$ recurrence_any        <fct> No tumor recurrence, Tumor recurrence, Tumor re…\n",
      "$ progression_stage_any <fct> No stage progression, Stage progression, Stage …\n",
      "$ progression_grade_any <fct> No grade progression, No grade progression, No …\n",
      "$ death                 <fct> Dead, Alive, Dead, Alive, Alive, Alive, Alive, …\n"
     ]
    }
   ],
   "source": [
    "# Tidying up the clinical data\n",
    "CLINICAL <- DF %>% \n",
    "    group_by(registry_id) %>% \n",
    "    select(\n",
    "        registry_id,\n",
    "        age_dx,\n",
    "        sex,\n",
    "        fu_mo,\n",
    "        recurrence_any,\n",
    "        progression_stage_any,\n",
    "        progression_grade_any,\n",
    "        death\n",
    "    ) %>% \n",
    "    distinct() %>%\n",
    "    ungroup()\n",
    "\n",
    "glimpse(CLINICAL)"
   ]
  },
  {
   "cell_type": "markdown",
   "metadata": {
    "lines_to_next_cell": 0
   },
   "source": [
    "### Age, in years"
   ]
  },
  {
   "cell_type": "code",
   "execution_count": 3,
   "metadata": {},
   "outputs": [
    {
     "name": "stdout",
     "output_type": "stream",
     "text": [
      "# A tibble: 1 x 8\n",
      "      N  Mean    SD Median   IQR   Min   Max Missing\n",
      "  <int> <dbl> <dbl>  <dbl> <dbl> <dbl> <dbl>   <int>\n",
      "1    60  68.0  9.86     68  13.5    47    89       0\n"
     ]
    }
   ],
   "source": [
    "CLINICAL %>% summarize_num(age_dx)"
   ]
  },
  {
   "cell_type": "markdown",
   "metadata": {
    "lines_to_next_cell": 0
   },
   "source": [
    "### Sex"
   ]
  },
  {
   "cell_type": "code",
   "execution_count": 4,
   "metadata": {},
   "outputs": [
    {
     "name": "stdout",
     "output_type": "stream",
     "text": [
      "# A tibble: 2 x 3\n",
      "  Levels     N  Freq\n",
      "  <fct>  <int> <dbl>\n",
      "1 Female    19  31.7\n",
      "2 Male      41  68.3\n"
     ]
    }
   ],
   "source": [
    "CLINICAL %>% summarize_fct(sex)"
   ]
  },
  {
   "cell_type": "markdown",
   "metadata": {
    "lines_to_next_cell": 0
   },
   "source": [
    "### Follow-up, in months"
   ]
  },
  {
   "cell_type": "code",
   "execution_count": 5,
   "metadata": {},
   "outputs": [
    {
     "name": "stdout",
     "output_type": "stream",
     "text": [
      "# A tibble: 1 x 8\n",
      "      N  Mean    SD Median   IQR   Min   Max Missing\n",
      "  <int> <dbl> <dbl>  <dbl> <dbl> <dbl> <dbl>   <int>\n",
      "1    60  42.7  46.9   39.4  35.7   2.1  275.       0\n"
     ]
    }
   ],
   "source": [
    "CLINICAL %>% summarize_num(fu_mo)"
   ]
  },
  {
   "cell_type": "markdown",
   "metadata": {
    "lines_to_next_cell": 0
   },
   "source": [
    "### Tumor recurrence at any biopsy"
   ]
  },
  {
   "cell_type": "code",
   "execution_count": 6,
   "metadata": {},
   "outputs": [
    {
     "name": "stdout",
     "output_type": "stream",
     "text": [
      "# A tibble: 2 x 3\n",
      "  Levels                  N  Freq\n",
      "  <fct>               <int> <dbl>\n",
      "1 Tumor recurrence       52  86.7\n",
      "2 No tumor recurrence     8  13.3\n"
     ]
    }
   ],
   "source": [
    "CLINICAL %>% summarize_fct(recurrence_any)"
   ]
  },
  {
   "cell_type": "markdown",
   "metadata": {
    "lines_to_next_cell": 0
   },
   "source": [
    "### Tumor grade progression at any biopsy"
   ]
  },
  {
   "cell_type": "code",
   "execution_count": 7,
   "metadata": {},
   "outputs": [
    {
     "name": "stdout",
     "output_type": "stream",
     "text": [
      "# A tibble: 2 x 3\n",
      "  Levels                   N  Freq\n",
      "  <fct>                <int> <dbl>\n",
      "1 Grade progression        5   8.3\n",
      "2 No grade progression    55  91.7\n"
     ]
    }
   ],
   "source": [
    "CLINICAL %>% summarize_fct(progression_grade_any)"
   ]
  },
  {
   "cell_type": "markdown",
   "metadata": {
    "lines_to_next_cell": 0
   },
   "source": [
    "### Tumor stage progression at any biopsy"
   ]
  },
  {
   "cell_type": "code",
   "execution_count": 8,
   "metadata": {},
   "outputs": [
    {
     "name": "stdout",
     "output_type": "stream",
     "text": [
      "# A tibble: 2 x 3\n",
      "  Levels                   N  Freq\n",
      "  <fct>                <int> <dbl>\n",
      "1 Stage progression        6    10\n",
      "2 No stage progression    54    90\n"
     ]
    }
   ],
   "source": [
    "CLINICAL %>% summarize_fct(progression_stage_any)"
   ]
  },
  {
   "cell_type": "markdown",
   "metadata": {
    "lines_to_next_cell": 0
   },
   "source": [
    "### Overall mortality"
   ]
  },
  {
   "cell_type": "code",
   "execution_count": 9,
   "metadata": {},
   "outputs": [
    {
     "name": "stdout",
     "output_type": "stream",
     "text": [
      "# A tibble: 3 x 3\n",
      "  Levels     N  Freq\n",
      "  <fct>  <int> <dbl>\n",
      "1 Alive     48    80\n",
      "2 Dead       6    10\n",
      "3 <NA>       6    10\n"
     ]
    }
   ],
   "source": [
    "CLINICAL %>% summarize_fct(death)"
   ]
  },
  {
   "cell_type": "markdown",
   "metadata": {},
   "source": [
    "## Pathologic features\n",
    "This section includes the pathologic features of the cases that were included in the dataset. For the histologic diagnosis, \"CIS\" includes carcinoma in situ and dysplasia, \"LG\" and \"HG\" mean low-grade and high-grade noninvasive papillary urothelial carcinoma, respectively."
   ]
  },
  {
   "cell_type": "code",
   "execution_count": 10,
   "metadata": {},
   "outputs": [
    {
     "name": "stdout",
     "output_type": "stream",
     "text": [
      "Observations: 193\n",
      "Variables: 6\n",
      "$ sp_id                  <chr> \"06-S-4802\", \"07-S-3788\", \"07-S-8931\", \"07-S-6…\n",
      "$ histo_dx               <fct> HG, HG, HG, HG, HG, HG, CIS, HG, Invasive, HG,…\n",
      "$ pt_stage               <fct> T1, T1, T2, T1, T1, T1, Tis, T1, T2, Ta, Ta, T…\n",
      "$ recurrence_next        <fct> No tumor recurrence, Tumor recurrence, No tumo…\n",
      "$ progression_grade_next <fct> No grade progression, No grade progression, No…\n",
      "$ progression_stage_next <fct> No stage progression, No stage progression, No…\n"
     ]
    }
   ],
   "source": [
    "# Tidying up the pathologic data\n",
    "PATHOLOGIC <- DF %>% \n",
    "    group_by(sp_id) %>% \n",
    "    select(\n",
    "        sp_id,\n",
    "        histo_dx,\n",
    "        pt_stage,\n",
    "        recurrence_next,\n",
    "        progression_grade_next,\n",
    "        progression_stage_next\n",
    "    ) %>% \n",
    "    distinct() %>% \n",
    "    ungroup()\n",
    "\n",
    "glimpse (PATHOLOGIC)"
   ]
  },
  {
   "cell_type": "markdown",
   "metadata": {
    "lines_to_next_cell": 0
   },
   "source": [
    "### Histologic diagnosis"
   ]
  },
  {
   "cell_type": "code",
   "execution_count": 11,
   "metadata": {},
   "outputs": [
    {
     "name": "stdout",
     "output_type": "stream",
     "text": [
      "# A tibble: 4 x 3\n",
      "  Levels       N  Freq\n",
      "  <fct>    <int> <dbl>\n",
      "1 CIS         13   6.7\n",
      "2 LG          60  31.1\n",
      "3 HG          79  40.9\n",
      "4 Invasive    41  21.2\n"
     ]
    }
   ],
   "source": [
    "PATHOLOGIC %>% summarize_fct(histo_dx)"
   ]
  },
  {
   "cell_type": "markdown",
   "metadata": {
    "lines_to_next_cell": 0
   },
   "source": [
    "### pT stage"
   ]
  },
  {
   "cell_type": "code",
   "execution_count": 12,
   "metadata": {},
   "outputs": [
    {
     "name": "stdout",
     "output_type": "stream",
     "text": [
      "# A tibble: 5 x 3\n",
      "  Levels     N  Freq\n",
      "  <fct>  <int> <dbl>\n",
      "1 Tis        9   4.7\n",
      "2 Ta       102  52.8\n",
      "3 T1        66  34.2\n",
      "4 T2        10   5.2\n",
      "5 <NA>       6   3.1\n"
     ]
    }
   ],
   "source": [
    "PATHOLOGIC %>% summarize_fct(pt_stage)"
   ]
  },
  {
   "cell_type": "markdown",
   "metadata": {
    "lines_to_next_cell": 0
   },
   "source": [
    "### Tumor recurrence at next biopsy"
   ]
  },
  {
   "cell_type": "code",
   "execution_count": 13,
   "metadata": {},
   "outputs": [
    {
     "name": "stdout",
     "output_type": "stream",
     "text": [
      "# A tibble: 3 x 3\n",
      "  Levels                  N  Freq\n",
      "  <fct>               <int> <dbl>\n",
      "1 Tumor recurrence      102  52.8\n",
      "2 No tumor recurrence    68  35.2\n",
      "3 <NA>                   23  11.9\n"
     ]
    }
   ],
   "source": [
    "PATHOLOGIC %>% summarize_fct(recurrence_next)"
   ]
  },
  {
   "cell_type": "markdown",
   "metadata": {
    "lines_to_next_cell": 0
   },
   "source": [
    "### Tumor grade progression at next biopsy"
   ]
  },
  {
   "cell_type": "code",
   "execution_count": 14,
   "metadata": {},
   "outputs": [
    {
     "name": "stdout",
     "output_type": "stream",
     "text": [
      "# A tibble: 3 x 3\n",
      "  Levels                   N  Freq\n",
      "  <fct>                <int> <dbl>\n",
      "1 Grade progression        6   3.1\n",
      "2 No grade progression   170  88.1\n",
      "3 <NA>                    17   8.8\n"
     ]
    }
   ],
   "source": [
    "PATHOLOGIC %>% summarize_fct(progression_grade_next)"
   ]
  },
  {
   "cell_type": "markdown",
   "metadata": {
    "lines_to_next_cell": 0
   },
   "source": [
    "### Tumor stage progression at next biopsy"
   ]
  },
  {
   "cell_type": "code",
   "execution_count": 15,
   "metadata": {},
   "outputs": [
    {
     "name": "stdout",
     "output_type": "stream",
     "text": [
      "# A tibble: 3 x 3\n",
      "  Levels                   N  Freq\n",
      "  <fct>                <int> <dbl>\n",
      "1 Stage progression        9   4.7\n",
      "2 No stage progression   160  82.9\n",
      "3 <NA>                    24  12.4\n"
     ]
    }
   ],
   "source": [
    "PATHOLOGIC %>% summarize_fct(progression_stage_next)"
   ]
  },
  {
   "cell_type": "markdown",
   "metadata": {},
   "source": [
    "## Biomarkers features\n",
    "Biomarkers features were established at the TMA level."
   ]
  },
  {
   "cell_type": "code",
   "execution_count": 16,
   "metadata": {},
   "outputs": [
    {
     "name": "stdout",
     "output_type": "stream",
     "text": [
      "# A tibble: 7 x 9\n",
      "  Levels        N  Mean    SD Median   IQR   Min   Max Missing\n",
      "  <fct>     <int> <dbl> <dbl>  <dbl> <dbl> <dbl> <dbl>   <int>\n",
      "1 cd44        411 51.5  33.6      60  60       0   100     106\n",
      "2 ck20        411 28.8  35.7       5  62.5     0   100      75\n",
      "3 ck56        411 28.1  29.2      20  35       0   100      76\n",
      "4 er          411  1.66  6.79      0   0       0    60      74\n",
      "5 gata3       411 99.1   5.05    100   0      50   100      73\n",
      "6 her2        411 40    36.0      30  65       0   100      69\n",
      "7 uroplakin   411 15.3  24.6       5  20       0   100      96\n",
      "\n",
      "\tKruskal-Wallis rank sum test\n",
      "\n",
      "data:  x by y\n",
      "Kruskal-Wallis chi-squared = 1260, df = 6, p-value < 2.2e-16\n",
      "\n",
      "\n",
      "\tPairwise comparisons using Wilcoxon rank sum test \n",
      "\n",
      "data:  x and y \n",
      "\n",
      "          cd44    ck20    ck56    er      gata3   her2   \n",
      "ck20      < 2e-16 -       -       -       -       -      \n",
      "ck56      2.9e-16 0.01987 -       -       -       -      \n",
      "er        < 2e-16 < 2e-16 < 2e-16 -       -       -      \n",
      "gata3     < 2e-16 < 2e-16 < 2e-16 < 2e-16 -       -      \n",
      "her2      0.00031 2.5e-05 0.03988 < 2e-16 < 2e-16 -      \n",
      "uroplakin < 2e-16 0.29903 1.4e-12 < 2e-16 < 2e-16 < 2e-16\n",
      "\n",
      "P value adjustment method: bonferroni \n"
     ]
    }
   ],
   "source": [
    "DF %>% \n",
    "    select(ck56:uroplakin) %>% \n",
    "    gather(key = \"Biomarker\", value = \"Expression\") %>% \n",
    "    summarize_nums(Expression, Biomarker)"
   ]
  }
 ],
 "metadata": {
  "jupytext": {
   "cell_metadata_filter": "-all",
   "formats": "ipynb,Rmd",
   "main_language": "R",
   "notebook_metadata_filter": "-all"
  },
  "kernelspec": {
   "display_name": "R",
   "language": "R",
   "name": "ir"
  },
  "language_info": {
   "codemirror_mode": "r",
   "file_extension": ".r",
   "mimetype": "text/x-r-source",
   "name": "R",
   "pygments_lexer": "r",
   "version": "3.5.3"
  },
  "toc": {
   "base_numbering": 1,
   "nav_menu": {},
   "number_sections": true,
   "sideBar": true,
   "skip_h1_title": true,
   "title_cell": "Table of Contents",
   "title_sidebar": "Contents",
   "toc_cell": false,
   "toc_position": {},
   "toc_section_display": true,
   "toc_window_display": true
  }
 },
 "nbformat": 4,
 "nbformat_minor": 2
}
