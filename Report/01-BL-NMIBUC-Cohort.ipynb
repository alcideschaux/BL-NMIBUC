{
 "cells": [
  {
   "cell_type": "markdown",
   "metadata": {},
   "source": [
    "# Cohort features"
   ]
  },
  {
   "cell_type": "code",
   "execution_count": 1,
   "metadata": {},
   "outputs": [
    {
     "name": "stdout",
     "output_type": "stream",
     "text": [
      "Observations: 411\n",
      "Variables: 23\n",
      "$ registry_id            \u001b[3m\u001b[38;5;246m<dbl>\u001b[39m\u001b[23m 20060035601, 19970063502, 20040008703, 2007008…\n",
      "$ pt_stage               \u001b[3m\u001b[38;5;246m<fct>\u001b[39m\u001b[23m T1, T1, T2, T1, T1, T1, Tis, T1, T2, Ta, Ta, T…\n",
      "$ sp_id                  \u001b[3m\u001b[38;5;246m<chr>\u001b[39m\u001b[23m \"06-S-4802\", \"07-S-3788\", \"07-S-8931\", \"07-S-6…\n",
      "$ ck56                   \u001b[3m\u001b[38;5;246m<dbl>\u001b[39m\u001b[23m 60, 10, 90, NA, NA, 5, NA, 0, 0, 40, NA, 40, 4…\n",
      "$ ck20                   \u001b[3m\u001b[38;5;246m<dbl>\u001b[39m\u001b[23m 0, 0, 0, NA, 0, 70, NA, 80, 0, 0, NA, 0, 10, N…\n",
      "$ cd44                   \u001b[3m\u001b[38;5;246m<dbl>\u001b[39m\u001b[23m 70, 60, NA, NA, NA, 40, NA, 5, NA, 60, NA, NA,…\n",
      "$ gata3                  \u001b[3m\u001b[38;5;246m<dbl>\u001b[39m\u001b[23m 100, 100, 100, NA, 100, 100, NA, 100, 100, 100…\n",
      "$ er                     \u001b[3m\u001b[38;5;246m<dbl>\u001b[39m\u001b[23m 40, 20, NA, NA, 0, 0, 0, 0, 0, 5, NA, NA, 0, N…\n",
      "$ her2                   \u001b[3m\u001b[38;5;246m<dbl>\u001b[39m\u001b[23m 0, 5, NA, NA, 60, 30, NA, 40, 60, 60, NA, 30, …\n",
      "$ uroplakin              \u001b[3m\u001b[38;5;246m<dbl>\u001b[39m\u001b[23m 5, 20, NA, NA, NA, 0, NA, 10, NA, 0, NA, NA, 0…\n",
      "$ sex                    \u001b[3m\u001b[38;5;246m<fct>\u001b[39m\u001b[23m Male, Male, Male, Male, Male, Male, Female, Ma…\n",
      "$ death                  \u001b[3m\u001b[38;5;246m<fct>\u001b[39m\u001b[23m Dead, Alive, Dead, Alive, Alive, Alive, Alive,…\n",
      "$ progression_stage_any  \u001b[3m\u001b[38;5;246m<fct>\u001b[39m\u001b[23m No stage progression, Stage progression, Stage…\n",
      "$ progression_stage_next \u001b[3m\u001b[38;5;246m<fct>\u001b[39m\u001b[23m No stage progression, No stage progression, No…\n",
      "$ recurrence_any         \u001b[3m\u001b[38;5;246m<fct>\u001b[39m\u001b[23m No tumor recurrence, Tumor recurrence, Tumor r…\n",
      "$ recurrence_next        \u001b[3m\u001b[38;5;246m<fct>\u001b[39m\u001b[23m No tumor recurrence, Tumor recurrence, No tumo…\n",
      "$ progression_grade_any  \u001b[3m\u001b[38;5;246m<fct>\u001b[39m\u001b[23m No grade progression, No grade progression, No…\n",
      "$ progression_grade_next \u001b[3m\u001b[38;5;246m<fct>\u001b[39m\u001b[23m No grade progression, No grade progression, No…\n",
      "$ age_dx                 \u001b[3m\u001b[38;5;246m<dbl>\u001b[39m\u001b[23m 77, 71, 89, 59, 76, 68, 59, 71, 71, 60, 56, 78…\n",
      "$ fu_mo                  \u001b[3m\u001b[38;5;246m<dbl>\u001b[39m\u001b[23m 42.6, 36.0, 3.9, 43.5, 39.1, 16.3, 66.6, 51.5,…\n",
      "$ histo_dx               \u001b[3m\u001b[38;5;246m<fct>\u001b[39m\u001b[23m HG, HG, HG, HG, HG, HG, CIS, HG, Invasive, HG,…\n",
      "$ date_dx                \u001b[3m\u001b[38;5;246m<dttm>\u001b[39m\u001b[23m 2006-06-07, 2007-04-17, 2007-09-05, 2007-06-1…\n",
      "$ date_last              \u001b[3m\u001b[38;5;246m<dttm>\u001b[39m\u001b[23m 2009-12-07, 2010-04-02, 2008-01-01, 2011-01-1…\n"
     ]
    }
   ],
   "source": [
    "# Libraries\n",
    "suppressPackageStartupMessages(library(tidyverse))\n",
    "library(ggcorrplot)\n",
    "\n",
    "# Global\n",
    "options(warn = -1)\n",
    "\n",
    "# Scripts\n",
    "source(\"summarize.R\")\n",
    "\n",
    "# Data\n",
    "load(\"DF.Rdata\")\n",
    "\n",
    "glimpse(DF)"
   ]
  },
  {
   "cell_type": "markdown",
   "metadata": {},
   "source": [
    "## Clinical and outcome features\n",
    "Clinical and outcome features are analyzed at the patient level."
   ]
  },
  {
   "cell_type": "code",
   "execution_count": 2,
   "metadata": {},
   "outputs": [
    {
     "name": "stdout",
     "output_type": "stream",
     "text": [
      "Observations: 60\n",
      "Variables: 8\n",
      "$ registry_id           \u001b[3m\u001b[38;5;246m<dbl>\u001b[39m\u001b[23m 20060035601, 19970063502, 20040008703, 20070089…\n",
      "$ age_dx                \u001b[3m\u001b[38;5;246m<dbl>\u001b[39m\u001b[23m 77, 71, 89, 59, 76, 68, 59, 71, 60, 56, 78, 89,…\n",
      "$ sex                   \u001b[3m\u001b[38;5;246m<fct>\u001b[39m\u001b[23m Male, Male, Male, Male, Male, Male, Female, Mal…\n",
      "$ fu_mo                 \u001b[3m\u001b[38;5;246m<dbl>\u001b[39m\u001b[23m 42.6, 36.0, 3.9, 43.5, 39.1, 16.3, 66.6, 51.5, …\n",
      "$ recurrence_any        \u001b[3m\u001b[38;5;246m<fct>\u001b[39m\u001b[23m No tumor recurrence, Tumor recurrence, Tumor re…\n",
      "$ progression_stage_any \u001b[3m\u001b[38;5;246m<fct>\u001b[39m\u001b[23m No stage progression, Stage progression, Stage …\n",
      "$ progression_grade_any \u001b[3m\u001b[38;5;246m<fct>\u001b[39m\u001b[23m No grade progression, No grade progression, No …\n",
      "$ death                 \u001b[3m\u001b[38;5;246m<fct>\u001b[39m\u001b[23m Dead, Alive, Dead, Alive, Alive, Alive, Alive, …\n"
     ]
    }
   ],
   "source": [
    "# Tidying up the clinical data\n",
    "CLINICAL <- DF %>% \n",
    "    group_by(registry_id) %>% \n",
    "    select(\n",
    "        registry_id,\n",
    "        age_dx,\n",
    "        sex,\n",
    "        fu_mo,\n",
    "        recurrence_any,\n",
    "        progression_stage_any,\n",
    "        progression_grade_any,\n",
    "        death\n",
    "    ) %>% \n",
    "    distinct() %>%\n",
    "    ungroup()\n",
    "\n",
    "glimpse(CLINICAL)"
   ]
  },
  {
   "cell_type": "markdown",
   "metadata": {
    "lines_to_next_cell": 0
   },
   "source": [
    "### Age, in years"
   ]
  },
  {
   "cell_type": "code",
   "execution_count": 3,
   "metadata": {},
   "outputs": [
    {
     "name": "stdout",
     "output_type": "stream",
     "text": [
      "\u001b[38;5;246m# A tibble: 1 x 8\u001b[39m\n",
      "      N  Mean    SD Median   IQR   Min   Max Missing\n",
      "  \u001b[3m\u001b[38;5;246m<int>\u001b[39m\u001b[23m \u001b[3m\u001b[38;5;246m<dbl>\u001b[39m\u001b[23m \u001b[3m\u001b[38;5;246m<dbl>\u001b[39m\u001b[23m  \u001b[3m\u001b[38;5;246m<dbl>\u001b[39m\u001b[23m \u001b[3m\u001b[38;5;246m<dbl>\u001b[39m\u001b[23m \u001b[3m\u001b[38;5;246m<dbl>\u001b[39m\u001b[23m \u001b[3m\u001b[38;5;246m<dbl>\u001b[39m\u001b[23m   \u001b[3m\u001b[38;5;246m<int>\u001b[39m\u001b[23m\n",
      "\u001b[38;5;250m1\u001b[39m    60  68.0  9.86     68  13.5    47    89       0\n"
     ]
    }
   ],
   "source": [
    "CLINICAL %>% summarize_num(age_dx)"
   ]
  },
  {
   "cell_type": "markdown",
   "metadata": {
    "lines_to_next_cell": 0
   },
   "source": [
    "### Sex"
   ]
  },
  {
   "cell_type": "code",
   "execution_count": 4,
   "metadata": {},
   "outputs": [
    {
     "name": "stdout",
     "output_type": "stream",
     "text": [
      "\u001b[38;5;246m# A tibble: 2 x 3\u001b[39m\n",
      "  Levels     N  Freq\n",
      "  \u001b[3m\u001b[38;5;246m<fct>\u001b[39m\u001b[23m  \u001b[3m\u001b[38;5;246m<int>\u001b[39m\u001b[23m \u001b[3m\u001b[38;5;246m<dbl>\u001b[39m\u001b[23m\n",
      "\u001b[38;5;250m1\u001b[39m Female    19  31.7\n",
      "\u001b[38;5;250m2\u001b[39m Male      41  68.3\n"
     ]
    }
   ],
   "source": [
    "CLINICAL %>% summarize_fct(sex)"
   ]
  },
  {
   "cell_type": "markdown",
   "metadata": {
    "lines_to_next_cell": 0
   },
   "source": [
    "### Follow-up, in months"
   ]
  },
  {
   "cell_type": "code",
   "execution_count": 5,
   "metadata": {},
   "outputs": [
    {
     "name": "stdout",
     "output_type": "stream",
     "text": [
      "\u001b[38;5;246m# A tibble: 1 x 8\u001b[39m\n",
      "      N  Mean    SD Median   IQR   Min   Max Missing\n",
      "  \u001b[3m\u001b[38;5;246m<int>\u001b[39m\u001b[23m \u001b[3m\u001b[38;5;246m<dbl>\u001b[39m\u001b[23m \u001b[3m\u001b[38;5;246m<dbl>\u001b[39m\u001b[23m  \u001b[3m\u001b[38;5;246m<dbl>\u001b[39m\u001b[23m \u001b[3m\u001b[38;5;246m<dbl>\u001b[39m\u001b[23m \u001b[3m\u001b[38;5;246m<dbl>\u001b[39m\u001b[23m \u001b[3m\u001b[38;5;246m<dbl>\u001b[39m\u001b[23m   \u001b[3m\u001b[38;5;246m<int>\u001b[39m\u001b[23m\n",
      "\u001b[38;5;250m1\u001b[39m    60  42.7  46.9   39.4  35.7   2.1  275.       0\n"
     ]
    }
   ],
   "source": [
    "CLINICAL %>% summarize_num(fu_mo)"
   ]
  },
  {
   "cell_type": "markdown",
   "metadata": {
    "lines_to_next_cell": 0
   },
   "source": [
    "### Tumor recurrence at any biopsy"
   ]
  },
  {
   "cell_type": "code",
   "execution_count": 6,
   "metadata": {},
   "outputs": [
    {
     "name": "stdout",
     "output_type": "stream",
     "text": [
      "\u001b[38;5;246m# A tibble: 2 x 3\u001b[39m\n",
      "  Levels                  N  Freq\n",
      "  \u001b[3m\u001b[38;5;246m<fct>\u001b[39m\u001b[23m               \u001b[3m\u001b[38;5;246m<int>\u001b[39m\u001b[23m \u001b[3m\u001b[38;5;246m<dbl>\u001b[39m\u001b[23m\n",
      "\u001b[38;5;250m1\u001b[39m Tumor recurrence       52  86.7\n",
      "\u001b[38;5;250m2\u001b[39m No tumor recurrence     8  13.3\n"
     ]
    }
   ],
   "source": [
    "CLINICAL %>% summarize_fct(recurrence_any)"
   ]
  },
  {
   "cell_type": "markdown",
   "metadata": {
    "lines_to_next_cell": 0
   },
   "source": [
    "### Tumor grade progression at any biopsy"
   ]
  },
  {
   "cell_type": "code",
   "execution_count": 7,
   "metadata": {},
   "outputs": [
    {
     "name": "stdout",
     "output_type": "stream",
     "text": [
      "\u001b[38;5;246m# A tibble: 2 x 3\u001b[39m\n",
      "  Levels                   N  Freq\n",
      "  \u001b[3m\u001b[38;5;246m<fct>\u001b[39m\u001b[23m                \u001b[3m\u001b[38;5;246m<int>\u001b[39m\u001b[23m \u001b[3m\u001b[38;5;246m<dbl>\u001b[39m\u001b[23m\n",
      "\u001b[38;5;250m1\u001b[39m Grade progression        5   8.3\n",
      "\u001b[38;5;250m2\u001b[39m No grade progression    55  91.7\n"
     ]
    }
   ],
   "source": [
    "CLINICAL %>% summarize_fct(progression_grade_any)"
   ]
  },
  {
   "cell_type": "markdown",
   "metadata": {
    "lines_to_next_cell": 0
   },
   "source": [
    "### Tumor stage progression at any biopsy"
   ]
  },
  {
   "cell_type": "code",
   "execution_count": 8,
   "metadata": {},
   "outputs": [
    {
     "name": "stdout",
     "output_type": "stream",
     "text": [
      "\u001b[38;5;246m# A tibble: 2 x 3\u001b[39m\n",
      "  Levels                   N  Freq\n",
      "  \u001b[3m\u001b[38;5;246m<fct>\u001b[39m\u001b[23m                \u001b[3m\u001b[38;5;246m<int>\u001b[39m\u001b[23m \u001b[3m\u001b[38;5;246m<dbl>\u001b[39m\u001b[23m\n",
      "\u001b[38;5;250m1\u001b[39m Stage progression        6    10\n",
      "\u001b[38;5;250m2\u001b[39m No stage progression    54    90\n"
     ]
    }
   ],
   "source": [
    "CLINICAL %>% summarize_fct(progression_stage_any)"
   ]
  },
  {
   "cell_type": "markdown",
   "metadata": {
    "lines_to_next_cell": 0
   },
   "source": [
    "### Overall mortality"
   ]
  },
  {
   "cell_type": "code",
   "execution_count": 9,
   "metadata": {},
   "outputs": [
    {
     "name": "stdout",
     "output_type": "stream",
     "text": [
      "\u001b[38;5;246m# A tibble: 3 x 3\u001b[39m\n",
      "  Levels     N  Freq\n",
      "  \u001b[3m\u001b[38;5;246m<fct>\u001b[39m\u001b[23m  \u001b[3m\u001b[38;5;246m<int>\u001b[39m\u001b[23m \u001b[3m\u001b[38;5;246m<dbl>\u001b[39m\u001b[23m\n",
      "\u001b[38;5;250m1\u001b[39m Alive     48    80\n",
      "\u001b[38;5;250m2\u001b[39m Dead       6    10\n",
      "\u001b[38;5;250m3\u001b[39m \u001b[31mNA\u001b[39m         6    10\n"
     ]
    }
   ],
   "source": [
    "CLINICAL %>% summarize_fct(death)"
   ]
  },
  {
   "cell_type": "markdown",
   "metadata": {},
   "source": [
    "## Pathologic features\n",
    "This section includes the pathologic features of the cases that were included in the dataset. For the histologic diagnosis, \"CIS\" includes carcinoma in situ and dysplasia, \"LG\" and \"HG\" mean low-grade and high-grade noninvasive papillary urothelial carcinoma, respectively."
   ]
  },
  {
   "cell_type": "code",
   "execution_count": 10,
   "metadata": {},
   "outputs": [
    {
     "name": "stdout",
     "output_type": "stream",
     "text": [
      "Observations: 193\n",
      "Variables: 6\n",
      "$ sp_id                  \u001b[3m\u001b[38;5;246m<chr>\u001b[39m\u001b[23m \"06-S-4802\", \"07-S-3788\", \"07-S-8931\", \"07-S-6…\n",
      "$ histo_dx               \u001b[3m\u001b[38;5;246m<fct>\u001b[39m\u001b[23m HG, HG, HG, HG, HG, HG, CIS, HG, Invasive, HG,…\n",
      "$ pt_stage               \u001b[3m\u001b[38;5;246m<fct>\u001b[39m\u001b[23m T1, T1, T2, T1, T1, T1, Tis, T1, T2, Ta, Ta, T…\n",
      "$ recurrence_next        \u001b[3m\u001b[38;5;246m<fct>\u001b[39m\u001b[23m No tumor recurrence, Tumor recurrence, No tumo…\n",
      "$ progression_grade_next \u001b[3m\u001b[38;5;246m<fct>\u001b[39m\u001b[23m No grade progression, No grade progression, No…\n",
      "$ progression_stage_next \u001b[3m\u001b[38;5;246m<fct>\u001b[39m\u001b[23m No stage progression, No stage progression, No…\n"
     ]
    }
   ],
   "source": [
    "# Tidying up the pathologic data\n",
    "PATHOLOGIC <- DF %>% \n",
    "    group_by(sp_id) %>% \n",
    "    select(\n",
    "        sp_id,\n",
    "        histo_dx,\n",
    "        pt_stage,\n",
    "        recurrence_next,\n",
    "        progression_grade_next,\n",
    "        progression_stage_next\n",
    "    ) %>% \n",
    "    distinct() %>% \n",
    "    ungroup()\n",
    "\n",
    "glimpse (PATHOLOGIC)"
   ]
  },
  {
   "cell_type": "markdown",
   "metadata": {
    "lines_to_next_cell": 0
   },
   "source": [
    "### Histologic diagnosis"
   ]
  },
  {
   "cell_type": "code",
   "execution_count": 11,
   "metadata": {},
   "outputs": [
    {
     "name": "stdout",
     "output_type": "stream",
     "text": [
      "\u001b[38;5;246m# A tibble: 4 x 3\u001b[39m\n",
      "  Levels       N  Freq\n",
      "  \u001b[3m\u001b[38;5;246m<fct>\u001b[39m\u001b[23m    \u001b[3m\u001b[38;5;246m<int>\u001b[39m\u001b[23m \u001b[3m\u001b[38;5;246m<dbl>\u001b[39m\u001b[23m\n",
      "\u001b[38;5;250m1\u001b[39m CIS         13   6.7\n",
      "\u001b[38;5;250m2\u001b[39m LG          60  31.1\n",
      "\u001b[38;5;250m3\u001b[39m HG          79  40.9\n",
      "\u001b[38;5;250m4\u001b[39m Invasive    41  21.2\n"
     ]
    }
   ],
   "source": [
    "PATHOLOGIC %>% summarize_fct(histo_dx)"
   ]
  },
  {
   "cell_type": "markdown",
   "metadata": {
    "lines_to_next_cell": 0
   },
   "source": [
    "### pT stage"
   ]
  },
  {
   "cell_type": "code",
   "execution_count": 12,
   "metadata": {},
   "outputs": [
    {
     "name": "stdout",
     "output_type": "stream",
     "text": [
      "\u001b[38;5;246m# A tibble: 5 x 3\u001b[39m\n",
      "  Levels     N  Freq\n",
      "  \u001b[3m\u001b[38;5;246m<fct>\u001b[39m\u001b[23m  \u001b[3m\u001b[38;5;246m<int>\u001b[39m\u001b[23m \u001b[3m\u001b[38;5;246m<dbl>\u001b[39m\u001b[23m\n",
      "\u001b[38;5;250m1\u001b[39m Tis        9   4.7\n",
      "\u001b[38;5;250m2\u001b[39m Ta       102  52.8\n",
      "\u001b[38;5;250m3\u001b[39m T1        66  34.2\n",
      "\u001b[38;5;250m4\u001b[39m T2        10   5.2\n",
      "\u001b[38;5;250m5\u001b[39m \u001b[31mNA\u001b[39m         6   3.1\n"
     ]
    }
   ],
   "source": [
    "PATHOLOGIC %>% summarize_fct(pt_stage)"
   ]
  },
  {
   "cell_type": "markdown",
   "metadata": {
    "lines_to_next_cell": 0
   },
   "source": [
    "### Tumor recurrence at next biopsy"
   ]
  },
  {
   "cell_type": "code",
   "execution_count": 13,
   "metadata": {},
   "outputs": [
    {
     "name": "stdout",
     "output_type": "stream",
     "text": [
      "\u001b[38;5;246m# A tibble: 3 x 3\u001b[39m\n",
      "  Levels                  N  Freq\n",
      "  \u001b[3m\u001b[38;5;246m<fct>\u001b[39m\u001b[23m               \u001b[3m\u001b[38;5;246m<int>\u001b[39m\u001b[23m \u001b[3m\u001b[38;5;246m<dbl>\u001b[39m\u001b[23m\n",
      "\u001b[38;5;250m1\u001b[39m Tumor recurrence      102  52.8\n",
      "\u001b[38;5;250m2\u001b[39m No tumor recurrence    68  35.2\n",
      "\u001b[38;5;250m3\u001b[39m \u001b[31mNA\u001b[39m                     23  11.9\n"
     ]
    }
   ],
   "source": [
    "PATHOLOGIC %>% summarize_fct(recurrence_next)"
   ]
  },
  {
   "cell_type": "markdown",
   "metadata": {
    "lines_to_next_cell": 0
   },
   "source": [
    "### Tumor grade progression at next biopsy"
   ]
  },
  {
   "cell_type": "code",
   "execution_count": 14,
   "metadata": {},
   "outputs": [
    {
     "name": "stdout",
     "output_type": "stream",
     "text": [
      "\u001b[38;5;246m# A tibble: 3 x 3\u001b[39m\n",
      "  Levels                   N  Freq\n",
      "  \u001b[3m\u001b[38;5;246m<fct>\u001b[39m\u001b[23m                \u001b[3m\u001b[38;5;246m<int>\u001b[39m\u001b[23m \u001b[3m\u001b[38;5;246m<dbl>\u001b[39m\u001b[23m\n",
      "\u001b[38;5;250m1\u001b[39m Grade progression        6   3.1\n",
      "\u001b[38;5;250m2\u001b[39m No grade progression   170  88.1\n",
      "\u001b[38;5;250m3\u001b[39m \u001b[31mNA\u001b[39m                      17   8.8\n"
     ]
    }
   ],
   "source": [
    "PATHOLOGIC %>% summarize_fct(progression_grade_next)"
   ]
  },
  {
   "cell_type": "markdown",
   "metadata": {
    "lines_to_next_cell": 0
   },
   "source": [
    "### Tumor stage progression at next biopsy"
   ]
  },
  {
   "cell_type": "code",
   "execution_count": 15,
   "metadata": {},
   "outputs": [
    {
     "name": "stdout",
     "output_type": "stream",
     "text": [
      "\u001b[38;5;246m# A tibble: 3 x 3\u001b[39m\n",
      "  Levels                   N  Freq\n",
      "  \u001b[3m\u001b[38;5;246m<fct>\u001b[39m\u001b[23m                \u001b[3m\u001b[38;5;246m<int>\u001b[39m\u001b[23m \u001b[3m\u001b[38;5;246m<dbl>\u001b[39m\u001b[23m\n",
      "\u001b[38;5;250m1\u001b[39m Stage progression        9   4.7\n",
      "\u001b[38;5;250m2\u001b[39m No stage progression   160  82.9\n",
      "\u001b[38;5;250m3\u001b[39m \u001b[31mNA\u001b[39m                      24  12.4\n"
     ]
    }
   ],
   "source": [
    "PATHOLOGIC %>% summarize_fct(progression_stage_next)"
   ]
  },
  {
   "cell_type": "markdown",
   "metadata": {},
   "source": [
    "## Biomarkers features\n",
    "Biomarkers features were established at the TMA level.\n",
    "\n",
    "### Biomarker distribution"
   ]
  },
  {
   "cell_type": "code",
   "execution_count": 16,
   "metadata": {},
   "outputs": [
    {
     "name": "stdout",
     "output_type": "stream",
     "text": [
      "\u001b[38;5;246m# A tibble: 7 x 9\u001b[39m\n",
      "  Levels        N  Mean    SD Median   IQR   Min   Max Missing\n",
      "  \u001b[3m\u001b[38;5;246m<fct>\u001b[39m\u001b[23m     \u001b[3m\u001b[38;5;246m<int>\u001b[39m\u001b[23m \u001b[3m\u001b[38;5;246m<dbl>\u001b[39m\u001b[23m \u001b[3m\u001b[38;5;246m<dbl>\u001b[39m\u001b[23m  \u001b[3m\u001b[38;5;246m<dbl>\u001b[39m\u001b[23m \u001b[3m\u001b[38;5;246m<dbl>\u001b[39m\u001b[23m \u001b[3m\u001b[38;5;246m<dbl>\u001b[39m\u001b[23m \u001b[3m\u001b[38;5;246m<dbl>\u001b[39m\u001b[23m   \u001b[3m\u001b[38;5;246m<int>\u001b[39m\u001b[23m\n",
      "\u001b[38;5;250m1\u001b[39m cd44        411 51.5  33.6      60  60       0   100     106\n",
      "\u001b[38;5;250m2\u001b[39m ck20        411 28.8  35.7       5  62.5     0   100      75\n",
      "\u001b[38;5;250m3\u001b[39m ck56        411 28.1  29.2      20  35       0   100      76\n",
      "\u001b[38;5;250m4\u001b[39m er          411  1.66  6.79      0   0       0    60      74\n",
      "\u001b[38;5;250m5\u001b[39m gata3       411 99.1   5.05    100   0      50   100      73\n",
      "\u001b[38;5;250m6\u001b[39m her2        411 40    36.0      30  65       0   100      69\n",
      "\u001b[38;5;250m7\u001b[39m uroplakin   411 15.3  24.6       5  20       0   100      96\n",
      "\n",
      "\tKruskal-Wallis rank sum test\n",
      "\n",
      "data:  x by y\n",
      "Kruskal-Wallis chi-squared = 1260, df = 6, p-value < 2.2e-16\n",
      "\n",
      "\n",
      "\tPairwise comparisons using Wilcoxon rank sum test \n",
      "\n",
      "data:  x and y \n",
      "\n",
      "          cd44    ck20    ck56    er      gata3   her2   \n",
      "ck20      < 2e-16 -       -       -       -       -      \n",
      "ck56      2.9e-16 0.01987 -       -       -       -      \n",
      "er        < 2e-16 < 2e-16 < 2e-16 -       -       -      \n",
      "gata3     < 2e-16 < 2e-16 < 2e-16 < 2e-16 -       -      \n",
      "her2      0.00031 2.5e-05 0.03988 < 2e-16 < 2e-16 -      \n",
      "uroplakin < 2e-16 0.29903 1.4e-12 < 2e-16 < 2e-16 < 2e-16\n",
      "\n",
      "P value adjustment method: bonferroni \n"
     ]
    }
   ],
   "source": [
    "DF %>% \n",
    "    select(ck56:uroplakin) %>% \n",
    "    gather(key = \"Biomarker\", value = \"Expression\") %>% \n",
    "    summarize_nums(Expression, Biomarker)"
   ]
  },
  {
   "cell_type": "markdown",
   "metadata": {
    "lines_to_next_cell": 0
   },
   "source": [
    "### Biomarker and histology\n",
    "#### CK5/6"
   ]
  },
  {
   "cell_type": "code",
   "execution_count": 17,
   "metadata": {},
   "outputs": [
    {
     "name": "stdout",
     "output_type": "stream",
     "text": [
      "\u001b[38;5;246m# A tibble: 4 x 9\u001b[39m\n",
      "  Levels       N  Mean    SD Median   IQR   Min   Max Missing\n",
      "  \u001b[3m\u001b[38;5;246m<fct>\u001b[39m\u001b[23m    \u001b[3m\u001b[38;5;246m<int>\u001b[39m\u001b[23m \u001b[3m\u001b[38;5;246m<dbl>\u001b[39m\u001b[23m \u001b[3m\u001b[38;5;246m<dbl>\u001b[39m\u001b[23m  \u001b[3m\u001b[38;5;246m<dbl>\u001b[39m\u001b[23m \u001b[3m\u001b[38;5;246m<dbl>\u001b[39m\u001b[23m \u001b[3m\u001b[38;5;246m<dbl>\u001b[39m\u001b[23m \u001b[3m\u001b[38;5;246m<dbl>\u001b[39m\u001b[23m   \u001b[3m\u001b[38;5;246m<int>\u001b[39m\u001b[23m\n",
      "\u001b[38;5;250m1\u001b[39m CIS         21  30.4  33.7     15  35       0    90       9\n",
      "\u001b[38;5;250m2\u001b[39m LG         114  36.6  31.1     30  57.5     0   100      20\n",
      "\u001b[38;5;250m3\u001b[39m HG         168  24.7  27.0     10  35       0   100      33\n",
      "\u001b[38;5;250m4\u001b[39m Invasive   108  24.1  28.6     10  25       0   100      14\n",
      "\n",
      "\tKruskal-Wallis rank sum test\n",
      "\n",
      "data:  x by y\n",
      "Kruskal-Wallis chi-squared = 11.225, df = 3, p-value = 0.01057\n",
      "\n",
      "\n",
      "\tPairwise comparisons using Wilcoxon rank sum test \n",
      "\n",
      "data:  x and y \n",
      "\n",
      "         CIS   LG    HG   \n",
      "LG       1.000 -     -    \n",
      "HG       1.000 0.030 -    \n",
      "Invasive 1.000 0.016 1.000\n",
      "\n",
      "P value adjustment method: bonferroni \n"
     ]
    }
   ],
   "source": [
    "DF %>% \n",
    "    mutate(\n",
    "        marker = ck56,\n",
    "        feature = histo_dx\n",
    "    ) %>% \n",
    "    summarize_nums(marker, feature)"
   ]
  },
  {
   "cell_type": "markdown",
   "metadata": {
    "lines_to_next_cell": 0
   },
   "source": [
    "#### CD44"
   ]
  },
  {
   "cell_type": "code",
   "execution_count": 18,
   "metadata": {},
   "outputs": [
    {
     "name": "stdout",
     "output_type": "stream",
     "text": [
      "\u001b[38;5;246m# A tibble: 4 x 9\u001b[39m\n",
      "  Levels       N  Mean    SD Median   IQR   Min   Max Missing\n",
      "  \u001b[3m\u001b[38;5;246m<fct>\u001b[39m\u001b[23m    \u001b[3m\u001b[38;5;246m<int>\u001b[39m\u001b[23m \u001b[3m\u001b[38;5;246m<dbl>\u001b[39m\u001b[23m \u001b[3m\u001b[38;5;246m<dbl>\u001b[39m\u001b[23m  \u001b[3m\u001b[38;5;246m<dbl>\u001b[39m\u001b[23m \u001b[3m\u001b[38;5;246m<dbl>\u001b[39m\u001b[23m \u001b[3m\u001b[38;5;246m<dbl>\u001b[39m\u001b[23m \u001b[3m\u001b[38;5;246m<dbl>\u001b[39m\u001b[23m   \u001b[3m\u001b[38;5;246m<int>\u001b[39m\u001b[23m\n",
      "\u001b[38;5;250m1\u001b[39m CIS         21  71.4  25.1     80    40    20   100       7\n",
      "\u001b[38;5;250m2\u001b[39m LG         114  61.3  31.2     70    60     0   100      30\n",
      "\u001b[38;5;250m3\u001b[39m HG         168  45.0  33.9     40    70     0   100      45\n",
      "\u001b[38;5;250m4\u001b[39m Invasive   108  47.7  33.7     45    60     0   100      24\n",
      "\n",
      "\tKruskal-Wallis rank sum test\n",
      "\n",
      "data:  x by y\n",
      "Kruskal-Wallis chi-squared = 16.759, df = 3, p-value = 0.000792\n",
      "\n",
      "\n",
      "\tPairwise comparisons using Wilcoxon rank sum test \n",
      "\n",
      "data:  x and y \n",
      "\n",
      "         CIS    LG     HG    \n",
      "LG       1.0000 -      -     \n",
      "HG       0.0370 0.0064 -     \n",
      "Invasive 0.0886 0.0699 1.0000\n",
      "\n",
      "P value adjustment method: bonferroni \n"
     ]
    }
   ],
   "source": [
    "DF %>% \n",
    "    mutate(\n",
    "        marker = cd44,\n",
    "        feature = histo_dx\n",
    "    ) %>% \n",
    "    summarize_nums(marker, feature)"
   ]
  },
  {
   "cell_type": "markdown",
   "metadata": {
    "lines_to_next_cell": 0
   },
   "source": [
    "#### CK20"
   ]
  },
  {
   "cell_type": "code",
   "execution_count": 19,
   "metadata": {},
   "outputs": [
    {
     "name": "stdout",
     "output_type": "stream",
     "text": [
      "\u001b[38;5;246m# A tibble: 4 x 9\u001b[39m\n",
      "  Levels       N  Mean    SD Median   IQR   Min   Max Missing\n",
      "  \u001b[3m\u001b[38;5;246m<fct>\u001b[39m\u001b[23m    \u001b[3m\u001b[38;5;246m<int>\u001b[39m\u001b[23m \u001b[3m\u001b[38;5;246m<dbl>\u001b[39m\u001b[23m \u001b[3m\u001b[38;5;246m<dbl>\u001b[39m\u001b[23m  \u001b[3m\u001b[38;5;246m<dbl>\u001b[39m\u001b[23m \u001b[3m\u001b[38;5;246m<dbl>\u001b[39m\u001b[23m \u001b[3m\u001b[38;5;246m<dbl>\u001b[39m\u001b[23m \u001b[3m\u001b[38;5;246m<dbl>\u001b[39m\u001b[23m   \u001b[3m\u001b[38;5;246m<int>\u001b[39m\u001b[23m\n",
      "\u001b[38;5;250m1\u001b[39m CIS         21  36.5  42.9     10    85     0   100       8\n",
      "\u001b[38;5;250m2\u001b[39m LG         114  22.5  32.4      0    30     0   100      21\n",
      "\u001b[38;5;250m3\u001b[39m HG         168  31.1  36.1     10    70     0   100      32\n",
      "\u001b[38;5;250m4\u001b[39m Invasive   108  30.5  36.9      5    70     0   100      14\n",
      "\n",
      "\tKruskal-Wallis rank sum test\n",
      "\n",
      "data:  x by y\n",
      "Kruskal-Wallis chi-squared = 5.406, df = 3, p-value = 0.1444\n",
      "\n",
      "\n",
      "\tPairwise comparisons using Wilcoxon rank sum test \n",
      "\n",
      "data:  x and y \n",
      "\n",
      "         CIS  LG   HG  \n",
      "LG       0.62 -    -   \n",
      "HG       1.00 0.25 -   \n",
      "Invasive 1.00 1.00 1.00\n",
      "\n",
      "P value adjustment method: bonferroni \n"
     ]
    }
   ],
   "source": [
    "DF %>% \n",
    "    mutate(\n",
    "        marker = ck20,\n",
    "        feature = histo_dx\n",
    "    ) %>% \n",
    "    summarize_nums(marker, feature)"
   ]
  },
  {
   "cell_type": "markdown",
   "metadata": {
    "lines_to_next_cell": 0
   },
   "source": [
    "#### GATA3"
   ]
  },
  {
   "cell_type": "code",
   "execution_count": 20,
   "metadata": {},
   "outputs": [
    {
     "name": "stdout",
     "output_type": "stream",
     "text": [
      "\u001b[38;5;246m# A tibble: 4 x 9\u001b[39m\n",
      "  Levels       N  Mean    SD Median   IQR   Min   Max Missing\n",
      "  \u001b[3m\u001b[38;5;246m<fct>\u001b[39m\u001b[23m    \u001b[3m\u001b[38;5;246m<int>\u001b[39m\u001b[23m \u001b[3m\u001b[38;5;246m<dbl>\u001b[39m\u001b[23m \u001b[3m\u001b[38;5;246m<dbl>\u001b[39m\u001b[23m  \u001b[3m\u001b[38;5;246m<dbl>\u001b[39m\u001b[23m \u001b[3m\u001b[38;5;246m<dbl>\u001b[39m\u001b[23m \u001b[3m\u001b[38;5;246m<dbl>\u001b[39m\u001b[23m \u001b[3m\u001b[38;5;246m<dbl>\u001b[39m\u001b[23m   \u001b[3m\u001b[38;5;246m<int>\u001b[39m\u001b[23m\n",
      "\u001b[38;5;250m1\u001b[39m CIS         21 100    0       100     0   100   100       8\n",
      "\u001b[38;5;250m2\u001b[39m LG         114  98.9  6.10    100     0    50   100      19\n",
      "\u001b[38;5;250m3\u001b[39m HG         168  99.1  4.03    100     0    70   100      29\n",
      "\u001b[38;5;250m4\u001b[39m Invasive   108  99.0  5.60    100     0    60   100      17\n",
      "\n",
      "\tKruskal-Wallis rank sum test\n",
      "\n",
      "data:  x by y\n",
      "Kruskal-Wallis chi-squared = 1.002, df = 3, p-value = 0.8008\n",
      "\n",
      "\n",
      "\tPairwise comparisons using Wilcoxon rank sum test \n",
      "\n",
      "data:  x and y \n",
      "\n",
      "         CIS LG HG\n",
      "LG       1   -  - \n",
      "HG       1   1  - \n",
      "Invasive 1   1  1 \n",
      "\n",
      "P value adjustment method: bonferroni \n"
     ]
    }
   ],
   "source": [
    "DF %>% \n",
    "    mutate(\n",
    "        marker = gata3,\n",
    "        feature = histo_dx\n",
    "    ) %>% \n",
    "    summarize_nums(marker, feature)"
   ]
  },
  {
   "cell_type": "markdown",
   "metadata": {
    "lines_to_next_cell": 0
   },
   "source": [
    "#### ER"
   ]
  },
  {
   "cell_type": "code",
   "execution_count": 21,
   "metadata": {},
   "outputs": [
    {
     "name": "stdout",
     "output_type": "stream",
     "text": [
      "\u001b[38;5;246m# A tibble: 4 x 9\u001b[39m\n",
      "  Levels       N  Mean    SD Median   IQR   Min   Max Missing\n",
      "  \u001b[3m\u001b[38;5;246m<fct>\u001b[39m\u001b[23m    \u001b[3m\u001b[38;5;246m<int>\u001b[39m\u001b[23m \u001b[3m\u001b[38;5;246m<dbl>\u001b[39m\u001b[23m \u001b[3m\u001b[38;5;246m<dbl>\u001b[39m\u001b[23m  \u001b[3m\u001b[38;5;246m<dbl>\u001b[39m\u001b[23m \u001b[3m\u001b[38;5;246m<dbl>\u001b[39m\u001b[23m \u001b[3m\u001b[38;5;246m<dbl>\u001b[39m\u001b[23m \u001b[3m\u001b[38;5;246m<dbl>\u001b[39m\u001b[23m   \u001b[3m\u001b[38;5;246m<int>\u001b[39m\u001b[23m\n",
      "\u001b[38;5;250m1\u001b[39m CIS         21 1.43   5.35      0     0     0    20       7\n",
      "\u001b[38;5;250m2\u001b[39m LG         114 0.532  2.48      0     0     0    20      20\n",
      "\u001b[38;5;250m3\u001b[39m HG         168 1.23   5.33      0     0     0    40      30\n",
      "\u001b[38;5;250m4\u001b[39m Invasive   108 3.52  10.6       0     0     0    60      17\n",
      "\n",
      "\tKruskal-Wallis rank sum test\n",
      "\n",
      "data:  x by y\n",
      "Kruskal-Wallis chi-squared = 4.7291, df = 3, p-value = 0.1927\n",
      "\n",
      "\n",
      "\tPairwise comparisons using Wilcoxon rank sum test \n",
      "\n",
      "data:  x and y \n",
      "\n",
      "         CIS  LG   HG  \n",
      "LG       1.00 -    -   \n",
      "HG       1.00 1.00 -   \n",
      "Invasive 1.00 0.23 1.00\n",
      "\n",
      "P value adjustment method: bonferroni \n"
     ]
    }
   ],
   "source": [
    "DF %>% \n",
    "    mutate(\n",
    "        marker = er,\n",
    "        feature = histo_dx\n",
    "    ) %>% \n",
    "    summarize_nums(marker, feature)"
   ]
  },
  {
   "cell_type": "markdown",
   "metadata": {
    "lines_to_next_cell": 0
   },
   "source": [
    "#### HER2"
   ]
  },
  {
   "cell_type": "code",
   "execution_count": 22,
   "metadata": {},
   "outputs": [
    {
     "name": "stdout",
     "output_type": "stream",
     "text": [
      "\u001b[38;5;246m# A tibble: 4 x 9\u001b[39m\n",
      "  Levels       N  Mean    SD Median   IQR   Min   Max Missing\n",
      "  \u001b[3m\u001b[38;5;246m<fct>\u001b[39m\u001b[23m    \u001b[3m\u001b[38;5;246m<int>\u001b[39m\u001b[23m \u001b[3m\u001b[38;5;246m<dbl>\u001b[39m\u001b[23m \u001b[3m\u001b[38;5;246m<dbl>\u001b[39m\u001b[23m  \u001b[3m\u001b[38;5;246m<dbl>\u001b[39m\u001b[23m \u001b[3m\u001b[38;5;246m<dbl>\u001b[39m\u001b[23m \u001b[3m\u001b[38;5;246m<dbl>\u001b[39m\u001b[23m \u001b[3m\u001b[38;5;246m<dbl>\u001b[39m\u001b[23m   \u001b[3m\u001b[38;5;246m<int>\u001b[39m\u001b[23m\n",
      "\u001b[38;5;250m1\u001b[39m CIS         21  51.2  48.4     55   100     0   100       9\n",
      "\u001b[38;5;250m2\u001b[39m LG         114  35.8  36.4     30    70     0   100      18\n",
      "\u001b[38;5;250m3\u001b[39m HG         168  38.2  34.2     30    55     0   100      28\n",
      "\u001b[38;5;250m4\u001b[39m Invasive   108  45.4  36.2     40    70     0   100      14\n",
      "\n",
      "\tKruskal-Wallis rank sum test\n",
      "\n",
      "data:  x by y\n",
      "Kruskal-Wallis chi-squared = 5.1666, df = 3, p-value = 0.16\n",
      "\n",
      "\n",
      "\tPairwise comparisons using Wilcoxon rank sum test \n",
      "\n",
      "data:  x and y \n",
      "\n",
      "         CIS  LG   HG  \n",
      "LG       1.00 -    -   \n",
      "HG       1.00 1.00 -   \n",
      "Invasive 1.00 0.26 0.76\n",
      "\n",
      "P value adjustment method: bonferroni \n"
     ]
    }
   ],
   "source": [
    "DF %>% \n",
    "    mutate(\n",
    "        marker = her2,\n",
    "        feature = histo_dx\n",
    "    ) %>% \n",
    "    summarize_nums(marker, feature)"
   ]
  },
  {
   "cell_type": "markdown",
   "metadata": {
    "lines_to_next_cell": 0
   },
   "source": [
    "#### Uroplakin"
   ]
  },
  {
   "cell_type": "code",
   "execution_count": 23,
   "metadata": {},
   "outputs": [
    {
     "name": "stdout",
     "output_type": "stream",
     "text": [
      "\u001b[38;5;246m# A tibble: 4 x 9\u001b[39m\n",
      "  Levels       N  Mean    SD Median   IQR   Min   Max Missing\n",
      "  \u001b[3m\u001b[38;5;246m<fct>\u001b[39m\u001b[23m    \u001b[3m\u001b[38;5;246m<int>\u001b[39m\u001b[23m \u001b[3m\u001b[38;5;246m<dbl>\u001b[39m\u001b[23m \u001b[3m\u001b[38;5;246m<dbl>\u001b[39m\u001b[23m  \u001b[3m\u001b[38;5;246m<dbl>\u001b[39m\u001b[23m \u001b[3m\u001b[38;5;246m<dbl>\u001b[39m\u001b[23m \u001b[3m\u001b[38;5;246m<dbl>\u001b[39m\u001b[23m \u001b[3m\u001b[38;5;246m<dbl>\u001b[39m\u001b[23m   \u001b[3m\u001b[38;5;246m<int>\u001b[39m\u001b[23m\n",
      "\u001b[38;5;250m1\u001b[39m CIS         21  33.3  43.9    7.5    90     0   100       9\n",
      "\u001b[38;5;250m2\u001b[39m LG         114  12.6  17.8    5      20     0    70      27\n",
      "\u001b[38;5;250m3\u001b[39m HG         168  14.3  25.1    5      10     0   100      34\n",
      "\u001b[38;5;250m4\u001b[39m Invasive   108  17.3  25.6   10      20     0   100      26\n",
      "\n",
      "\tKruskal-Wallis rank sum test\n",
      "\n",
      "data:  x by y\n",
      "Kruskal-Wallis chi-squared = 4.2708, df = 3, p-value = 0.2337\n",
      "\n",
      "\n",
      "\tPairwise comparisons using Wilcoxon rank sum test \n",
      "\n",
      "data:  x and y \n",
      "\n",
      "         CIS  LG   HG  \n",
      "LG       1.00 -    -   \n",
      "HG       1.00 1.00 -   \n",
      "Invasive 1.00 1.00 0.48\n",
      "\n",
      "P value adjustment method: bonferroni \n"
     ]
    }
   ],
   "source": [
    "DF %>% \n",
    "    mutate(\n",
    "        marker = uroplakin,\n",
    "        feature = histo_dx\n",
    "    ) %>% \n",
    "    summarize_nums(marker, feature)"
   ]
  },
  {
   "cell_type": "markdown",
   "metadata": {
    "lines_to_next_cell": 0
   },
   "source": [
    "### Biomarker and stage\n",
    "#### CK5/6"
   ]
  },
  {
   "cell_type": "code",
   "execution_count": 24,
   "metadata": {},
   "outputs": [
    {
     "name": "stdout",
     "output_type": "stream",
     "text": [
      "\u001b[38;5;246m# A tibble: 5 x 9\u001b[39m\n",
      "  Levels     N  Mean    SD Median   IQR   Min   Max Missing\n",
      "  \u001b[3m\u001b[38;5;246m<fct>\u001b[39m\u001b[23m  \u001b[3m\u001b[38;5;246m<int>\u001b[39m\u001b[23m \u001b[3m\u001b[38;5;246m<dbl>\u001b[39m\u001b[23m \u001b[3m\u001b[38;5;246m<dbl>\u001b[39m\u001b[23m  \u001b[3m\u001b[38;5;246m<dbl>\u001b[39m\u001b[23m \u001b[3m\u001b[38;5;246m<dbl>\u001b[39m\u001b[23m \u001b[3m\u001b[38;5;246m<dbl>\u001b[39m\u001b[23m \u001b[3m\u001b[38;5;246m<dbl>\u001b[39m\u001b[23m   \u001b[3m\u001b[38;5;246m<int>\u001b[39m\u001b[23m\n",
      "\u001b[38;5;250m1\u001b[39m Tis       15  25    28.7     20  25       0    90       7\n",
      "\u001b[38;5;250m2\u001b[39m Ta       203  30.6  29.2     20  42.5     0   100      41\n",
      "\u001b[38;5;250m3\u001b[39m T1       161  23.1  27.7     10  25       0   100      22\n",
      "\u001b[38;5;250m4\u001b[39m T2        21  31.5  33.9     20  43.8     0    90       1\n",
      "\u001b[38;5;250m5\u001b[39m \u001b[31mNA\u001b[39m        11  68.3  11.7     65  10      60    90       5\n",
      "\n",
      "\tKruskal-Wallis rank sum test\n",
      "\n",
      "data:  x by y\n",
      "Kruskal-Wallis chi-squared = 8.1625, df = 3, p-value = 0.04277\n",
      "\n",
      "\n",
      "\tPairwise comparisons using Wilcoxon rank sum test \n",
      "\n",
      "data:  x and y \n",
      "\n",
      "   Tis   Ta    T1   \n",
      "Ta 1.000 -     -    \n",
      "T1 1.000 0.025 -    \n",
      "T2 1.000 1.000 1.000\n",
      "\n",
      "P value adjustment method: bonferroni \n"
     ]
    }
   ],
   "source": [
    "DF %>% \n",
    "    mutate(\n",
    "        marker = ck56,\n",
    "        feature = pt_stage\n",
    "    ) %>% \n",
    "    summarize_nums(marker, feature)"
   ]
  },
  {
   "cell_type": "markdown",
   "metadata": {
    "lines_to_next_cell": 0
   },
   "source": [
    "#### CD44"
   ]
  },
  {
   "cell_type": "code",
   "execution_count": 25,
   "metadata": {},
   "outputs": [
    {
     "name": "stdout",
     "output_type": "stream",
     "text": [
      "\u001b[38;5;246m# A tibble: 5 x 9\u001b[39m\n",
      "  Levels     N  Mean    SD Median   IQR   Min   Max Missing\n",
      "  \u001b[3m\u001b[38;5;246m<fct>\u001b[39m\u001b[23m  \u001b[3m\u001b[38;5;246m<int>\u001b[39m\u001b[23m \u001b[3m\u001b[38;5;246m<dbl>\u001b[39m\u001b[23m \u001b[3m\u001b[38;5;246m<dbl>\u001b[39m\u001b[23m  \u001b[3m\u001b[38;5;246m<dbl>\u001b[39m\u001b[23m \u001b[3m\u001b[38;5;246m<dbl>\u001b[39m\u001b[23m \u001b[3m\u001b[38;5;246m<dbl>\u001b[39m\u001b[23m \u001b[3m\u001b[38;5;246m<dbl>\u001b[39m\u001b[23m   \u001b[3m\u001b[38;5;246m<int>\u001b[39m\u001b[23m\n",
      "\u001b[38;5;250m1\u001b[39m Tis       15  60    35.7     80  50       0   100       6\n",
      "\u001b[38;5;250m2\u001b[39m Ta       203  54.8  33.3     60  70       0   100      53\n",
      "\u001b[38;5;250m3\u001b[39m T1       161  46.8  33.7     40  70       0   100      36\n",
      "\u001b[38;5;250m4\u001b[39m T2        21  40.8  30.1     30  40       5    90       8\n",
      "\u001b[38;5;250m5\u001b[39m \u001b[31mNA\u001b[39m        11  71.2  30.9     85  27.5    10   100       3\n",
      "\n",
      "\tKruskal-Wallis rank sum test\n",
      "\n",
      "data:  x by y\n",
      "Kruskal-Wallis chi-squared = 6.0429, df = 3, p-value = 0.1095\n",
      "\n",
      "\n",
      "\tPairwise comparisons using Wilcoxon rank sum test \n",
      "\n",
      "data:  x and y \n",
      "\n",
      "   Tis  Ta   T1  \n",
      "Ta 1.00 -    -   \n",
      "T1 1.00 0.26 -   \n",
      "T2 1.00 0.83 1.00\n",
      "\n",
      "P value adjustment method: bonferroni \n"
     ]
    }
   ],
   "source": [
    "DF %>% \n",
    "    mutate(\n",
    "        marker = cd44,\n",
    "        feature = pt_stage\n",
    "    ) %>% \n",
    "    summarize_nums(marker, feature)"
   ]
  },
  {
   "cell_type": "markdown",
   "metadata": {
    "lines_to_next_cell": 0
   },
   "source": [
    "#### CK20"
   ]
  },
  {
   "cell_type": "code",
   "execution_count": 26,
   "metadata": {},
   "outputs": [
    {
     "name": "stdout",
     "output_type": "stream",
     "text": [
      "\u001b[38;5;246m# A tibble: 5 x 9\u001b[39m\n",
      "  Levels     N  Mean    SD Median   IQR   Min   Max Missing\n",
      "  \u001b[3m\u001b[38;5;246m<fct>\u001b[39m\u001b[23m  \u001b[3m\u001b[38;5;246m<int>\u001b[39m\u001b[23m \u001b[3m\u001b[38;5;246m<dbl>\u001b[39m\u001b[23m \u001b[3m\u001b[38;5;246m<dbl>\u001b[39m\u001b[23m  \u001b[3m\u001b[38;5;246m<dbl>\u001b[39m\u001b[23m \u001b[3m\u001b[38;5;246m<dbl>\u001b[39m\u001b[23m \u001b[3m\u001b[38;5;246m<dbl>\u001b[39m\u001b[23m \u001b[3m\u001b[38;5;246m<dbl>\u001b[39m\u001b[23m   \u001b[3m\u001b[38;5;246m<int>\u001b[39m\u001b[23m\n",
      "\u001b[38;5;250m1\u001b[39m Tis       15 26.2   45.6    2.5  28.8     0   100       7\n",
      "\u001b[38;5;250m2\u001b[39m Ta       203 26.1   32.9    5    50       0    90      42\n",
      "\u001b[38;5;250m3\u001b[39m T1       161 33.0   37.5   10    70       0   100      20\n",
      "\u001b[38;5;250m4\u001b[39m T2        21 28.5   43.0    0    75       0   100       1\n",
      "\u001b[38;5;250m5\u001b[39m \u001b[31mNA\u001b[39m        11  6.67  12.1    0     7.5     0    30       5\n",
      "\n",
      "\tKruskal-Wallis rank sum test\n",
      "\n",
      "data:  x by y\n",
      "Kruskal-Wallis chi-squared = 2.6592, df = 3, p-value = 0.4472\n",
      "\n",
      "\n",
      "\tPairwise comparisons using Wilcoxon rank sum test \n",
      "\n",
      "data:  x and y \n",
      "\n",
      "   Tis  Ta   T1  \n",
      "Ta 1.00 -    -   \n",
      "T1 1.00 0.87 -   \n",
      "T2 1.00 1.00 1.00\n",
      "\n",
      "P value adjustment method: bonferroni \n"
     ]
    }
   ],
   "source": [
    "DF %>% \n",
    "    mutate(\n",
    "        marker = ck20,\n",
    "        feature = pt_stage\n",
    "    ) %>% \n",
    "    summarize_nums(marker, feature)"
   ]
  },
  {
   "cell_type": "markdown",
   "metadata": {
    "lines_to_next_cell": 0
   },
   "source": [
    "#### GATA3"
   ]
  },
  {
   "cell_type": "code",
   "execution_count": 27,
   "metadata": {},
   "outputs": [
    {
     "name": "stdout",
     "output_type": "stream",
     "text": [
      "\u001b[38;5;246m# A tibble: 5 x 9\u001b[39m\n",
      "  Levels     N  Mean    SD Median   IQR   Min   Max Missing\n",
      "  \u001b[3m\u001b[38;5;246m<fct>\u001b[39m\u001b[23m  \u001b[3m\u001b[38;5;246m<int>\u001b[39m\u001b[23m \u001b[3m\u001b[38;5;246m<dbl>\u001b[39m\u001b[23m \u001b[3m\u001b[38;5;246m<dbl>\u001b[39m\u001b[23m  \u001b[3m\u001b[38;5;246m<dbl>\u001b[39m\u001b[23m \u001b[3m\u001b[38;5;246m<dbl>\u001b[39m\u001b[23m \u001b[3m\u001b[38;5;246m<dbl>\u001b[39m\u001b[23m \u001b[3m\u001b[38;5;246m<dbl>\u001b[39m\u001b[23m   \u001b[3m\u001b[38;5;246m<int>\u001b[39m\u001b[23m\n",
      "\u001b[38;5;250m1\u001b[39m Tis       15 100    0       100     0   100   100       7\n",
      "\u001b[38;5;250m2\u001b[39m Ta       203  99.2  5.13    100     0    50   100      37\n",
      "\u001b[38;5;250m3\u001b[39m T1       161  98.7  5.50    100     0    60   100      22\n",
      "\u001b[38;5;250m4\u001b[39m T2        21 100    0       100     0   100   100       3\n",
      "\u001b[38;5;250m5\u001b[39m \u001b[31mNA\u001b[39m        11 100    0       100     0   100   100       4\n",
      "\n",
      "\tKruskal-Wallis rank sum test\n",
      "\n",
      "data:  x by y\n",
      "Kruskal-Wallis chi-squared = 3.5226, df = 3, p-value = 0.3178\n",
      "\n",
      "\n",
      "\tPairwise comparisons using Wilcoxon rank sum test \n",
      "\n",
      "data:  x and y \n",
      "\n",
      "   Tis  Ta   T1  \n",
      "Ta 1.00 -    -   \n",
      "T1 1.00 0.82 -   \n",
      "T2 -    1.00 1.00\n",
      "\n",
      "P value adjustment method: bonferroni \n"
     ]
    }
   ],
   "source": [
    "DF %>% \n",
    "    mutate(\n",
    "        marker = gata3,\n",
    "        feature = pt_stage\n",
    "    ) %>% \n",
    "    summarize_nums(marker, feature)"
   ]
  },
  {
   "cell_type": "markdown",
   "metadata": {
    "lines_to_next_cell": 0
   },
   "source": [
    "#### ER"
   ]
  },
  {
   "cell_type": "code",
   "execution_count": 28,
   "metadata": {},
   "outputs": [
    {
     "name": "stdout",
     "output_type": "stream",
     "text": [
      "\u001b[38;5;246m# A tibble: 5 x 9\u001b[39m\n",
      "  Levels     N  Mean    SD Median   IQR   Min   Max Missing\n",
      "  \u001b[3m\u001b[38;5;246m<fct>\u001b[39m\u001b[23m  \u001b[3m\u001b[38;5;246m<int>\u001b[39m\u001b[23m \u001b[3m\u001b[38;5;246m<dbl>\u001b[39m\u001b[23m \u001b[3m\u001b[38;5;246m<dbl>\u001b[39m\u001b[23m  \u001b[3m\u001b[38;5;246m<dbl>\u001b[39m\u001b[23m \u001b[3m\u001b[38;5;246m<dbl>\u001b[39m\u001b[23m \u001b[3m\u001b[38;5;246m<dbl>\u001b[39m\u001b[23m \u001b[3m\u001b[38;5;246m<dbl>\u001b[39m\u001b[23m   \u001b[3m\u001b[38;5;246m<int>\u001b[39m\u001b[23m\n",
      "\u001b[38;5;250m1\u001b[39m Tis       15 2.22   6.67      0     0     0    20       6\n",
      "\u001b[38;5;250m2\u001b[39m Ta       203 0.697  3.57      0     0     0    40      38\n",
      "\u001b[38;5;250m3\u001b[39m T1       161 2.61   8.95      0     0     0    60      21\n",
      "\u001b[38;5;250m4\u001b[39m T2        21 2.5   10         0     0     0    40       5\n",
      "\u001b[38;5;250m5\u001b[39m \u001b[31mNA\u001b[39m        11 2.86   3.93      0     5     0    10       4\n",
      "\n",
      "\tKruskal-Wallis rank sum test\n",
      "\n",
      "data:  x by y\n",
      "Kruskal-Wallis chi-squared = 3.1836, df = 3, p-value = 0.3642\n",
      "\n",
      "\n",
      "\tPairwise comparisons using Wilcoxon rank sum test \n",
      "\n",
      "data:  x and y \n",
      "\n",
      "   Tis  Ta   T1  \n",
      "Ta 1.00 -    -   \n",
      "T1 1.00 0.51 -   \n",
      "T2 1.00 1.00 1.00\n",
      "\n",
      "P value adjustment method: bonferroni \n"
     ]
    }
   ],
   "source": [
    "DF %>% \n",
    "    mutate(\n",
    "        marker = er,\n",
    "        feature = pt_stage\n",
    "    ) %>% \n",
    "    summarize_nums(marker, feature)"
   ]
  },
  {
   "cell_type": "markdown",
   "metadata": {
    "lines_to_next_cell": 0
   },
   "source": [
    "#### HER2"
   ]
  },
  {
   "cell_type": "code",
   "execution_count": 29,
   "metadata": {},
   "outputs": [
    {
     "name": "stdout",
     "output_type": "stream",
     "text": [
      "\u001b[38;5;246m# A tibble: 5 x 9\u001b[39m\n",
      "  Levels     N  Mean    SD Median   IQR   Min   Max Missing\n",
      "  \u001b[3m\u001b[38;5;246m<fct>\u001b[39m\u001b[23m  \u001b[3m\u001b[38;5;246m<int>\u001b[39m\u001b[23m \u001b[3m\u001b[38;5;246m<dbl>\u001b[39m\u001b[23m \u001b[3m\u001b[38;5;246m<dbl>\u001b[39m\u001b[23m  \u001b[3m\u001b[38;5;246m<dbl>\u001b[39m\u001b[23m \u001b[3m\u001b[38;5;246m<dbl>\u001b[39m\u001b[23m \u001b[3m\u001b[38;5;246m<dbl>\u001b[39m\u001b[23m \u001b[3m\u001b[38;5;246m<dbl>\u001b[39m\u001b[23m   \u001b[3m\u001b[38;5;246m<int>\u001b[39m\u001b[23m\n",
      "\u001b[38;5;250m1\u001b[39m Tis       15  32.9  47.2      0  65       0   100       8\n",
      "\u001b[38;5;250m2\u001b[39m Ta       203  35.9  34.0     30  65       0   100      36\n",
      "\u001b[38;5;250m3\u001b[39m T1       161  44.3  37.1     40  75       0   100      16\n",
      "\u001b[38;5;250m4\u001b[39m T2        21  59.1  36.9     65  60       0   100       5\n",
      "\u001b[38;5;250m5\u001b[39m \u001b[31mNA\u001b[39m        11  11.4  16.5      5  17.5     0    40       4\n",
      "\n",
      "\tKruskal-Wallis rank sum test\n",
      "\n",
      "data:  x by y\n",
      "Kruskal-Wallis chi-squared = 8.8682, df = 3, p-value = 0.0311\n",
      "\n",
      "\n",
      "\tPairwise comparisons using Wilcoxon rank sum test \n",
      "\n",
      "data:  x and y \n",
      "\n",
      "   Tis  Ta   T1  \n",
      "Ta 1.00 -    -   \n",
      "T1 1.00 0.24 -   \n",
      "T2 1.00 0.10 0.91\n",
      "\n",
      "P value adjustment method: bonferroni \n"
     ]
    }
   ],
   "source": [
    "DF %>% \n",
    "    mutate(\n",
    "        marker = her2,\n",
    "        feature = pt_stage\n",
    "    ) %>% \n",
    "    summarize_nums(marker, feature)"
   ]
  },
  {
   "cell_type": "markdown",
   "metadata": {
    "lines_to_next_cell": 0
   },
   "source": [
    "#### Uroplakin"
   ]
  },
  {
   "cell_type": "code",
   "execution_count": 30,
   "metadata": {},
   "outputs": [
    {
     "name": "stdout",
     "output_type": "stream",
     "text": [
      "\u001b[38;5;246m# A tibble: 5 x 9\u001b[39m\n",
      "  Levels     N  Mean    SD Median   IQR   Min   Max Missing\n",
      "  \u001b[3m\u001b[38;5;246m<fct>\u001b[39m\u001b[23m  \u001b[3m\u001b[38;5;246m<int>\u001b[39m\u001b[23m \u001b[3m\u001b[38;5;246m<dbl>\u001b[39m\u001b[23m \u001b[3m\u001b[38;5;246m<dbl>\u001b[39m\u001b[23m  \u001b[3m\u001b[38;5;246m<dbl>\u001b[39m\u001b[23m \u001b[3m\u001b[38;5;246m<dbl>\u001b[39m\u001b[23m \u001b[3m\u001b[38;5;246m<dbl>\u001b[39m\u001b[23m \u001b[3m\u001b[38;5;246m<dbl>\u001b[39m\u001b[23m   \u001b[3m\u001b[38;5;246m<int>\u001b[39m\u001b[23m\n",
      "\u001b[38;5;250m1\u001b[39m Tis       15 14.4   30.9    2.5 10        0    90       7\n",
      "\u001b[38;5;250m2\u001b[39m Ta       203 12.3   19.2    5   10        0    90      46\n",
      "\u001b[38;5;250m3\u001b[39m T1       161 20     30.4    5   20        0   100      34\n",
      "\u001b[38;5;250m4\u001b[39m T2        21 12.3   18.0    5   15        0    60       6\n",
      "\u001b[38;5;250m5\u001b[39m \u001b[31mNA\u001b[39m        11  6.25  10.3    2.5  6.25     0    30       3\n",
      "\n",
      "\tKruskal-Wallis rank sum test\n",
      "\n",
      "data:  x by y\n",
      "Kruskal-Wallis chi-squared = 2.0016, df = 3, p-value = 0.5721\n",
      "\n",
      "\n",
      "\tPairwise comparisons using Wilcoxon rank sum test \n",
      "\n",
      "data:  x and y \n",
      "\n",
      "   Tis Ta T1\n",
      "Ta 1   -  - \n",
      "T1 1   1  - \n",
      "T2 1   1  1 \n",
      "\n",
      "P value adjustment method: bonferroni \n"
     ]
    }
   ],
   "source": [
    "DF %>% \n",
    "    mutate(\n",
    "        marker = uroplakin,\n",
    "        feature = pt_stage\n",
    "    ) %>% \n",
    "    summarize_nums(marker, feature)"
   ]
  },
  {
   "cell_type": "markdown",
   "metadata": {},
   "source": [
    "### Correlation between biomarkers"
   ]
  },
  {
   "cell_type": "code",
   "execution_count": 31,
   "metadata": {},
   "outputs": [],
   "source": [
    "# A function to evaluate correlation between markers\n",
    "COR <- function(data, x, y, label = NULL, ...) {\n",
    "    # Data\n",
    "    x = enquo(x)\n",
    "    y = enquo(y)\n",
    "    df <- data %>% \n",
    "        select(x = !! x, y = !! y)\n",
    "    \n",
    "    # Correlation test\n",
    "    cor_tbl <- cor.test(df$x, df$y, ...) %>% \n",
    "        broom::tidy() %>% \n",
    "        mutate(\n",
    "            label = label,\n",
    "            coef = round(estimate, digits = 2),\n",
    "            conf.low = round(conf.low, digits = 2),\n",
    "            conf.high = round(conf.high, digits = 2),\n",
    "            p.value = formatC(p.value, digits = 2, format = \"fg\")\n",
    "        ) %>% \n",
    "        select(\n",
    "            label, coef, conf.low, conf.high, p.value\n",
    "        )\n",
    "    \n",
    "    # Returning the results\n",
    "    return(cor_tbl)\n",
    "}"
   ]
  },
  {
   "cell_type": "code",
   "execution_count": 32,
   "metadata": {},
   "outputs": [
    {
     "name": "stdout",
     "output_type": "stream",
     "text": [
      "\u001b[38;5;246m# A tibble: 10 x 5\u001b[39m\n",
      "   label                     coef conf.low conf.high p.value     \n",
      "   \u001b[3m\u001b[38;5;246m<chr>\u001b[39m\u001b[23m                    \u001b[3m\u001b[38;5;246m<dbl>\u001b[39m\u001b[23m    \u001b[3m\u001b[38;5;246m<dbl>\u001b[39m\u001b[23m     \u001b[3m\u001b[38;5;246m<dbl>\u001b[39m\u001b[23m \u001b[3m\u001b[38;5;246m<chr>\u001b[39m\u001b[23m       \n",
      "\u001b[38;5;250m 1\u001b[39m CK5/6 vs CD44             0.28     0.17      0.38 0.0000017   \n",
      "\u001b[38;5;250m 2\u001b[39m CK20 vs HER2/neu          0.13     0.02      0.23 0.022       \n",
      "\u001b[38;5;250m 3\u001b[39m CK20 vs Uroplakin II      0.19     0.08      0.3  0.00065     \n",
      "\u001b[38;5;250m 4\u001b[39m HER2/neu vs Uroplakin II  0.33     0.23      0.43 0.0000000028\n",
      "\u001b[38;5;250m 5\u001b[39m CK5/6 vs CK20            -\u001b[31m0\u001b[39m\u001b[31m.\u001b[39m\u001b[31m27\u001b[39m    -\u001b[31m0\u001b[39m\u001b[31m.\u001b[39m\u001b[31m37\u001b[39m     -\u001b[31m0\u001b[39m\u001b[31m.\u001b[39m\u001b[31m17\u001b[39m 0.00000047  \n",
      "\u001b[38;5;250m 6\u001b[39m CK5/6 vs HER2/neu        -\u001b[31m0\u001b[39m\u001b[31m.\u001b[39m\u001b[31m15\u001b[39m    -\u001b[31m0\u001b[39m\u001b[31m.\u001b[39m\u001b[31m25\u001b[39m     -\u001b[31m0\u001b[39m\u001b[31m.\u001b[39m\u001b[31m0\u001b[39m\u001b[31m4\u001b[39m 0.0067      \n",
      "\u001b[38;5;250m 7\u001b[39m CK5/6 vs Uroplakin II    -\u001b[31m0\u001b[39m\u001b[31m.\u001b[39m\u001b[31m16\u001b[39m    -\u001b[31m0\u001b[39m\u001b[31m.\u001b[39m\u001b[31m27\u001b[39m     -\u001b[31m0\u001b[39m\u001b[31m.\u001b[39m\u001b[31m0\u001b[39m\u001b[31m5\u001b[39m 0.0058      \n",
      "\u001b[38;5;250m 8\u001b[39m CD44 vs CK20             -\u001b[31m0\u001b[39m\u001b[31m.\u001b[39m\u001b[31m21\u001b[39m    -\u001b[31m0\u001b[39m\u001b[31m.\u001b[39m\u001b[31m32\u001b[39m     -\u001b[31m0\u001b[39m\u001b[31m.\u001b[39m\u001b[31m1\u001b[39m  0.00036     \n",
      "\u001b[38;5;250m 9\u001b[39m CD44 vs HER2/neu         -\u001b[31m0\u001b[39m\u001b[31m.\u001b[39m\u001b[31m23\u001b[39m    -\u001b[31m0\u001b[39m\u001b[31m.\u001b[39m\u001b[31m33\u001b[39m     -\u001b[31m0\u001b[39m\u001b[31m.\u001b[39m\u001b[31m11\u001b[39m 0.0001      \n",
      "\u001b[38;5;250m10\u001b[39m CD44 vs Uroplakin II     -\u001b[31m0\u001b[39m\u001b[31m.\u001b[39m\u001b[31m19\u001b[39m    -\u001b[31m0\u001b[39m\u001b[31m.\u001b[39m\u001b[31m3\u001b[39m      -\u001b[31m0\u001b[39m\u001b[31m.\u001b[39m\u001b[31m0\u001b[39m\u001b[31m8\u001b[39m 0.0011      \n"
     ]
    }
   ],
   "source": [
    "# Basal markers\n",
    "ck56_cd44 <- DF %>% COR(ck56, cd44, \"CK5/6 vs CD44\")\n",
    "\n",
    "# Luminal markers\n",
    "ck20_her2 <- DF %>% COR(ck20, her2, \"CK20 vs HER2/neu\")\n",
    "ck20_uroplakin <- DF %>% COR(ck20, uroplakin, \"CK20 vs Uroplakin II\")\n",
    "her2_uroplakin <- DF %>% COR(her2, uroplakin, \"HER2/neu vs Uroplakin II\")\n",
    "\n",
    "# Basal vs luminal markers\n",
    "ck56_ck20 <- DF %>% COR(ck56, ck20, \"CK5/6 vs CK20\")\n",
    "ck56_her2 <- DF %>% COR(ck56, her2, \"CK5/6 vs HER2/neu\")\n",
    "ck56_uroplakin <- DF %>% COR(ck56, uroplakin, \"CK5/6 vs Uroplakin II\")\n",
    "cd44_ck20 <- DF %>% COR(cd44, ck20, \"CD44 vs CK20\")\n",
    "cd44_her2 <- DF %>% COR(cd44, her2, \"CD44 vs HER2/neu\")\n",
    "cd44_uroplakin <- DF %>% COR(cd44, uroplakin, \"CD44 vs Uroplakin II\")\n",
    "\n",
    "bind_rows(\n",
    "    ck56_cd44,\n",
    "    ck20_her2,\n",
    "    ck20_uroplakin,\n",
    "    her2_uroplakin,\n",
    "    ck56_ck20,\n",
    "    ck56_her2,\n",
    "    ck56_uroplakin,\n",
    "    cd44_ck20,\n",
    "    cd44_her2,\n",
    "    cd44_uroplakin\n",
    ") %>% print()"
   ]
  }
 ],
 "metadata": {
  "jupytext": {
   "cell_metadata_filter": "-all",
   "formats": "ipynb,Rmd",
   "main_language": "R",
   "notebook_metadata_filter": "-all"
  },
  "kernelspec": {
   "display_name": "R",
   "language": "R",
   "name": "ir"
  },
  "language_info": {
   "codemirror_mode": "r",
   "file_extension": ".r",
   "mimetype": "text/x-r-source",
   "name": "R",
   "pygments_lexer": "r",
   "version": "3.5.3"
  },
  "toc": {
   "base_numbering": 1,
   "nav_menu": {},
   "number_sections": true,
   "sideBar": true,
   "skip_h1_title": true,
   "title_cell": "Table of Contents",
   "title_sidebar": "Contents",
   "toc_cell": false,
   "toc_position": {},
   "toc_section_display": true,
   "toc_window_display": true
  }
 },
 "nbformat": 4,
 "nbformat_minor": 2
}
