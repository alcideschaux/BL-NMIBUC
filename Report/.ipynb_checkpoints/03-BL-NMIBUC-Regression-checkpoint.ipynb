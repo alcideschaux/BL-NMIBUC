{
 "cells": [
  {
   "cell_type": "markdown",
   "metadata": {},
   "source": [
    "# Regression models"
   ]
  },
  {
   "cell_type": "code",
   "execution_count": 1,
   "metadata": {},
   "outputs": [
    {
     "name": "stdout",
     "output_type": "stream",
     "text": [
      "Observations: 411\n",
      "Variables: 23\n",
      "$ registry_id            <dbl> 20060035601, 19970063502, 20040008703, 2007008…\n",
      "$ pt_stage               <fct> T1, T1, T2, T1, T1, T1, Tis, T1, T2, Ta, Ta, T…\n",
      "$ sp_id                  <chr> \"06-S-4802\", \"07-S-3788\", \"07-S-8931\", \"07-S-6…\n",
      "$ ck56                   <dbl> 60, 10, 90, NA, NA, 5, NA, 0, 0, 40, NA, 40, 4…\n",
      "$ ck20                   <dbl> 0, 0, 0, NA, 0, 70, NA, 80, 0, 0, NA, 0, 10, N…\n",
      "$ cd44                   <dbl> 70, 60, NA, NA, NA, 40, NA, 5, NA, 60, NA, NA,…\n",
      "$ gata3                  <dbl> 100, 100, 100, NA, 100, 100, NA, 100, 100, 100…\n",
      "$ er                     <dbl> 40, 20, NA, NA, 0, 0, 0, 0, 0, 5, NA, NA, 0, N…\n",
      "$ her2                   <dbl> 0, 5, NA, NA, 60, 30, NA, 40, 60, 60, NA, 30, …\n",
      "$ uroplakin              <dbl> 5, 20, NA, NA, NA, 0, NA, 10, NA, 0, NA, NA, 0…\n",
      "$ sex                    <fct> Male, Male, Male, Male, Male, Male, Female, Ma…\n",
      "$ death                  <fct> Dead, Alive, Dead, Alive, Alive, Alive, Alive,…\n",
      "$ progression_stage_any  <fct> No stage progression, Stage progression, Stage…\n",
      "$ progression_stage_next <fct> No stage progression, No stage progression, No…\n",
      "$ recurrence_any         <fct> No tumor recurrence, Tumor recurrence, Tumor r…\n",
      "$ recurrence_next        <fct> No tumor recurrence, Tumor recurrence, No tumo…\n",
      "$ progression_grade_any  <fct> No grade progression, No grade progression, No…\n",
      "$ progression_grade_next <fct> No grade progression, No grade progression, No…\n",
      "$ age_dx                 <dbl> 77, 71, 89, 59, 76, 68, 59, 71, 71, 60, 56, 78…\n",
      "$ fu_mo                  <dbl> 42.6, 36.0, 3.9, 43.5, 39.1, 16.3, 66.6, 51.5,…\n",
      "$ histo_dx               <fct> HG, HG, HG, HG, HG, HG, CIS, HG, Invasive, HG,…\n",
      "$ date_dx                <dttm> 2006-06-07, 2007-04-17, 2007-09-05, 2007-06-1…\n",
      "$ date_last              <dttm> 2009-12-07, 2010-04-02, 2008-01-01, 2011-01-1…\n"
     ]
    }
   ],
   "source": [
    "# Libraries\n",
    "suppressPackageStartupMessages(library(tidyverse))\n",
    "library(broom)\n",
    "library(survival)\n",
    "suppressPackageStartupMessages(library(survminer))\n",
    "\n",
    "# Global\n",
    "options(warn = -1)\n",
    "\n",
    "# Scripts\n",
    "source(\"summarize.R\")\n",
    "\n",
    "# Data\n",
    "load(\"DF.Rdata\")\n",
    "\n",
    "glimpse(DF)"
   ]
  },
  {
   "cell_type": "code",
   "execution_count": 2,
   "metadata": {},
   "outputs": [
    {
     "name": "stdout",
     "output_type": "stream",
     "text": [
      "Observations: 128\n",
      "Variables: 24\n",
      "$ sp_id                  <chr> \"01-S-10015\", \"01-S-7500\", \"01-S-9347\", \"02-S-…\n",
      "$ ck56                   <dbl> 5.000000, 3.333333, 10.000000, 11.000000, 15.0…\n",
      "$ cd44                   <dbl> 30.000000, 15.000000, 43.333333, 26.000000, 38…\n",
      "$ ck20                   <dbl> 10.000000, 23.333333, 30.000000, 25.000000, 76…\n",
      "$ er                     <dbl> 0.0000000, 0.0000000, 0.0000000, 0.0000000, 0.…\n",
      "$ her2                   <dbl> 36.666667, 0.000000, 18.333333, 1.666667, 50.0…\n",
      "$ gata3                  <dbl> 100.00000, 100.00000, 100.00000, 100.00000, 10…\n",
      "$ uroplakin              <dbl> 0.0000000, 0.0000000, 6.6666667, 6.6666667, 21…\n",
      "$ pt_stage               <fct> Ta, Ta, Ta, T1, T1, T1, T1, T1, Ta, T1, Ta, Ta…\n",
      "$ fu_mo                  <dbl> 85.2, 4.5, 85.2, 57.9, 57.9, 31.3, 31.3, 3.9, …\n",
      "$ recurrence_next        <fct> No tumor recurrence, Tumor recurrence, Tumor r…\n",
      "$ recurrence_any         <fct> Tumor recurrence, Tumor recurrence, Tumor recu…\n",
      "$ progression_grade_next <fct> No grade progression, No grade progression, No…\n",
      "$ progression_grade_any  <fct> No grade progression, No grade progression, No…\n",
      "$ progression_stage_next <fct> No stage progression, No stage progression, No…\n",
      "$ progression_stage_any  <fct> No stage progression, No stage progression, No…\n",
      "$ pt                     <fct> Low pT stage (<pT1), Low pT stage (<pT1), Low …\n",
      "$ ck56_level             <fct> Low CK5/6 expression, Low CK5/6 expression, Lo…\n",
      "$ cd44_level             <fct> Low CD44 expression, Low CD44 expression, Low …\n",
      "$ ck20_level             <fct> Low CK20 expression, Low CK20 expression, High…\n",
      "$ er_level               <fct> Low ER expression, Low ER expression, Low ER e…\n",
      "$ her2_level             <fct> Low HER2 expression, Low HER2 expression, Low …\n",
      "$ gata3_level            <fct> High GATA3 expression, High GATA3 expression, …\n",
      "$ uroplakin_level        <fct> Low Uroplakin expression, Low Uroplakin expres…\n"
     ]
    }
   ],
   "source": [
    "# A function to define which statistics (v.g., median, max value) will be used for summarizing biomarkers expression\n",
    "# If needed, changing this function will update the approach for the entire analysis\n",
    "summarize_biomarker <- function(x) { mean(x, na.rm = TRUE) }\n",
    "\n",
    "# Tidying up the data and summarizing expression\n",
    "OUTCOME <- DF %>% \n",
    "    group_by(sp_id) %>% \n",
    "    summarize(\n",
    "        ck56 = summarize_biomarker(ck56),\n",
    "        cd44 = summarize_biomarker(cd44),\n",
    "        ck20 = summarize_biomarker(ck20),\n",
    "        er = summarize_biomarker(er),\n",
    "        her2 = summarize_biomarker(her2),\n",
    "        gata3 = summarize_biomarker(gata3),\n",
    "        uroplakin = summarize_biomarker(uroplakin),\n",
    "        pt_stage = unique(pt_stage),\n",
    "        fu_mo = unique(fu_mo),\n",
    "        recurrence_next = unique(recurrence_next),\n",
    "        recurrence_any = unique(recurrence_any),\n",
    "        progression_grade_next = unique(progression_grade_next),\n",
    "        progression_grade_any = unique(progression_grade_any),\n",
    "        progression_stage_next = unique(progression_stage_next),\n",
    "        progression_stage_any = unique(progression_stage_any)\n",
    "    ) %>% \n",
    "    mutate(\n",
    "        pt = ifelse(\n",
    "          pt_stage == \"Tis\" | pt_stage == \"Ta\",\n",
    "          \"Low pT stage (<pT1)\", \"High pT stage (pT1-pT2)\"\n",
    "        ),\n",
    "        pt = fct_relevel(pt, \"Low pT stage (<pT1)\"),\n",
    "        ck56_level = ifelse(\n",
    "          ck56 > summarize_biomarker(ck56),\n",
    "          \"High CK5/6 expression\", \"Low CK5/6 expression\"\n",
    "        ),\n",
    "        ck56_level = fct_relevel(ck56_level, \"Low CK5/6 expression\"),\n",
    "        cd44_level = ifelse(\n",
    "          cd44 > summarize_biomarker(cd44),\n",
    "          \"High CD44 expression\", \"Low CD44 expression\"\n",
    "        ),\n",
    "        cd44_level = fct_relevel(cd44_level, \"Low CD44 expression\"),\n",
    "        ck20_level = ifelse(\n",
    "          ck20 > summarize_biomarker(ck20),\n",
    "          \"High CK20 expression\", \"Low CK20 expression\"\n",
    "        ),\n",
    "        ck20_level = fct_relevel(ck20_level, \"Low CK20 expression\"),\n",
    "        er_level = ifelse(\n",
    "          er > summarize_biomarker(er),\n",
    "          \"High ER expression\", \"Low ER expression\"\n",
    "        ),\n",
    "        er_level = fct_relevel(er_level, \"Low CK20 expression\"),\n",
    "        her2_level = ifelse(\n",
    "          her2 > summarize_biomarker(her2),\n",
    "          \"High HER2 expression\", \"Low HER2 expression\"\n",
    "        ),\n",
    "        her2_level = fct_relevel(her2_level, \"Low HER2 expression\"),\n",
    "        gata3_level = ifelse(\n",
    "          gata3 > summarize_biomarker(gata3),\n",
    "          \"High GATA3 expression\", \"Low GATA3 expression\"\n",
    "        ),\n",
    "        gata3_level = fct_relevel(gata3_level, \"Low GATA3 expression\"),\n",
    "        uroplakin_level = ifelse(\n",
    "          uroplakin > summarize_biomarker(uroplakin),\n",
    "          \"High Uroplakin expression\", \"Low Uroplakin expression\"\n",
    "        ),\n",
    "        uroplakin_level = fct_relevel(uroplakin_level, \"Low Uroplakin expression\")\n",
    "    )\n",
    "\n",
    "glimpse(OUTCOME)"
   ]
  },
  {
   "cell_type": "markdown",
   "metadata": {
    "lines_to_next_cell": 0
   },
   "source": [
    "## CK5/6"
   ]
  },
  {
   "cell_type": "code",
   "execution_count": 3,
   "metadata": {},
   "outputs": [
    {
     "name": "stdout",
     "output_type": "stream",
     "text": [
      "# A tibble: 3 x 3\n",
      "  Levels                    N  Freq\n",
      "  <fct>                 <int> <dbl>\n",
      "1 Low CK5/6 expression     70  54.7\n",
      "2 High CK5/6 expression    47  36.7\n",
      "3 <NA>                     11   8.6\n"
     ]
    }
   ],
   "source": [
    "OUTCOME <- OUTCOME %>% \n",
    "  mutate(biomarker_level = ck56_level)\n",
    "OUTCOME %>% summarize_fct(biomarker_level)"
   ]
  },
  {
   "cell_type": "markdown",
   "metadata": {
    "lines_to_next_cell": 0
   },
   "source": [
    "### Tumor recurrence at next biopsy\n",
    "#### Unadjusted"
   ]
  },
  {
   "cell_type": "code",
   "execution_count": 4,
   "metadata": {},
   "outputs": [
    {
     "name": "stdout",
     "output_type": "stream",
     "text": [
      "# A tibble: 1 x 8\n",
      "  term             estimate std.error statistic p.value    or conf.low conf.high\n",
      "  <chr>               <dbl>     <dbl>     <dbl>   <dbl> <dbl>    <dbl>     <dbl>\n",
      "1 biomarker_level…     0.43      0.41      1.04   0.298  1.54     0.68      3.46\n"
     ]
    }
   ],
   "source": [
    "OUTCOME %>% OR(recurrence_next ~ biomarker_level)"
   ]
  },
  {
   "cell_type": "markdown",
   "metadata": {
    "lines_to_next_cell": 0
   },
   "source": [
    "#### Adjusted by pT stage (low vs high)"
   ]
  },
  {
   "cell_type": "code",
   "execution_count": 5,
   "metadata": {},
   "outputs": [
    {
     "name": "stdout",
     "output_type": "stream",
     "text": [
      "# A tibble: 2 x 8\n",
      "  term             estimate std.error statistic p.value    or conf.low conf.high\n",
      "  <chr>               <dbl>     <dbl>     <dbl>   <dbl> <dbl>    <dbl>     <dbl>\n",
      "1 biomarker_level…     0.25      0.43     0.580   0.563  1.28     0.55      2.99\n",
      "2 ptHigh pT stage…    -0.04      0.44    -0.09    0.929  0.96     0.4       2.28\n"
     ]
    }
   ],
   "source": [
    "OUTCOME %>% OR(recurrence_next ~ biomarker_level + pt)"
   ]
  },
  {
   "cell_type": "markdown",
   "metadata": {
    "lines_to_next_cell": 0
   },
   "source": [
    "### Tumor recurrence at any biopsy\n",
    "#### Unadjusted"
   ]
  },
  {
   "cell_type": "code",
   "execution_count": 6,
   "metadata": {},
   "outputs": [
    {
     "name": "stdout",
     "output_type": "stream",
     "text": [
      "# A tibble: 1 x 8\n",
      "  term             estimate std.error statistic p.value    or conf.low conf.high\n",
      "  <chr>               <dbl>     <dbl>     <dbl>   <dbl> <dbl>    <dbl>     <dbl>\n",
      "1 biomarker_level…     0.44      0.66      0.66   0.510  1.55     0.41      5.88\n"
     ]
    }
   ],
   "source": [
    "OUTCOME %>% OR(recurrence_any ~ biomarker_level)"
   ]
  },
  {
   "cell_type": "markdown",
   "metadata": {
    "lines_to_next_cell": 0
   },
   "source": [
    "#### Adjusted by pT stage (low vs high)"
   ]
  },
  {
   "cell_type": "code",
   "execution_count": 7,
   "metadata": {},
   "outputs": [
    {
     "name": "stdout",
     "output_type": "stream",
     "text": [
      "# A tibble: 2 x 8\n",
      "  term             estimate std.error statistic p.value    or conf.low conf.high\n",
      "  <chr>               <dbl>     <dbl>     <dbl>   <dbl> <dbl>    <dbl>     <dbl>\n",
      "1 biomarker_level…     0.23      0.79     0.290  0.774   1.26     0.24      5.79\n",
      "2 ptHigh pT stage…     1.31      0.78     1.68   0.0929  3.71     0.83     19.6 \n"
     ]
    }
   ],
   "source": [
    "OUTCOME %>% OR(recurrence_any ~ biomarker_level + pt)"
   ]
  },
  {
   "cell_type": "markdown",
   "metadata": {
    "lines_to_next_cell": 0
   },
   "source": [
    "### Tumor grade progression at next biopsy\n",
    "#### Unadjusted"
   ]
  },
  {
   "cell_type": "code",
   "execution_count": 8,
   "metadata": {},
   "outputs": [
    {
     "name": "stdout",
     "output_type": "stream",
     "text": [
      "# A tibble: 1 x 8\n",
      "  term             estimate std.error statistic p.value    or conf.low conf.high\n",
      "  <chr>               <dbl>     <dbl>     <dbl>   <dbl> <dbl>    <dbl>     <dbl>\n",
      "1 biomarker_level…     0.02      0.94      0.03   0.979  1.02     0.16      8.04\n"
     ]
    }
   ],
   "source": [
    "OUTCOME %>% OR(progression_grade_next ~ biomarker_level)"
   ]
  },
  {
   "cell_type": "markdown",
   "metadata": {
    "lines_to_next_cell": 0
   },
   "source": [
    "#### Adjusted by pT stage (low vs high)"
   ]
  },
  {
   "cell_type": "code",
   "execution_count": 9,
   "metadata": {},
   "outputs": [
    {
     "name": "stdout",
     "output_type": "stream",
     "text": [
      "# A tibble: 2 x 8\n",
      "  term           estimate std.error statistic p.value      or conf.low conf.high\n",
      "  <chr>             <dbl>     <dbl>     <dbl>   <dbl>   <dbl>    <dbl>     <dbl>\n",
      "1 biomarker_lev…     0.24      0.95      0.25   0.799  1.27e0      0.2      10.2\n",
      "2 ptHigh pT sta…    18.1    2913.        0.01   0.995  7.33e7      0        NA  \n"
     ]
    }
   ],
   "source": [
    "OUTCOME %>% OR(progression_grade_next ~ biomarker_level + pt)"
   ]
  },
  {
   "cell_type": "markdown",
   "metadata": {
    "lines_to_next_cell": 0
   },
   "source": [
    "### Tumor grade progression at any biopsy\n",
    "#### Unadjusted"
   ]
  },
  {
   "cell_type": "code",
   "execution_count": 10,
   "metadata": {},
   "outputs": [
    {
     "name": "stdout",
     "output_type": "stream",
     "text": [
      "# A tibble: 1 x 8\n",
      "  term             estimate std.error statistic p.value    or conf.low conf.high\n",
      "  <chr>               <dbl>     <dbl>     <dbl>   <dbl> <dbl>    <dbl>     <dbl>\n",
      "1 biomarker_level…    -0.07      0.62     -0.11   0.911  0.93     0.28      3.34\n"
     ]
    }
   ],
   "source": [
    "OUTCOME %>% OR(progression_grade_any ~ biomarker_level)"
   ]
  },
  {
   "cell_type": "markdown",
   "metadata": {
    "lines_to_next_cell": 0
   },
   "source": [
    "#### Adjusted by pT stage (low vs high)"
   ]
  },
  {
   "cell_type": "code",
   "execution_count": 11,
   "metadata": {},
   "outputs": [
    {
     "name": "stdout",
     "output_type": "stream",
     "text": [
      "# A tibble: 2 x 8\n",
      "  term             estimate std.error statistic p.value    or conf.low conf.high\n",
      "  <chr>               <dbl>     <dbl>     <dbl>   <dbl> <dbl>    <dbl>     <dbl>\n",
      "1 biomarker_level…     0.26      0.67      0.39   0.698  1.3      0.36      5.32\n",
      "2 ptHigh pT stage…     0.98      0.82      1.19   0.233  2.66     0.63     18.3 \n"
     ]
    }
   ],
   "source": [
    "OUTCOME %>% OR(progression_grade_any ~ biomarker_level + pt)"
   ]
  },
  {
   "cell_type": "markdown",
   "metadata": {
    "lines_to_next_cell": 0
   },
   "source": [
    "### Tumor stage progression at next biopsy\n",
    "#### Unadjusted"
   ]
  },
  {
   "cell_type": "code",
   "execution_count": 12,
   "metadata": {},
   "outputs": [
    {
     "name": "stdout",
     "output_type": "stream",
     "text": [
      "# A tibble: 1 x 8\n",
      "  term             estimate std.error statistic p.value    or conf.low conf.high\n",
      "  <chr>               <dbl>     <dbl>     <dbl>   <dbl> <dbl>    <dbl>     <dbl>\n",
      "1 biomarker_level…    -1.78      1.14     -1.57   0.117  0.17     0.01      1.19\n"
     ]
    }
   ],
   "source": [
    "OUTCOME %>% OR(progression_stage_next ~ biomarker_level)"
   ]
  },
  {
   "cell_type": "markdown",
   "metadata": {
    "lines_to_next_cell": 0
   },
   "source": [
    "#### Adjusted by pT stage (low vs high)"
   ]
  },
  {
   "cell_type": "code",
   "execution_count": 13,
   "metadata": {},
   "outputs": [
    {
     "name": "stdout",
     "output_type": "stream",
     "text": [
      "# A tibble: 2 x 8\n",
      "  term             estimate std.error statistic p.value    or conf.low conf.high\n",
      "  <chr>               <dbl>     <dbl>     <dbl>   <dbl> <dbl>    <dbl>     <dbl>\n",
      "1 biomarker_level…    -2.21      1.18     -1.88  0.0606  0.11     0.01      0.84\n",
      "2 ptHigh pT stage…    -1.52      0.99     -1.54  0.123   0.22     0.03      1.49\n"
     ]
    }
   ],
   "source": [
    "OUTCOME %>% OR(progression_stage_next ~ biomarker_level + pt)"
   ]
  },
  {
   "cell_type": "markdown",
   "metadata": {
    "lines_to_next_cell": 0
   },
   "source": [
    "### Tumor stage progression at any biopsy\n",
    "#### Unadjusted"
   ]
  },
  {
   "cell_type": "code",
   "execution_count": 14,
   "metadata": {},
   "outputs": [
    {
     "name": "stdout",
     "output_type": "stream",
     "text": [
      "# A tibble: 1 x 8\n",
      "  term             estimate std.error statistic p.value    or conf.low conf.high\n",
      "  <chr>               <dbl>     <dbl>     <dbl>   <dbl> <dbl>    <dbl>     <dbl>\n",
      "1 biomarker_level…    -0.17      0.54     -0.31   0.753  0.84    0.290      2.53\n"
     ]
    }
   ],
   "source": [
    "OUTCOME %>% OR(progression_stage_any ~ biomarker_level)"
   ]
  },
  {
   "cell_type": "markdown",
   "metadata": {
    "lines_to_next_cell": 0
   },
   "source": [
    "#### Adjusted by pT stage (low vs high)"
   ]
  },
  {
   "cell_type": "code",
   "execution_count": 15,
   "metadata": {},
   "outputs": [
    {
     "name": "stdout",
     "output_type": "stream",
     "text": [
      "# A tibble: 2 x 8\n",
      "  term             estimate std.error statistic p.value    or conf.low conf.high\n",
      "  <chr>               <dbl>     <dbl>     <dbl>   <dbl> <dbl>    <dbl>     <dbl>\n",
      "1 biomarker_level…    -1.12      0.68     -1.65 9.96e-2  0.33     0.08      1.21\n",
      "2 ptHigh pT stage…    -3.36      0.85     -3.97 7.15e-5  0.03     0         0.15\n"
     ]
    }
   ],
   "source": [
    "OUTCOME %>% OR(progression_stage_any ~ biomarker_level + pt)"
   ]
  },
  {
   "cell_type": "markdown",
   "metadata": {
    "lines_to_next_cell": 0
   },
   "source": [
    "## CD44"
   ]
  },
  {
   "cell_type": "code",
   "execution_count": 16,
   "metadata": {},
   "outputs": [
    {
     "name": "stdout",
     "output_type": "stream",
     "text": [
      "# A tibble: 3 x 3\n",
      "  Levels                   N  Freq\n",
      "  <fct>                <int> <dbl>\n",
      "1 Low CD44 expression     57  44.5\n",
      "2 High CD44 expression    57  44.5\n",
      "3 <NA>                    14  10.9\n"
     ]
    }
   ],
   "source": [
    "OUTCOME <- OUTCOME %>% \n",
    "  mutate(biomarker_level = cd44_level)\n",
    "OUTCOME %>% summarize_fct(biomarker_level)"
   ]
  },
  {
   "cell_type": "markdown",
   "metadata": {
    "lines_to_next_cell": 0
   },
   "source": [
    "### Tumor recurrence at next biopsy\n",
    "#### Unadjusted"
   ]
  },
  {
   "cell_type": "code",
   "execution_count": 17,
   "metadata": {},
   "outputs": [
    {
     "name": "stdout",
     "output_type": "stream",
     "text": [
      "# A tibble: 1 x 8\n",
      "  term             estimate std.error statistic p.value    or conf.low conf.high\n",
      "  <chr>               <dbl>     <dbl>     <dbl>   <dbl> <dbl>    <dbl>     <dbl>\n",
      "1 biomarker_level…     0.92      0.42      2.16  0.0308  2.51      1.1      5.85\n"
     ]
    }
   ],
   "source": [
    "OUTCOME %>% OR(recurrence_next ~ biomarker_level)"
   ]
  },
  {
   "cell_type": "markdown",
   "metadata": {
    "lines_to_next_cell": 0
   },
   "source": [
    "#### Adjusted by pT stage (low vs high)"
   ]
  },
  {
   "cell_type": "code",
   "execution_count": 18,
   "metadata": {},
   "outputs": [
    {
     "name": "stdout",
     "output_type": "stream",
     "text": [
      "# A tibble: 2 x 8\n",
      "  term             estimate std.error statistic p.value    or conf.low conf.high\n",
      "  <chr>               <dbl>     <dbl>     <dbl>   <dbl> <dbl>    <dbl>     <dbl>\n",
      "1 biomarker_level…     0.8       0.44     1.79   0.0734  2.23     0.94      5.4 \n",
      "2 ptHigh pT stage…    -0.13      0.47    -0.290  0.773   0.88     0.34      2.17\n"
     ]
    }
   ],
   "source": [
    "OUTCOME %>% OR(recurrence_next ~ biomarker_level + pt)"
   ]
  },
  {
   "cell_type": "markdown",
   "metadata": {
    "lines_to_next_cell": 0
   },
   "source": [
    "### Tumor recurrence at any biopsy\n",
    "#### Unadjusted"
   ]
  },
  {
   "cell_type": "code",
   "execution_count": 19,
   "metadata": {},
   "outputs": [
    {
     "name": "stdout",
     "output_type": "stream",
     "text": [
      "# A tibble: 1 x 8\n",
      "  term             estimate std.error statistic p.value    or conf.low conf.high\n",
      "  <chr>               <dbl>     <dbl>     <dbl>   <dbl> <dbl>    <dbl>     <dbl>\n",
      "1 biomarker_level…     0.92      0.72      1.29   0.198  2.51     0.66      12.2\n"
     ]
    }
   ],
   "source": [
    "OUTCOME %>% OR(recurrence_any ~ biomarker_level)"
   ]
  },
  {
   "cell_type": "markdown",
   "metadata": {
    "lines_to_next_cell": 0
   },
   "source": [
    "#### Adjusted by pT stage (low vs high)"
   ]
  },
  {
   "cell_type": "code",
   "execution_count": 20,
   "metadata": {},
   "outputs": [
    {
     "name": "stdout",
     "output_type": "stream",
     "text": [
      "# A tibble: 2 x 8\n",
      "  term             estimate std.error statistic p.value    or conf.low conf.high\n",
      "  <chr>               <dbl>     <dbl>     <dbl>   <dbl> <dbl>    <dbl>     <dbl>\n",
      "1 biomarker_level…     0.87      0.78      1.1   0.270   2.39     0.53      12.8\n",
      "2 ptHigh pT stage…     1.44      0.78      1.84  0.0657  4.22     0.94      22.4\n"
     ]
    }
   ],
   "source": [
    "OUTCOME %>% OR(recurrence_any ~ biomarker_level + pt)"
   ]
  },
  {
   "cell_type": "markdown",
   "metadata": {
    "lines_to_next_cell": 0
   },
   "source": [
    "### Tumor grade progression at next biopsy\n",
    "#### Unadjusted"
   ]
  },
  {
   "cell_type": "code",
   "execution_count": 21,
   "metadata": {},
   "outputs": [
    {
     "name": "stdout",
     "output_type": "stream",
     "text": [
      "# A tibble: 1 x 8\n",
      "  term             estimate std.error statistic p.value    or conf.low conf.high\n",
      "  <chr>               <dbl>     <dbl>     <dbl>   <dbl> <dbl>    <dbl>     <dbl>\n",
      "1 biomarker_level…     0.69      1.24      0.56   0.576  1.99     0.19      43.8\n"
     ]
    }
   ],
   "source": [
    "OUTCOME %>% OR(progression_grade_next ~ biomarker_level)"
   ]
  },
  {
   "cell_type": "markdown",
   "metadata": {
    "lines_to_next_cell": 0
   },
   "source": [
    "#### Adjusted by pT stage (low vs high)"
   ]
  },
  {
   "cell_type": "code",
   "execution_count": 22,
   "metadata": {},
   "outputs": [
    {
     "name": "stdout",
     "output_type": "stream",
     "text": [
      "# A tibble: 2 x 8\n",
      "  term           estimate std.error statistic p.value      or conf.low conf.high\n",
      "  <chr>             <dbl>     <dbl>     <dbl>   <dbl>   <dbl>    <dbl>     <dbl>\n",
      "1 biomarker_lev…     0.89      1.25      0.71   0.475  2.44e0     0.22      54.3\n",
      "2 ptHigh pT sta…    17.7    2966.        0.01   0.995  4.82e7     0         NA  \n"
     ]
    }
   ],
   "source": [
    "OUTCOME %>% OR(progression_grade_next ~ biomarker_level + pt)"
   ]
  },
  {
   "cell_type": "markdown",
   "metadata": {
    "lines_to_next_cell": 0
   },
   "source": [
    "### Tumor grade progression at any biopsy\n",
    "#### Unadjusted"
   ]
  },
  {
   "cell_type": "code",
   "execution_count": 23,
   "metadata": {},
   "outputs": [
    {
     "name": "stdout",
     "output_type": "stream",
     "text": [
      "# A tibble: 1 x 8\n",
      "  term             estimate std.error statistic p.value    or conf.low conf.high\n",
      "  <chr>               <dbl>     <dbl>     <dbl>   <dbl> <dbl>    <dbl>     <dbl>\n",
      "1 biomarker_level…    -0.44      0.67     -0.66   0.511  0.64     0.16      2.38\n"
     ]
    }
   ],
   "source": [
    "OUTCOME %>% OR(progression_grade_any ~ biomarker_level)"
   ]
  },
  {
   "cell_type": "markdown",
   "metadata": {
    "lines_to_next_cell": 0
   },
   "source": [
    "#### Adjusted by pT stage (low vs high)"
   ]
  },
  {
   "cell_type": "code",
   "execution_count": 24,
   "metadata": {},
   "outputs": [
    {
     "name": "stdout",
     "output_type": "stream",
     "text": [
      "# A tibble: 2 x 8\n",
      "  term             estimate std.error statistic p.value    or conf.low conf.high\n",
      "  <chr>               <dbl>     <dbl>     <dbl>   <dbl> <dbl>    <dbl>     <dbl>\n",
      "1 biomarker_level…    -0.15      0.71     -0.2    0.838  0.86     0.2       3.53\n",
      "2 ptHigh pT stage…     1.48      1.09      1.36   0.173  4.39     0.75     83.7 \n"
     ]
    }
   ],
   "source": [
    "OUTCOME %>% OR(progression_grade_any ~ biomarker_level + pt)"
   ]
  },
  {
   "cell_type": "markdown",
   "metadata": {
    "lines_to_next_cell": 0
   },
   "source": [
    "### Tumor stage progression at next biopsy\n",
    "#### Unadjusted"
   ]
  },
  {
   "cell_type": "code",
   "execution_count": 25,
   "metadata": {},
   "outputs": [
    {
     "name": "stdout",
     "output_type": "stream",
     "text": [
      "# A tibble: 1 x 8\n",
      "  term             estimate std.error statistic p.value    or conf.low conf.high\n",
      "  <chr>               <dbl>     <dbl>     <dbl>   <dbl> <dbl>    <dbl>     <dbl>\n",
      "1 biomarker_level…     0.45      0.94      0.48   0.632  1.57     0.25      12.3\n"
     ]
    }
   ],
   "source": [
    "OUTCOME %>% OR(progression_stage_next ~ biomarker_level)"
   ]
  },
  {
   "cell_type": "markdown",
   "metadata": {
    "lines_to_next_cell": 0
   },
   "source": [
    "#### Adjusted by pT stage (low vs high)"
   ]
  },
  {
   "cell_type": "code",
   "execution_count": 26,
   "metadata": {},
   "outputs": [
    {
     "name": "stdout",
     "output_type": "stream",
     "text": [
      "# A tibble: 2 x 8\n",
      "  term             estimate std.error statistic p.value    or conf.low conf.high\n",
      "  <chr>               <dbl>     <dbl>     <dbl>   <dbl> <dbl>    <dbl>     <dbl>\n",
      "1 biomarker_level…     0.24      0.95      0.25   0.804  1.27     0.19     10.2 \n",
      "2 ptHigh pT stage…    -1.05      0.95     -1.1    0.270  0.35     0.04      2.26\n"
     ]
    }
   ],
   "source": [
    "OUTCOME %>% OR(progression_stage_next ~ biomarker_level + pt)"
   ]
  },
  {
   "cell_type": "markdown",
   "metadata": {
    "lines_to_next_cell": 0
   },
   "source": [
    "### Tumor stage progression at any biopsy\n",
    "#### Unadjusted"
   ]
  },
  {
   "cell_type": "code",
   "execution_count": 27,
   "metadata": {},
   "outputs": [
    {
     "name": "stdout",
     "output_type": "stream",
     "text": [
      "# A tibble: 1 x 8\n",
      "  term             estimate std.error statistic p.value    or conf.low conf.high\n",
      "  <chr>               <dbl>     <dbl>     <dbl>   <dbl> <dbl>    <dbl>     <dbl>\n",
      "1 biomarker_level…     0.79     0.580      1.36   0.173   2.2     0.73      7.54\n"
     ]
    }
   ],
   "source": [
    "OUTCOME %>% OR(progression_stage_any ~ biomarker_level)"
   ]
  },
  {
   "cell_type": "markdown",
   "metadata": {
    "lines_to_next_cell": 0
   },
   "source": [
    "#### Adjusted by pT stage (low vs high)"
   ]
  },
  {
   "cell_type": "code",
   "execution_count": 28,
   "metadata": {},
   "outputs": [
    {
     "name": "stdout",
     "output_type": "stream",
     "text": [
      "# A tibble: 2 x 8\n",
      "  term             estimate std.error statistic p.value    or conf.low conf.high\n",
      "  <chr>               <dbl>     <dbl>     <dbl>   <dbl> <dbl>    <dbl>     <dbl>\n",
      "1 biomarker_level…     0.41      0.65      0.64 5.25e-1  1.51     0.43      5.73\n",
      "2 ptHigh pT stage…    -2.89      0.8      -3.62 3.00e-4  0.06     0.01      0.22\n"
     ]
    }
   ],
   "source": [
    "OUTCOME %>% OR(progression_stage_any ~ biomarker_level + pt)"
   ]
  },
  {
   "cell_type": "markdown",
   "metadata": {
    "lines_to_next_cell": 0
   },
   "source": [
    "## CK20"
   ]
  },
  {
   "cell_type": "code",
   "execution_count": 29,
   "metadata": {},
   "outputs": [
    {
     "name": "stdout",
     "output_type": "stream",
     "text": [
      "# A tibble: 3 x 3\n",
      "  Levels                   N  Freq\n",
      "  <fct>                <int> <dbl>\n",
      "1 Low CK20 expression     67  52.3\n",
      "2 High CK20 expression    49  38.3\n",
      "3 <NA>                    12   9.4\n"
     ]
    }
   ],
   "source": [
    "OUTCOME <- OUTCOME %>% \n",
    "  mutate(biomarker_level = ck20_level)\n",
    "OUTCOME %>% summarize_fct(biomarker_level)"
   ]
  },
  {
   "cell_type": "markdown",
   "metadata": {
    "lines_to_next_cell": 0
   },
   "source": [
    "### Tumor recurrence at next biopsy\n",
    "#### Unadjusted"
   ]
  },
  {
   "cell_type": "code",
   "execution_count": 30,
   "metadata": {},
   "outputs": [
    {
     "name": "stdout",
     "output_type": "stream",
     "text": [
      "# A tibble: 1 x 8\n",
      "  term             estimate std.error statistic p.value    or conf.low conf.high\n",
      "  <chr>               <dbl>     <dbl>     <dbl>   <dbl> <dbl>    <dbl>     <dbl>\n",
      "1 biomarker_level…    -0.15      0.42     -0.35   0.726  0.86     0.38      1.95\n"
     ]
    }
   ],
   "source": [
    "OUTCOME %>% OR(recurrence_next ~ biomarker_level)"
   ]
  },
  {
   "cell_type": "markdown",
   "metadata": {
    "lines_to_next_cell": 0
   },
   "source": [
    "#### Adjusted by pT stage (low vs high)"
   ]
  },
  {
   "cell_type": "code",
   "execution_count": 31,
   "metadata": {},
   "outputs": [
    {
     "name": "stdout",
     "output_type": "stream",
     "text": [
      "# A tibble: 2 x 8\n",
      "  term             estimate std.error statistic p.value    or conf.low conf.high\n",
      "  <chr>               <dbl>     <dbl>     <dbl>   <dbl> <dbl>    <dbl>     <dbl>\n",
      "1 biomarker_level…    -0.02      0.42     -0.04   0.965  0.98     0.42      2.25\n",
      "2 ptHigh pT stage…    -0.04      0.44     -0.09   0.925  0.96     0.4       2.24\n"
     ]
    }
   ],
   "source": [
    "OUTCOME %>% OR(recurrence_next ~ biomarker_level + pt)"
   ]
  },
  {
   "cell_type": "markdown",
   "metadata": {
    "lines_to_next_cell": 0
   },
   "source": [
    "### Tumor recurrence at any biopsy\n",
    "#### Unadjusted"
   ]
  },
  {
   "cell_type": "code",
   "execution_count": 32,
   "metadata": {},
   "outputs": [
    {
     "name": "stdout",
     "output_type": "stream",
     "text": [
      "# A tibble: 1 x 8\n",
      "  term             estimate std.error statistic p.value    or conf.low conf.high\n",
      "  <chr>               <dbl>     <dbl>     <dbl>   <dbl> <dbl>    <dbl>     <dbl>\n",
      "1 biomarker_level…   -0.580      0.72     -0.81   0.418  0.56     0.12      2.13\n"
     ]
    }
   ],
   "source": [
    "OUTCOME %>% OR(recurrence_any ~ biomarker_level)"
   ]
  },
  {
   "cell_type": "markdown",
   "metadata": {
    "lines_to_next_cell": 0
   },
   "source": [
    "#### Adjusted by pT stage (low vs high)"
   ]
  },
  {
   "cell_type": "code",
   "execution_count": 33,
   "metadata": {},
   "outputs": [
    {
     "name": "stdout",
     "output_type": "stream",
     "text": [
      "# A tibble: 2 x 8\n",
      "  term             estimate std.error statistic p.value    or conf.low conf.high\n",
      "  <chr>               <dbl>     <dbl>     <dbl>   <dbl> <dbl>    <dbl>     <dbl>\n",
      "1 biomarker_level…     -0.3      0.77     -0.39  0.699   0.74     0.14      3.26\n",
      "2 ptHigh pT stage…      1.3      0.76      1.71  0.0878  3.67     0.85     18.8 \n"
     ]
    }
   ],
   "source": [
    "OUTCOME %>% OR(recurrence_any ~ biomarker_level + pt)"
   ]
  },
  {
   "cell_type": "markdown",
   "metadata": {
    "lines_to_next_cell": 0
   },
   "source": [
    "### Tumor grade progression at next biopsy\n",
    "#### Unadjusted"
   ]
  },
  {
   "cell_type": "code",
   "execution_count": 34,
   "metadata": {},
   "outputs": [
    {
     "name": "stdout",
     "output_type": "stream",
     "text": [
      "# A tibble: 1 x 8\n",
      "  term             estimate std.error statistic p.value    or conf.low conf.high\n",
      "  <chr>               <dbl>     <dbl>     <dbl>   <dbl> <dbl>    <dbl>     <dbl>\n",
      "1 biomarker_level…    -0.81      0.94     -0.87   0.386  0.44     0.06       2.8\n"
     ]
    }
   ],
   "source": [
    "OUTCOME %>% OR(progression_grade_next ~ biomarker_level)"
   ]
  },
  {
   "cell_type": "markdown",
   "metadata": {
    "lines_to_next_cell": 0
   },
   "source": [
    "#### Adjusted by pT stage (low vs high)"
   ]
  },
  {
   "cell_type": "code",
   "execution_count": 35,
   "metadata": {},
   "outputs": [
    {
     "name": "stdout",
     "output_type": "stream",
     "text": [
      "# A tibble: 2 x 8\n",
      "  term          estimate std.error statistic p.value       or conf.low conf.high\n",
      "  <chr>            <dbl>     <dbl>     <dbl>   <dbl>    <dbl>    <dbl>     <dbl>\n",
      "1 biomarker_le…    -0.77      0.95     -0.81   0.417  4.60e-1     0.06      2.99\n",
      "2 ptHigh pT st…    18.0    2926.        0.01   0.995  6.90e+7     0        NA   \n"
     ]
    }
   ],
   "source": [
    "OUTCOME %>% OR(progression_grade_next ~ biomarker_level + pt)"
   ]
  },
  {
   "cell_type": "markdown",
   "metadata": {
    "lines_to_next_cell": 0
   },
   "source": [
    "### Tumor grade progression at any biopsy\n",
    "#### Unadjusted"
   ]
  },
  {
   "cell_type": "code",
   "execution_count": 36,
   "metadata": {},
   "outputs": [
    {
     "name": "stdout",
     "output_type": "stream",
     "text": [
      "# A tibble: 1 x 8\n",
      "  term             estimate std.error statistic p.value    or conf.low conf.high\n",
      "  <chr>               <dbl>     <dbl>     <dbl>   <dbl> <dbl>    <dbl>     <dbl>\n",
      "1 biomarker_level…    -0.35      0.61    -0.570   0.567   0.7     0.21      2.39\n"
     ]
    }
   ],
   "source": [
    "OUTCOME %>% OR(progression_grade_any ~ biomarker_level)"
   ]
  },
  {
   "cell_type": "markdown",
   "metadata": {
    "lines_to_next_cell": 0
   },
   "source": [
    "#### Adjusted by pT stage (low vs high)"
   ]
  },
  {
   "cell_type": "code",
   "execution_count": 37,
   "metadata": {},
   "outputs": [
    {
     "name": "stdout",
     "output_type": "stream",
     "text": [
      "# A tibble: 2 x 8\n",
      "  term             estimate std.error statistic p.value    or conf.low conf.high\n",
      "  <chr>               <dbl>     <dbl>     <dbl>   <dbl> <dbl>    <dbl>     <dbl>\n",
      "1 biomarker_level…    -0.52      0.64     -0.81   0.418  0.59     0.16      2.11\n",
      "2 ptHigh pT stage…     0.91      0.81      1.13   0.260  2.48     0.6      17.0 \n"
     ]
    }
   ],
   "source": [
    "OUTCOME %>% OR(progression_grade_any ~ biomarker_level + pt)"
   ]
  },
  {
   "cell_type": "markdown",
   "metadata": {
    "lines_to_next_cell": 0
   },
   "source": [
    "### Tumor stage progression at next biopsy\n",
    "#### Unadjusted"
   ]
  },
  {
   "cell_type": "code",
   "execution_count": 38,
   "metadata": {},
   "outputs": [
    {
     "name": "stdout",
     "output_type": "stream",
     "text": [
      "# A tibble: 1 x 8\n",
      "  term             estimate std.error statistic p.value    or conf.low conf.high\n",
      "  <chr>               <dbl>     <dbl>     <dbl>   <dbl> <dbl>    <dbl>     <dbl>\n",
      "1 biomarker_level…      0.7      1.17       0.6   0.550  2.01     0.25      41.6\n"
     ]
    }
   ],
   "source": [
    "OUTCOME %>% OR(progression_stage_next ~ biomarker_level)"
   ]
  },
  {
   "cell_type": "markdown",
   "metadata": {
    "lines_to_next_cell": 0
   },
   "source": [
    "#### Adjusted by pT stage (low vs high)"
   ]
  },
  {
   "cell_type": "code",
   "execution_count": 39,
   "metadata": {},
   "outputs": [
    {
     "name": "stdout",
     "output_type": "stream",
     "text": [
      "# A tibble: 2 x 8\n",
      "  term             estimate std.error statistic p.value    or conf.low conf.high\n",
      "  <chr>               <dbl>     <dbl>     <dbl>   <dbl> <dbl>    <dbl>     <dbl>\n",
      "1 biomarker_level…     0.76      1.18      0.65   0.517  2.14     0.26     44.3 \n",
      "2 ptHigh pT stage…    -0.67      1.03     -0.65   0.515  0.51     0.06      4.45\n"
     ]
    }
   ],
   "source": [
    "OUTCOME %>% OR(progression_stage_next ~ biomarker_level + pt)"
   ]
  },
  {
   "cell_type": "markdown",
   "metadata": {
    "lines_to_next_cell": 0
   },
   "source": [
    "### Tumor stage progression at any biopsy\n",
    "#### Unadjusted"
   ]
  },
  {
   "cell_type": "code",
   "execution_count": 40,
   "metadata": {},
   "outputs": [
    {
     "name": "stdout",
     "output_type": "stream",
     "text": [
      "# A tibble: 1 x 8\n",
      "  term             estimate std.error statistic p.value    or conf.low conf.high\n",
      "  <chr>               <dbl>     <dbl>     <dbl>   <dbl> <dbl>    <dbl>     <dbl>\n",
      "1 biomarker_level…     0.79      0.62      1.28   0.199   2.2      0.7       8.4\n"
     ]
    }
   ],
   "source": [
    "OUTCOME %>% OR(progression_stage_any ~ biomarker_level)"
   ]
  },
  {
   "cell_type": "markdown",
   "metadata": {
    "lines_to_next_cell": 0
   },
   "source": [
    "#### Adjusted by pT stage (low vs high)"
   ]
  },
  {
   "cell_type": "code",
   "execution_count": 41,
   "metadata": {},
   "outputs": [
    {
     "name": "stdout",
     "output_type": "stream",
     "text": [
      "# A tibble: 2 x 8\n",
      "  term             estimate std.error statistic p.value    or conf.low conf.high\n",
      "  <chr>               <dbl>     <dbl>     <dbl>   <dbl> <dbl>    <dbl>     <dbl>\n",
      "1 biomarker_level…     1.11      0.68      1.62 1.05e-1  3.03     0.84     12.8 \n",
      "2 ptHigh pT stage…    -3.05      0.81     -3.77 1.61e-4  0.05     0.01      0.19\n"
     ]
    }
   ],
   "source": [
    "OUTCOME %>% OR(progression_stage_any ~ biomarker_level + pt)"
   ]
  },
  {
   "cell_type": "markdown",
   "metadata": {
    "lines_to_next_cell": 0
   },
   "source": [
    "## ER"
   ]
  },
  {
   "cell_type": "code",
   "execution_count": 42,
   "metadata": {},
   "outputs": [
    {
     "name": "stdout",
     "output_type": "stream",
     "text": [
      "# A tibble: 3 x 3\n",
      "  Levels                 N  Freq\n",
      "  <fct>              <int> <dbl>\n",
      "1 High ER expression    19  14.8\n",
      "2 Low ER expression     99  77.3\n",
      "3 <NA>                  10   7.8\n"
     ]
    }
   ],
   "source": [
    "OUTCOME <- OUTCOME %>% \n",
    "  mutate(biomarker_level = er_level)\n",
    "OUTCOME %>% summarize_fct(biomarker_level)"
   ]
  },
  {
   "cell_type": "markdown",
   "metadata": {
    "lines_to_next_cell": 0
   },
   "source": [
    "### Tumor recurrence at next biopsy\n",
    "#### Unadjusted"
   ]
  },
  {
   "cell_type": "code",
   "execution_count": 43,
   "metadata": {},
   "outputs": [
    {
     "name": "stdout",
     "output_type": "stream",
     "text": [
      "# A tibble: 1 x 8\n",
      "  term             estimate std.error statistic p.value    or conf.low conf.high\n",
      "  <chr>               <dbl>     <dbl>     <dbl>   <dbl> <dbl>    <dbl>     <dbl>\n",
      "1 biomarker_level…    -0.12      0.54     -0.22   0.828  0.89     0.31      2.66\n"
     ]
    }
   ],
   "source": [
    "OUTCOME %>% OR(recurrence_next ~ biomarker_level)"
   ]
  },
  {
   "cell_type": "markdown",
   "metadata": {
    "lines_to_next_cell": 0
   },
   "source": [
    "#### Adjusted by pT stage (low vs high)"
   ]
  },
  {
   "cell_type": "code",
   "execution_count": 44,
   "metadata": {},
   "outputs": [
    {
     "name": "stdout",
     "output_type": "stream",
     "text": [
      "# A tibble: 2 x 8\n",
      "  term             estimate std.error statistic p.value    or conf.low conf.high\n",
      "  <chr>               <dbl>     <dbl>     <dbl>   <dbl> <dbl>    <dbl>     <dbl>\n",
      "1 biomarker_level…     0.14      0.6      0.23    0.814  1.15     0.37      3.99\n",
      "2 ptHigh pT stage…    -0.13      0.44    -0.290   0.770  0.88     0.36      2.07\n"
     ]
    }
   ],
   "source": [
    "OUTCOME %>% OR(recurrence_next ~ biomarker_level + pt)"
   ]
  },
  {
   "cell_type": "markdown",
   "metadata": {
    "lines_to_next_cell": 0
   },
   "source": [
    "### Tumor recurrence at any biopsy\n",
    "#### Unadjusted"
   ]
  },
  {
   "cell_type": "code",
   "execution_count": 45,
   "metadata": {},
   "outputs": [
    {
     "name": "stdout",
     "output_type": "stream",
     "text": [
      "# A tibble: 1 x 8\n",
      "  term             estimate std.error statistic p.value    or conf.low conf.high\n",
      "  <chr>               <dbl>     <dbl>     <dbl>   <dbl> <dbl>    <dbl>     <dbl>\n",
      "1 biomarker_level…    -1.42       0.7     -2.02  0.0435  0.24     0.06      1.04\n"
     ]
    }
   ],
   "source": [
    "OUTCOME %>% OR(recurrence_any ~ biomarker_level)"
   ]
  },
  {
   "cell_type": "markdown",
   "metadata": {
    "lines_to_next_cell": 0
   },
   "source": [
    "#### Adjusted by pT stage (low vs high)"
   ]
  },
  {
   "cell_type": "code",
   "execution_count": 46,
   "metadata": {},
   "outputs": [
    {
     "name": "stdout",
     "output_type": "stream",
     "text": [
      "# A tibble: 2 x 8\n",
      "  term             estimate std.error statistic p.value    or conf.low conf.high\n",
      "  <chr>               <dbl>     <dbl>     <dbl>   <dbl> <dbl>    <dbl>     <dbl>\n",
      "1 biomarker_level…    -1.3       0.8      -1.62   0.106  0.27     0.06      1.49\n",
      "2 ptHigh pT stage…     1.25      0.77      1.62   0.105  3.49     0.79     18.1 \n"
     ]
    }
   ],
   "source": [
    "OUTCOME %>% OR(recurrence_any ~ biomarker_level + pt)"
   ]
  },
  {
   "cell_type": "markdown",
   "metadata": {
    "lines_to_next_cell": 0
   },
   "source": [
    "### Tumor grade progression at next biopsy\n",
    "#### Unadjusted"
   ]
  },
  {
   "cell_type": "code",
   "execution_count": 47,
   "metadata": {},
   "outputs": [
    {
     "name": "stdout",
     "output_type": "stream",
     "text": [
      "# A tibble: 1 x 8\n",
      "  term             estimate std.error statistic p.value    or conf.low conf.high\n",
      "  <chr>               <dbl>     <dbl>     <dbl>   <dbl> <dbl>    <dbl>     <dbl>\n",
      "1 biomarker_level…    -16.7     2535.     -0.01   0.995     0       NA  8.74e112\n"
     ]
    }
   ],
   "source": [
    "OUTCOME %>% OR(progression_grade_next ~ biomarker_level)"
   ]
  },
  {
   "cell_type": "markdown",
   "metadata": {
    "lines_to_next_cell": 0
   },
   "source": [
    "#### Adjusted by pT stage (low vs high)"
   ]
  },
  {
   "cell_type": "code",
   "execution_count": 48,
   "metadata": {},
   "outputs": [
    {
     "name": "stdout",
     "output_type": "stream",
     "text": [
      "# A tibble: 2 x 8\n",
      "  term           estimate std.error statistic p.value      or conf.low conf.high\n",
      "  <chr>             <dbl>     <dbl>     <dbl>   <dbl>   <dbl>    <dbl>     <dbl>\n",
      "1 biomarker_lev…    -17.4     4057.      0      0.997  0.           NA  4.83e183\n",
      "2 ptHigh pT sta…     17.9     2854.      0.01   0.995  6.06e7        0 NA       \n"
     ]
    }
   ],
   "source": [
    "OUTCOME %>% OR(progression_grade_next ~ biomarker_level + pt)"
   ]
  },
  {
   "cell_type": "markdown",
   "metadata": {
    "lines_to_next_cell": 0
   },
   "source": [
    "### Tumor grade progression at any biopsy\n",
    "#### Unadjusted"
   ]
  },
  {
   "cell_type": "code",
   "execution_count": 49,
   "metadata": {},
   "outputs": [
    {
     "name": "stdout",
     "output_type": "stream",
     "text": [
      "# A tibble: 1 x 8\n",
      "  term             estimate std.error statistic p.value    or conf.low conf.high\n",
      "  <chr>               <dbl>     <dbl>     <dbl>   <dbl> <dbl>    <dbl>     <dbl>\n",
      "1 biomarker_level…     0.16      0.83       0.2   0.844  1.17     0.17      5.09\n"
     ]
    }
   ],
   "source": [
    "OUTCOME %>% OR(progression_grade_any ~ biomarker_level)"
   ]
  },
  {
   "cell_type": "markdown",
   "metadata": {
    "lines_to_next_cell": 0
   },
   "source": [
    "#### Adjusted by pT stage (low vs high)"
   ]
  },
  {
   "cell_type": "code",
   "execution_count": 50,
   "metadata": {},
   "outputs": [
    {
     "name": "stdout",
     "output_type": "stream",
     "text": [
      "# A tibble: 2 x 8\n",
      "  term             estimate std.error statistic p.value    or conf.low conf.high\n",
      "  <chr>               <dbl>     <dbl>     <dbl>   <dbl> <dbl>    <dbl>     <dbl>\n",
      "1 biomarker_level…    -0.39      1.1      -0.36   0.721  0.68     0.03      4.12\n",
      "2 ptHigh pT stage…     1.59      1.07      1.48   0.140  4.9      0.87     92.0 \n"
     ]
    }
   ],
   "source": [
    "OUTCOME %>% OR(progression_grade_any ~ biomarker_level + pt)"
   ]
  },
  {
   "cell_type": "markdown",
   "metadata": {
    "lines_to_next_cell": 0
   },
   "source": [
    "### Tumor stage progression at next biopsy\n",
    "#### Unadjusted"
   ]
  },
  {
   "cell_type": "code",
   "execution_count": 51,
   "metadata": {},
   "outputs": [
    {
     "name": "stdout",
     "output_type": "stream",
     "text": [
      "# A tibble: 1 x 8\n",
      "  term             estimate std.error statistic p.value    or conf.low conf.high\n",
      "  <chr>               <dbl>     <dbl>     <dbl>   <dbl> <dbl>    <dbl>     <dbl>\n",
      "1 biomarker_level…    -16.8     2688.     -0.01   0.995     0       NA  1.52e120\n"
     ]
    }
   ],
   "source": [
    "OUTCOME %>% OR(progression_stage_next ~ biomarker_level)"
   ]
  },
  {
   "cell_type": "markdown",
   "metadata": {
    "lines_to_next_cell": 0
   },
   "source": [
    "#### Adjusted by pT stage (low vs high)"
   ]
  },
  {
   "cell_type": "code",
   "execution_count": 52,
   "metadata": {},
   "outputs": [
    {
     "name": "stdout",
     "output_type": "stream",
     "text": [
      "# A tibble: 2 x 8\n",
      "  term             estimate std.error statistic p.value    or conf.low conf.high\n",
      "  <chr>               <dbl>     <dbl>     <dbl>   <dbl> <dbl>    <dbl>     <dbl>\n",
      "1 biomarker_level…   -16.9    2806.       -0.01   0.995   0      NA     2.34e125\n",
      "2 ptHigh pT stage…    -1.19      0.94     -1.26   0.206   0.3     0.04  1.94e  0\n"
     ]
    }
   ],
   "source": [
    "OUTCOME %>% OR(progression_stage_next ~ biomarker_level + pt)"
   ]
  },
  {
   "cell_type": "markdown",
   "metadata": {
    "lines_to_next_cell": 0
   },
   "source": [
    "### Tumor stage progression at any biopsy\n",
    "#### Unadjusted"
   ]
  },
  {
   "cell_type": "code",
   "execution_count": 53,
   "metadata": {},
   "outputs": [
    {
     "name": "stdout",
     "output_type": "stream",
     "text": [
      "# A tibble: 1 x 8\n",
      "  term             estimate std.error statistic p.value    or conf.low conf.high\n",
      "  <chr>               <dbl>     <dbl>     <dbl>   <dbl> <dbl>    <dbl>     <dbl>\n",
      "1 biomarker_level…    -0.25       0.8     -0.31   0.755  0.78     0.12      3.17\n"
     ]
    }
   ],
   "source": [
    "OUTCOME %>% OR(progression_stage_any ~ biomarker_level)"
   ]
  },
  {
   "cell_type": "markdown",
   "metadata": {
    "lines_to_next_cell": 0
   },
   "source": [
    "#### Adjusted by pT stage (low vs high)"
   ]
  },
  {
   "cell_type": "code",
   "execution_count": 54,
   "metadata": {},
   "outputs": [
    {
     "name": "stdout",
     "output_type": "stream",
     "text": [
      "# A tibble: 2 x 8\n",
      "  term             estimate std.error statistic p.value    or conf.low conf.high\n",
      "  <chr>               <dbl>     <dbl>     <dbl>   <dbl> <dbl>    <dbl>     <dbl>\n",
      "1 biomarker_level…    -0.47      0.88     -0.53 5.94e-1  0.63     0.08      3.08\n",
      "2 ptHigh pT stage…    -2.99      0.8      -3.75 1.79e-4  0.05     0.01      0.2 \n"
     ]
    }
   ],
   "source": [
    "OUTCOME %>% OR(progression_stage_any ~ biomarker_level + pt)"
   ]
  },
  {
   "cell_type": "markdown",
   "metadata": {
    "lines_to_next_cell": 0
   },
   "source": [
    "## HER2"
   ]
  },
  {
   "cell_type": "code",
   "execution_count": 55,
   "metadata": {},
   "outputs": [
    {
     "name": "stdout",
     "output_type": "stream",
     "text": [
      "# A tibble: 3 x 3\n",
      "  Levels                   N  Freq\n",
      "  <fct>                <int> <dbl>\n",
      "1 Low HER2 expression     64  50  \n",
      "2 High HER2 expression    53  41.4\n",
      "3 <NA>                    11   8.6\n"
     ]
    }
   ],
   "source": [
    "OUTCOME <- OUTCOME %>% \n",
    "  mutate(biomarker_level = her2_level)\n",
    "OUTCOME %>% summarize_fct(biomarker_level)"
   ]
  },
  {
   "cell_type": "markdown",
   "metadata": {
    "lines_to_next_cell": 0
   },
   "source": [
    "### Tumor recurrence at next biopsy\n",
    "#### Unadjusted"
   ]
  },
  {
   "cell_type": "code",
   "execution_count": 56,
   "metadata": {},
   "outputs": [
    {
     "name": "stdout",
     "output_type": "stream",
     "text": [
      "# A tibble: 1 x 8\n",
      "  term             estimate std.error statistic p.value    or conf.low conf.high\n",
      "  <chr>               <dbl>     <dbl>     <dbl>   <dbl> <dbl>    <dbl>     <dbl>\n",
      "1 biomarker_level…    -0.31      0.41     -0.77   0.444  0.73     0.33      1.62\n"
     ]
    }
   ],
   "source": [
    "OUTCOME %>% OR(recurrence_next ~ biomarker_level)"
   ]
  },
  {
   "cell_type": "markdown",
   "metadata": {
    "lines_to_next_cell": 0
   },
   "source": [
    "#### Adjusted by pT stage (low vs high)"
   ]
  },
  {
   "cell_type": "code",
   "execution_count": 57,
   "metadata": {},
   "outputs": [
    {
     "name": "stdout",
     "output_type": "stream",
     "text": [
      "# A tibble: 2 x 8\n",
      "  term             estimate std.error statistic p.value    or conf.low conf.high\n",
      "  <chr>               <dbl>     <dbl>     <dbl>   <dbl> <dbl>    <dbl>     <dbl>\n",
      "1 biomarker_level…    -0.12      0.42     -0.27   0.784  0.89     0.39      2.04\n",
      "2 ptHigh pT stage…    -0.09      0.44     -0.21   0.834  0.91     0.38      2.15\n"
     ]
    }
   ],
   "source": [
    "OUTCOME %>% OR(recurrence_next ~ biomarker_level + pt)"
   ]
  },
  {
   "cell_type": "markdown",
   "metadata": {
    "lines_to_next_cell": 0
   },
   "source": [
    "### Tumor recurrence at any biopsy\n",
    "#### Unadjusted"
   ]
  },
  {
   "cell_type": "code",
   "execution_count": 58,
   "metadata": {},
   "outputs": [
    {
     "name": "stdout",
     "output_type": "stream",
     "text": [
      "# A tibble: 1 x 8\n",
      "  term             estimate std.error statistic p.value    or conf.low conf.high\n",
      "  <chr>               <dbl>     <dbl>     <dbl>   <dbl> <dbl>    <dbl>     <dbl>\n",
      "1 biomarker_level…    -1.29      0.81     -1.59   0.112  0.28     0.04      1.16\n"
     ]
    }
   ],
   "source": [
    "OUTCOME %>% OR(recurrence_any ~ biomarker_level)"
   ]
  },
  {
   "cell_type": "markdown",
   "metadata": {
    "lines_to_next_cell": 0
   },
   "source": [
    "#### Adjusted by pT stage (low vs high)"
   ]
  },
  {
   "cell_type": "code",
   "execution_count": 59,
   "metadata": {},
   "outputs": [
    {
     "name": "stdout",
     "output_type": "stream",
     "text": [
      "# A tibble: 2 x 8\n",
      "  term             estimate std.error statistic p.value    or conf.low conf.high\n",
      "  <chr>               <dbl>     <dbl>     <dbl>   <dbl> <dbl>    <dbl>     <dbl>\n",
      "1 biomarker_level…    -1.35      0.87     -1.56  0.120   0.26     0.04      1.25\n",
      "2 ptHigh pT stage…     1.51      0.79      1.92  0.0548  4.53     1        24.3 \n"
     ]
    }
   ],
   "source": [
    "OUTCOME %>% OR(recurrence_any ~ biomarker_level + pt)"
   ]
  },
  {
   "cell_type": "markdown",
   "metadata": {
    "lines_to_next_cell": 0
   },
   "source": [
    "### Tumor grade progression at next biopsy\n",
    "#### Unadjusted"
   ]
  },
  {
   "cell_type": "code",
   "execution_count": 60,
   "metadata": {},
   "outputs": [
    {
     "name": "stdout",
     "output_type": "stream",
     "text": [
      "# A tibble: 1 x 8\n",
      "  term             estimate std.error statistic p.value    or conf.low conf.high\n",
      "  <chr>               <dbl>     <dbl>     <dbl>   <dbl> <dbl>    <dbl>     <dbl>\n",
      "1 biomarker_level…    -1.65      1.14     -1.45   0.147  0.19     0.01      1.36\n"
     ]
    }
   ],
   "source": [
    "OUTCOME %>% OR(progression_grade_next ~ biomarker_level)"
   ]
  },
  {
   "cell_type": "markdown",
   "metadata": {
    "lines_to_next_cell": 0
   },
   "source": [
    "#### Adjusted by pT stage (low vs high)"
   ]
  },
  {
   "cell_type": "code",
   "execution_count": 61,
   "metadata": {},
   "outputs": [
    {
     "name": "stdout",
     "output_type": "stream",
     "text": [
      "# A tibble: 2 x 8\n",
      "  term          estimate std.error statistic p.value       or conf.low conf.high\n",
      "  <chr>            <dbl>     <dbl>     <dbl>   <dbl>    <dbl>    <dbl>     <dbl>\n",
      "1 biomarker_le…    -1.93      1.15     -1.68  0.0927  1.50e-1     0.01      1.05\n",
      "2 ptHigh pT st…    18.4    2796.        0.01  0.995   9.32e+7     0        NA   \n"
     ]
    }
   ],
   "source": [
    "OUTCOME %>% OR(progression_grade_next ~ biomarker_level + pt)"
   ]
  },
  {
   "cell_type": "markdown",
   "metadata": {
    "lines_to_next_cell": 0
   },
   "source": [
    "### Tumor grade progression at any biopsy\n",
    "#### Unadjusted"
   ]
  },
  {
   "cell_type": "code",
   "execution_count": 62,
   "metadata": {},
   "outputs": [
    {
     "name": "stdout",
     "output_type": "stream",
     "text": [
      "# A tibble: 1 x 8\n",
      "  term             estimate std.error statistic p.value    or conf.low conf.high\n",
      "  <chr>               <dbl>     <dbl>     <dbl>   <dbl> <dbl>    <dbl>     <dbl>\n",
      "1 biomarker_level…    -1.43       0.7     -2.05  0.0404  0.24     0.05      0.86\n"
     ]
    }
   ],
   "source": [
    "OUTCOME %>% OR(progression_grade_any ~ biomarker_level)"
   ]
  },
  {
   "cell_type": "markdown",
   "metadata": {
    "lines_to_next_cell": 0
   },
   "source": [
    "#### Adjusted by pT stage (low vs high)"
   ]
  },
  {
   "cell_type": "code",
   "execution_count": 63,
   "metadata": {},
   "outputs": [
    {
     "name": "stdout",
     "output_type": "stream",
     "text": [
      "# A tibble: 2 x 8\n",
      "  term             estimate std.error statistic p.value    or conf.low conf.high\n",
      "  <chr>               <dbl>     <dbl>     <dbl>   <dbl> <dbl>    <dbl>     <dbl>\n",
      "1 biomarker_level…    -1.99      0.82     -2.43  0.0153  0.14     0.02     0.580\n",
      "2 ptHigh pT stage…     1.3       0.83      1.57  0.118   3.67     0.84    25.8  \n"
     ]
    }
   ],
   "source": [
    "OUTCOME %>% OR(progression_grade_any ~ biomarker_level + pt)"
   ]
  },
  {
   "cell_type": "markdown",
   "metadata": {
    "lines_to_next_cell": 0
   },
   "source": [
    "### Tumor stage progression at next biopsy\n",
    "#### Unadjusted"
   ]
  },
  {
   "cell_type": "code",
   "execution_count": 64,
   "metadata": {},
   "outputs": [
    {
     "name": "stdout",
     "output_type": "stream",
     "text": [
      "# A tibble: 1 x 8\n",
      "  term             estimate std.error statistic p.value    or conf.low conf.high\n",
      "  <chr>               <dbl>     <dbl>     <dbl>   <dbl> <dbl>    <dbl>     <dbl>\n",
      "1 biomarker_level…    -0.63      0.94     -0.68   0.498  0.53     0.07      3.34\n"
     ]
    }
   ],
   "source": [
    "OUTCOME %>% OR(progression_stage_next ~ biomarker_level)"
   ]
  },
  {
   "cell_type": "markdown",
   "metadata": {
    "lines_to_next_cell": 0
   },
   "source": [
    "#### Adjusted by pT stage (low vs high)"
   ]
  },
  {
   "cell_type": "code",
   "execution_count": 65,
   "metadata": {},
   "outputs": [
    {
     "name": "stdout",
     "output_type": "stream",
     "text": [
      "# A tibble: 2 x 8\n",
      "  term             estimate std.error statistic p.value    or conf.low conf.high\n",
      "  <chr>               <dbl>     <dbl>     <dbl>   <dbl> <dbl>    <dbl>     <dbl>\n",
      "1 biomarker_level…    -0.41      0.95     -0.43   0.668  0.66     0.08      4.34\n",
      "2 ptHigh pT stage…    -0.99      0.95     -1.04   0.298  0.37     0.05      2.41\n"
     ]
    }
   ],
   "source": [
    "OUTCOME %>% OR(progression_stage_next ~ biomarker_level + pt)"
   ]
  },
  {
   "cell_type": "markdown",
   "metadata": {
    "lines_to_next_cell": 0
   },
   "source": [
    "### Tumor stage progression at any biopsy\n",
    "#### Unadjusted"
   ]
  },
  {
   "cell_type": "code",
   "execution_count": 66,
   "metadata": {},
   "outputs": [
    {
     "name": "stdout",
     "output_type": "stream",
     "text": [
      "# A tibble: 1 x 8\n",
      "  term             estimate std.error statistic p.value    or conf.low conf.high\n",
      "  <chr>               <dbl>     <dbl>     <dbl>   <dbl> <dbl>    <dbl>     <dbl>\n",
      "1 biomarker_level…    -0.51      0.54     -0.94   0.347   0.6      0.2      1.74\n"
     ]
    }
   ],
   "source": [
    "OUTCOME %>% OR(progression_stage_any ~ biomarker_level)"
   ]
  },
  {
   "cell_type": "markdown",
   "metadata": {
    "lines_to_next_cell": 0
   },
   "source": [
    "#### Adjusted by pT stage (low vs high)"
   ]
  },
  {
   "cell_type": "code",
   "execution_count": 67,
   "metadata": {},
   "outputs": [
    {
     "name": "stdout",
     "output_type": "stream",
     "text": [
      "# A tibble: 2 x 8\n",
      "  term             estimate std.error statistic p.value    or conf.low conf.high\n",
      "  <chr>               <dbl>     <dbl>     <dbl>   <dbl> <dbl>    <dbl>     <dbl>\n",
      "1 biomarker_level…     0.03      0.62      0.04 9.67e-1  1.03     0.3       3.47\n",
      "2 ptHigh pT stage…    -3.01      0.8      -3.76 1.67e-4  0.05     0.01      0.2 \n"
     ]
    }
   ],
   "source": [
    "OUTCOME %>% OR(progression_stage_any ~ biomarker_level + pt)"
   ]
  },
  {
   "cell_type": "markdown",
   "metadata": {
    "lines_to_next_cell": 0
   },
   "source": [
    "## GATA3"
   ]
  },
  {
   "cell_type": "code",
   "execution_count": 68,
   "metadata": {},
   "outputs": [
    {
     "name": "stdout",
     "output_type": "stream",
     "text": [
      "# A tibble: 3 x 3\n",
      "  Levels                    N  Freq\n",
      "  <fct>                 <int> <dbl>\n",
      "1 Low GATA3 expression      9   7  \n",
      "2 High GATA3 expression   108  84.4\n",
      "3 <NA>                     11   8.6\n"
     ]
    }
   ],
   "source": [
    "OUTCOME <- OUTCOME %>% \n",
    "  mutate(biomarker_level = gata3_level)\n",
    "OUTCOME %>% summarize_fct(biomarker_level)"
   ]
  },
  {
   "cell_type": "markdown",
   "metadata": {
    "lines_to_next_cell": 0
   },
   "source": [
    "### Tumor recurrence at next biopsy\n",
    "#### Unadjusted"
   ]
  },
  {
   "cell_type": "code",
   "execution_count": 69,
   "metadata": {},
   "outputs": [
    {
     "name": "stdout",
     "output_type": "stream",
     "text": [
      "# A tibble: 1 x 8\n",
      "  term             estimate std.error statistic p.value    or conf.low conf.high\n",
      "  <chr>               <dbl>     <dbl>     <dbl>   <dbl> <dbl>    <dbl>     <dbl>\n",
      "1 biomarker_level…     0.08      0.76       0.1   0.918  1.08     0.25      5.53\n"
     ]
    }
   ],
   "source": [
    "OUTCOME %>% OR(recurrence_next ~ biomarker_level)"
   ]
  },
  {
   "cell_type": "markdown",
   "metadata": {
    "lines_to_next_cell": 0
   },
   "source": [
    "#### Adjusted by pT stage (low vs high)"
   ]
  },
  {
   "cell_type": "code",
   "execution_count": 70,
   "metadata": {},
   "outputs": [
    {
     "name": "stdout",
     "output_type": "stream",
     "text": [
      "# A tibble: 2 x 8\n",
      "  term             estimate std.error statistic p.value    or conf.low conf.high\n",
      "  <chr>               <dbl>     <dbl>     <dbl>   <dbl> <dbl>    <dbl>     <dbl>\n",
      "1 biomarker_level…    -0.09      0.77     -0.11   0.911  0.91     0.21      4.79\n",
      "2 ptHigh pT stage…    -0.17      0.45     -0.39   0.698  0.84     0.34      2   \n"
     ]
    }
   ],
   "source": [
    "OUTCOME %>% OR(recurrence_next ~ biomarker_level + pt)"
   ]
  },
  {
   "cell_type": "markdown",
   "metadata": {
    "lines_to_next_cell": 0
   },
   "source": [
    "### Tumor recurrence at any biopsy\n",
    "#### Unadjusted"
   ]
  },
  {
   "cell_type": "code",
   "execution_count": 71,
   "metadata": {},
   "outputs": [
    {
     "name": "stdout",
     "output_type": "stream",
     "text": [
      "# A tibble: 1 x 8\n",
      "  term             estimate std.error statistic p.value    or conf.low conf.high\n",
      "  <chr>               <dbl>     <dbl>     <dbl>   <dbl> <dbl>    <dbl>     <dbl>\n",
      "1 biomarker_level…    -0.32      1.12    -0.290   0.775  0.73     0.11      14.3\n"
     ]
    }
   ],
   "source": [
    "OUTCOME %>% OR(recurrence_any ~ biomarker_level)"
   ]
  },
  {
   "cell_type": "markdown",
   "metadata": {
    "lines_to_next_cell": 0
   },
   "source": [
    "#### Adjusted by pT stage (low vs high)"
   ]
  },
  {
   "cell_type": "code",
   "execution_count": 72,
   "metadata": {},
   "outputs": [
    {
     "name": "stdout",
     "output_type": "stream",
     "text": [
      "# A tibble: 2 x 8\n",
      "  term             estimate std.error statistic p.value    or conf.low conf.high\n",
      "  <chr>               <dbl>     <dbl>     <dbl>   <dbl> <dbl>    <dbl>     <dbl>\n",
      "1 biomarker_level…    -0.26      1.16     -0.23  0.821   0.77     0.11      15.8\n",
      "2 ptHigh pT stage…     1.27      0.77      1.65  0.0979  3.56     0.81      18.4\n"
     ]
    }
   ],
   "source": [
    "OUTCOME %>% OR(recurrence_any ~ biomarker_level + pt)"
   ]
  },
  {
   "cell_type": "markdown",
   "metadata": {
    "lines_to_next_cell": 0
   },
   "source": [
    "### Tumor grade progression at next biopsy\n",
    "#### Unadjusted"
   ]
  },
  {
   "cell_type": "code",
   "execution_count": 73,
   "metadata": {},
   "outputs": [
    {
     "name": "stdout",
     "output_type": "stream",
     "text": [
      "# A tibble: 1 x 8\n",
      "  term             estimate std.error statistic p.value    or conf.low conf.high\n",
      "  <chr>               <dbl>     <dbl>     <dbl>   <dbl> <dbl>    <dbl>     <dbl>\n",
      "1 biomarker_level…    -15.6     2174.     -0.01   0.994     0       NA   2.77e96\n"
     ]
    }
   ],
   "source": [
    "OUTCOME %>% OR(progression_grade_next ~ biomarker_level)"
   ]
  },
  {
   "cell_type": "markdown",
   "metadata": {
    "lines_to_next_cell": 0
   },
   "source": [
    "#### Adjusted by pT stage (low vs high)"
   ]
  },
  {
   "cell_type": "code",
   "execution_count": 74,
   "metadata": {},
   "outputs": [
    {
     "name": "stdout",
     "output_type": "stream",
     "text": [
      "# A tibble: 2 x 8\n",
      "  term            estimate std.error statistic p.value     or conf.low conf.high\n",
      "  <chr>              <dbl>     <dbl>     <dbl>   <dbl>  <dbl>    <dbl>     <dbl>\n",
      "1 biomarker_leve…    -17.1     5265.      0      0.997 0.           NA  3.15e251\n",
      "2 ptHigh pT stag…     17.9     2886.      0.01   0.995 6.18e7        0 NA       \n"
     ]
    }
   ],
   "source": [
    "OUTCOME %>% OR(progression_grade_next ~ biomarker_level + pt)"
   ]
  },
  {
   "cell_type": "markdown",
   "metadata": {
    "lines_to_next_cell": 0
   },
   "source": [
    "### Tumor grade progression at any biopsy\n",
    "#### Unadjusted"
   ]
  },
  {
   "cell_type": "code",
   "execution_count": 75,
   "metadata": {},
   "outputs": [
    {
     "name": "stdout",
     "output_type": "stream",
     "text": [
      "# A tibble: 1 x 8\n",
      "  term             estimate std.error statistic p.value    or conf.low conf.high\n",
      "  <chr>               <dbl>     <dbl>     <dbl>   <dbl> <dbl>    <dbl>     <dbl>\n",
      "1 biomarker_level…    -16.4     2174.     -0.01   0.994     0       NA   1.04e68\n"
     ]
    }
   ],
   "source": [
    "OUTCOME %>% OR(progression_grade_any ~ biomarker_level)"
   ]
  },
  {
   "cell_type": "markdown",
   "metadata": {
    "lines_to_next_cell": 0
   },
   "source": [
    "#### Adjusted by pT stage (low vs high)"
   ]
  },
  {
   "cell_type": "code",
   "execution_count": 76,
   "metadata": {},
   "outputs": [
    {
     "name": "stdout",
     "output_type": "stream",
     "text": [
      "# A tibble: 2 x 8\n",
      "  term             estimate std.error statistic p.value    or conf.low conf.high\n",
      "  <chr>               <dbl>     <dbl>     <dbl>   <dbl> <dbl>    <dbl>     <dbl>\n",
      "1 biomarker_level…   -16.0    2095.       -0.01   0.994  0       NA      1.92e88\n",
      "2 ptHigh pT stage…     1.54      1.08      1.43   0.154  4.66     0.82   8.76e 1\n"
     ]
    }
   ],
   "source": [
    "OUTCOME %>% OR(progression_grade_any ~ biomarker_level + pt)"
   ]
  },
  {
   "cell_type": "markdown",
   "metadata": {
    "lines_to_next_cell": 0
   },
   "source": [
    "### Tumor stage progression at next biopsy\n",
    "#### Unadjusted"
   ]
  },
  {
   "cell_type": "code",
   "execution_count": 77,
   "metadata": {},
   "outputs": [
    {
     "name": "stdout",
     "output_type": "stream",
     "text": [
      "# A tibble: 1 x 8\n",
      "  term             estimate std.error statistic p.value    or conf.low conf.high\n",
      "  <chr>               <dbl>     <dbl>     <dbl>   <dbl> <dbl>    <dbl>     <dbl>\n",
      "1 biomarker_level…     1.17      1.18      0.99   0.324  3.22     0.15      25.8\n"
     ]
    }
   ],
   "source": [
    "OUTCOME %>% OR(progression_stage_next ~ biomarker_level)"
   ]
  },
  {
   "cell_type": "markdown",
   "metadata": {
    "lines_to_next_cell": 0
   },
   "source": [
    "#### Adjusted by pT stage (low vs high)"
   ]
  },
  {
   "cell_type": "code",
   "execution_count": 78,
   "metadata": {},
   "outputs": [
    {
     "name": "stdout",
     "output_type": "stream",
     "text": [
      "# A tibble: 2 x 8\n",
      "  term             estimate std.error statistic p.value    or conf.low conf.high\n",
      "  <chr>               <dbl>     <dbl>     <dbl>   <dbl> <dbl>    <dbl>     <dbl>\n",
      "1 biomarker_level…     0.84      1.22      0.69   0.488  2.32     0.11     20.0 \n",
      "2 ptHigh pT stage…    -0.99      0.96     -1.03   0.302  0.37     0.05      2.48\n"
     ]
    }
   ],
   "source": [
    "OUTCOME %>% OR(progression_stage_next ~ biomarker_level + pt)"
   ]
  },
  {
   "cell_type": "markdown",
   "metadata": {
    "lines_to_next_cell": 0
   },
   "source": [
    "### Tumor stage progression at any biopsy\n",
    "#### Unadjusted"
   ]
  },
  {
   "cell_type": "code",
   "execution_count": 79,
   "metadata": {},
   "outputs": [
    {
     "name": "stdout",
     "output_type": "stream",
     "text": [
      "# A tibble: 1 x 8\n",
      "  term             estimate std.error statistic p.value    or conf.low conf.high\n",
      "  <chr>               <dbl>     <dbl>     <dbl>   <dbl> <dbl>    <dbl>     <dbl>\n",
      "1 biomarker_level…     0.74      0.85      0.86   0.389   2.1    0.290      9.81\n"
     ]
    }
   ],
   "source": [
    "OUTCOME %>% OR(progression_stage_any ~ biomarker_level)"
   ]
  },
  {
   "cell_type": "markdown",
   "metadata": {
    "lines_to_next_cell": 0
   },
   "source": [
    "#### Adjusted by pT stage (low vs high)"
   ]
  },
  {
   "cell_type": "code",
   "execution_count": 80,
   "metadata": {},
   "outputs": [
    {
     "name": "stdout",
     "output_type": "stream",
     "text": [
      "# A tibble: 2 x 8\n",
      "  term             estimate std.error statistic p.value    or conf.low conf.high\n",
      "  <chr>               <dbl>     <dbl>     <dbl>   <dbl> <dbl>    <dbl>     <dbl>\n",
      "1 biomarker_level…     0.17      0.94      0.18 8.60e-1  1.19     0.15      6.97\n",
      "2 ptHigh pT stage…    -2.93      0.8      -3.68 2.37e-4  0.05     0.01      0.21\n"
     ]
    }
   ],
   "source": [
    "OUTCOME %>% OR(progression_stage_any ~ biomarker_level + pt)"
   ]
  },
  {
   "cell_type": "markdown",
   "metadata": {
    "lines_to_next_cell": 0
   },
   "source": [
    "## Uroplakin"
   ]
  },
  {
   "cell_type": "code",
   "execution_count": 81,
   "metadata": {},
   "outputs": [
    {
     "name": "stdout",
     "output_type": "stream",
     "text": [
      "# A tibble: 3 x 3\n",
      "  Levels                        N  Freq\n",
      "  <fct>                     <int> <dbl>\n",
      "1 Low Uroplakin expression     83  64.8\n",
      "2 High Uroplakin expression    32  25  \n",
      "3 <NA>                         13  10.2\n"
     ]
    }
   ],
   "source": [
    "OUTCOME <- OUTCOME %>% \n",
    "  mutate(biomarker_level = uroplakin_level)\n",
    "OUTCOME %>% summarize_fct(biomarker_level)"
   ]
  },
  {
   "cell_type": "markdown",
   "metadata": {
    "lines_to_next_cell": 0
   },
   "source": [
    "### Tumor recurrence at next biopsy\n",
    "#### Unadjusted"
   ]
  },
  {
   "cell_type": "code",
   "execution_count": 82,
   "metadata": {},
   "outputs": [
    {
     "name": "stdout",
     "output_type": "stream",
     "text": [
      "# A tibble: 1 x 8\n",
      "  term             estimate std.error statistic p.value    or conf.low conf.high\n",
      "  <chr>               <dbl>     <dbl>     <dbl>   <dbl> <dbl>    <dbl>     <dbl>\n",
      "1 biomarker_level…    -0.61      0.46     -1.31   0.191  0.54     0.21      1.32\n"
     ]
    }
   ],
   "source": [
    "OUTCOME %>% OR(recurrence_next ~ biomarker_level)"
   ]
  },
  {
   "cell_type": "markdown",
   "metadata": {
    "lines_to_next_cell": 0
   },
   "source": [
    "#### Adjusted by pT stage (low vs high)"
   ]
  },
  {
   "cell_type": "code",
   "execution_count": 83,
   "metadata": {},
   "outputs": [
    {
     "name": "stdout",
     "output_type": "stream",
     "text": [
      "# A tibble: 2 x 8\n",
      "  term             estimate std.error statistic p.value    or conf.low conf.high\n",
      "  <chr>               <dbl>     <dbl>     <dbl>   <dbl> <dbl>    <dbl>     <dbl>\n",
      "1 biomarker_level…    -0.44      0.47     -0.92   0.358  0.64     0.25      1.61\n",
      "2 ptHigh pT stage…    -0.19      0.46     -0.43   0.671  0.83     0.33      1.99\n"
     ]
    }
   ],
   "source": [
    "OUTCOME %>% OR(recurrence_next ~ biomarker_level + pt)"
   ]
  },
  {
   "cell_type": "markdown",
   "metadata": {
    "lines_to_next_cell": 0
   },
   "source": [
    "### Tumor recurrence at any biopsy\n",
    "#### Unadjusted"
   ]
  },
  {
   "cell_type": "code",
   "execution_count": 84,
   "metadata": {},
   "outputs": [
    {
     "name": "stdout",
     "output_type": "stream",
     "text": [
      "# A tibble: 1 x 8\n",
      "  term             estimate std.error statistic p.value    or conf.low conf.high\n",
      "  <chr>               <dbl>     <dbl>     <dbl>   <dbl> <dbl>    <dbl>     <dbl>\n",
      "1 biomarker_level…     0.12      0.72      0.16   0.873  1.13     0.23      4.34\n"
     ]
    }
   ],
   "source": [
    "OUTCOME %>% OR(recurrence_any ~ biomarker_level)"
   ]
  },
  {
   "cell_type": "markdown",
   "metadata": {
    "lines_to_next_cell": 0
   },
   "source": [
    "#### Adjusted by pT stage (low vs high)"
   ]
  },
  {
   "cell_type": "code",
   "execution_count": 85,
   "metadata": {},
   "outputs": [
    {
     "name": "stdout",
     "output_type": "stream",
     "text": [
      "# A tibble: 2 x 8\n",
      "  term             estimate std.error statistic p.value    or conf.low conf.high\n",
      "  <chr>               <dbl>     <dbl>     <dbl>   <dbl> <dbl>    <dbl>     <dbl>\n",
      "1 biomarker_level…     0.24      0.78      0.3   0.761   1.27     0.24      5.69\n",
      "2 ptHigh pT stage…     1.28      0.77      1.66  0.0968  3.6      0.82     18.5 \n"
     ]
    }
   ],
   "source": [
    "OUTCOME %>% OR(recurrence_any ~ biomarker_level + pt)"
   ]
  },
  {
   "cell_type": "markdown",
   "metadata": {
    "lines_to_next_cell": 0
   },
   "source": [
    "### Tumor grade progression at next biopsy\n",
    "#### Unadjusted"
   ]
  },
  {
   "cell_type": "code",
   "execution_count": 86,
   "metadata": {},
   "outputs": [
    {
     "name": "stdout",
     "output_type": "stream",
     "text": [
      "# A tibble: 1 x 8\n",
      "  term             estimate std.error statistic p.value    or conf.low conf.high\n",
      "  <chr>               <dbl>     <dbl>     <dbl>   <dbl> <dbl>    <dbl>     <dbl>\n",
      "1 biomarker_level…    -1.35      0.94     -1.44   0.151  0.26     0.03      1.64\n"
     ]
    }
   ],
   "source": [
    "OUTCOME %>% OR(progression_grade_next ~ biomarker_level)"
   ]
  },
  {
   "cell_type": "markdown",
   "metadata": {
    "lines_to_next_cell": 0
   },
   "source": [
    "#### Adjusted by pT stage (low vs high)"
   ]
  },
  {
   "cell_type": "code",
   "execution_count": 87,
   "metadata": {},
   "outputs": [
    {
     "name": "stdout",
     "output_type": "stream",
     "text": [
      "# A tibble: 2 x 8\n",
      "  term           estimate std.error statistic p.value      or conf.low conf.high\n",
      "  <chr>             <dbl>     <dbl>     <dbl>   <dbl>   <dbl>    <dbl>     <dbl>\n",
      "1 biomarker_lev…    -1.62      0.96     -1.68  0.0930 2.00e-1     0.02      1.31\n",
      "2 ptHigh pT sta…    18.3    2876.        0.01  0.995  8.77e+7     0        NA   \n"
     ]
    }
   ],
   "source": [
    "OUTCOME %>% OR(progression_grade_next ~ biomarker_level + pt)"
   ]
  },
  {
   "cell_type": "markdown",
   "metadata": {
    "lines_to_next_cell": 0
   },
   "source": [
    "### Tumor grade progression at any biopsy\n",
    "#### Unadjusted"
   ]
  },
  {
   "cell_type": "code",
   "execution_count": 88,
   "metadata": {},
   "outputs": [
    {
     "name": "stdout",
     "output_type": "stream",
     "text": [
      "# A tibble: 1 x 8\n",
      "  term             estimate std.error statistic p.value    or conf.low conf.high\n",
      "  <chr>               <dbl>     <dbl>     <dbl>   <dbl> <dbl>    <dbl>     <dbl>\n",
      "1 biomarker_level…     0.03      0.71      0.04   0.966  1.03     0.28      4.95\n"
     ]
    }
   ],
   "source": [
    "OUTCOME %>% OR(progression_grade_any ~ biomarker_level)"
   ]
  },
  {
   "cell_type": "markdown",
   "metadata": {
    "lines_to_next_cell": 0
   },
   "source": [
    "#### Adjusted by pT stage (low vs high)"
   ]
  },
  {
   "cell_type": "code",
   "execution_count": 89,
   "metadata": {},
   "outputs": [
    {
     "name": "stdout",
     "output_type": "stream",
     "text": [
      "# A tibble: 2 x 8\n",
      "  term             estimate std.error statistic p.value    or conf.low conf.high\n",
      "  <chr>               <dbl>     <dbl>     <dbl>   <dbl> <dbl>    <dbl>     <dbl>\n",
      "1 biomarker_level…    -0.25      0.74     -0.33   0.739  0.78     0.19       3.9\n",
      "2 ptHigh pT stage…     1.64      1.08      1.52   0.129  5.16     0.9       97.9\n"
     ]
    }
   ],
   "source": [
    "OUTCOME %>% OR(progression_grade_any ~ biomarker_level + pt)"
   ]
  },
  {
   "cell_type": "markdown",
   "metadata": {
    "lines_to_next_cell": 0
   },
   "source": [
    "### Tumor stage progression at next biopsy\n",
    "#### Unadjusted"
   ]
  },
  {
   "cell_type": "code",
   "execution_count": 90,
   "metadata": {},
   "outputs": [
    {
     "name": "stdout",
     "output_type": "stream",
     "text": [
      "# A tibble: 1 x 8\n",
      "  term             estimate std.error statistic p.value    or conf.low conf.high\n",
      "  <chr>               <dbl>     <dbl>     <dbl>   <dbl> <dbl>    <dbl>     <dbl>\n",
      "1 biomarker_level…    -0.48      0.94     -0.51   0.608  0.62      0.1      4.88\n"
     ]
    }
   ],
   "source": [
    "OUTCOME %>% OR(progression_stage_next ~ biomarker_level)"
   ]
  },
  {
   "cell_type": "markdown",
   "metadata": {
    "lines_to_next_cell": 0
   },
   "source": [
    "#### Adjusted by pT stage (low vs high)"
   ]
  },
  {
   "cell_type": "code",
   "execution_count": 91,
   "metadata": {},
   "outputs": [
    {
     "name": "stdout",
     "output_type": "stream",
     "text": [
      "# A tibble: 2 x 8\n",
      "  term             estimate std.error statistic p.value    or conf.low conf.high\n",
      "  <chr>               <dbl>     <dbl>     <dbl>   <dbl> <dbl>    <dbl>     <dbl>\n",
      "1 biomarker_level…    -0.27      0.96     -0.28   0.778  0.76     0.12      6.2 \n",
      "2 ptHigh pT stage…    -1.1       0.95     -1.16   0.248  0.33     0.04      2.15\n"
     ]
    }
   ],
   "source": [
    "OUTCOME %>% OR(progression_stage_next ~ biomarker_level + pt)"
   ]
  },
  {
   "cell_type": "markdown",
   "metadata": {
    "lines_to_next_cell": 0
   },
   "source": [
    "### Tumor stage progression at any biopsy\n",
    "#### Unadjusted"
   ]
  },
  {
   "cell_type": "code",
   "execution_count": 92,
   "metadata": {},
   "outputs": [
    {
     "name": "stdout",
     "output_type": "stream",
     "text": [
      "# A tibble: 1 x 8\n",
      "  term             estimate std.error statistic p.value    or conf.low conf.high\n",
      "  <chr>               <dbl>     <dbl>     <dbl>   <dbl> <dbl>    <dbl>     <dbl>\n",
      "1 biomarker_level…     -0.3      0.59     -0.51   0.611  0.74     0.24      2.55\n"
     ]
    }
   ],
   "source": [
    "OUTCOME %>% OR(progression_stage_any ~ biomarker_level)"
   ]
  },
  {
   "cell_type": "markdown",
   "metadata": {
    "lines_to_next_cell": 0
   },
   "source": [
    "#### Adjusted by pT stage (low vs high)"
   ]
  },
  {
   "cell_type": "code",
   "execution_count": 93,
   "metadata": {},
   "outputs": [
    {
     "name": "stdout",
     "output_type": "stream",
     "text": [
      "# A tibble: 2 x 8\n",
      "  term             estimate std.error statistic p.value    or conf.low conf.high\n",
      "  <chr>               <dbl>     <dbl>     <dbl>   <dbl> <dbl>    <dbl>     <dbl>\n",
      "1 biomarker_level…     0.18      0.66      0.26 7.91e-1  1.2      0.34      4.66\n",
      "2 ptHigh pT stage…    -3         0.8      -3.74 1.87e-4  0.05     0.01      0.2 \n"
     ]
    }
   ],
   "source": [
    "OUTCOME %>% OR(progression_stage_any ~ biomarker_level + pt)"
   ]
  },
  {
   "cell_type": "markdown",
   "metadata": {
    "lines_to_next_cell": 0
   },
   "source": [
    "## Summary plot\n",
    "Expression of ER and GATA3 were excluded from analysis, considering that most tumor cells lacked ER expression and most tumor cells were GATA3 positive."
   ]
  },
  {
   "cell_type": "code",
   "execution_count": 94,
   "metadata": {},
   "outputs": [],
   "source": [
    "# A function to estimate odds ratios using binomial logistic regression\n",
    "OR_tbl <- function(data, formula, marker, outcome, ...) {\n",
    "  \n",
    "  mdl <- glm(as.formula(formula), data = data, family = \"binomial\", ...)\n",
    "  mdl_coef <- tidy(mdl) %>% \n",
    "    mutate(\n",
    "      estimate = round(estimate, digits = 2),\n",
    "      std.error = round(std.error, digits = 2),\n",
    "      statistic = round(statistic, digits = 2),\n",
    "      or = round(exp(estimate), digits = 2)\n",
    "    )\n",
    "  mdl_confint <- exp(confint_tidy(mdl)) %>% round(digits = 2)\n",
    "  mdl_tbl <- bind_cols(mdl_coef, mdl_confint) %>% \n",
    "    select(or, conf.low, conf.high) %>% \n",
    "    mutate(\n",
    "        marker = paste(marker),\n",
    "        outcome = paste(outcome)\n",
    "    )\n",
    "  \n",
    "  return(mdl_tbl[2 , ])\n",
    "\n",
    "}"
   ]
  },
  {
   "cell_type": "markdown",
   "metadata": {
    "lines_to_next_cell": 0
   },
   "source": [
    "### Tumor recurrence at next biopsy"
   ]
  },
  {
   "cell_type": "code",
   "execution_count": 95,
   "metadata": {},
   "outputs": [
    {
     "name": "stdout",
     "output_type": "stream",
     "text": [
      "# A tibble: 5 x 5\n",
      "     or conf.low conf.high marker       outcome                                 \n",
      "  <dbl>    <dbl>     <dbl> <chr>        <chr>                                   \n",
      "1  1        0.98      1.01 Uroplakin II Tumor recurrence at next biopsy diagnos…\n",
      "2  1        0.98      1.01 Her2         Tumor recurrence at next biopsy diagnos…\n",
      "3  1        0.99      1.01 CK20         Tumor recurrence at next biopsy diagnos…\n",
      "4  1.01     1         1.03 CD44         Tumor recurrence at next biopsy diagnos…\n",
      "5  1        0.99      1.02 CK5/6        Tumor recurrence at next biopsy diagnos…\n"
     ]
    }
   ],
   "source": [
    "outcome_str <- \"Tumor recurrence at next biopsy diagnosis\"\n",
    "outcome_ck56 <- OUTCOME %>% OR_tbl(recurrence_next ~ ck56 + pt, \"CK5/6\", outcome_str)\n",
    "outcome_ck20 <- OUTCOME %>% OR_tbl(recurrence_next ~ ck20 + pt, \"CK20\", outcome_str)\n",
    "outcome_cd44 <- OUTCOME %>% OR_tbl(recurrence_next ~ cd44 + pt, \"CD44\", outcome_str)\n",
    "outcome_her2 <- OUTCOME %>% OR_tbl(recurrence_next ~ her2 + pt, \"Her2\", outcome_str)\n",
    "outcome_uroplk <- OUTCOME %>% OR_tbl(recurrence_next ~ uroplakin + pt, \"Uroplakin II\", outcome_str)\n",
    "\n",
    "recurrence_next_marker <- bind_rows(\n",
    "    outcome_uroplk, outcome_her2, outcome_ck20, outcome_cd44, outcome_ck56\n",
    ")\n",
    "\n",
    "print(recurrence_next_marker)"
   ]
  },
  {
   "cell_type": "markdown",
   "metadata": {
    "lines_to_next_cell": 0
   },
   "source": [
    "### Tumor recurrence at any biopsy"
   ]
  },
  {
   "cell_type": "code",
   "execution_count": 96,
   "metadata": {},
   "outputs": [
    {
     "name": "stdout",
     "output_type": "stream",
     "text": [
      "# A tibble: 5 x 5\n",
      "     or conf.low conf.high marker      outcome                                  \n",
      "  <dbl>    <dbl>     <dbl> <chr>       <chr>                                    \n",
      "1  0.98     0.92      1.01 Uroplakin … Tumor recurrence at any subsequent biops…\n",
      "2  0.97     0.94      1    Her2        Tumor recurrence at any subsequent biops…\n",
      "3  0.99     0.96      1.01 CK20        Tumor recurrence at any subsequent biops…\n",
      "4  1.01     0.99      1.04 CD44        Tumor recurrence at any subsequent biops…\n",
      "5  1        0.96      1.03 CK5/6       Tumor recurrence at any subsequent biops…\n"
     ]
    }
   ],
   "source": [
    "outcome_str <- \"Tumor recurrence at any subsequent biopsy diagnosis\"\n",
    "outcome_ck56 <- OUTCOME %>% OR_tbl(recurrence_any ~ ck56 + pt, \"CK5/6\", outcome_str)\n",
    "outcome_ck20 <- OUTCOME %>% OR_tbl(recurrence_any ~ ck20 + pt, \"CK20\", outcome_str)\n",
    "outcome_cd44 <- OUTCOME %>% OR_tbl(recurrence_any ~ cd44 + pt, \"CD44\", outcome_str)\n",
    "outcome_her2 <- OUTCOME %>% OR_tbl(recurrence_any ~ her2 + pt, \"Her2\", outcome_str)\n",
    "outcome_uroplk <- OUTCOME %>% OR_tbl(recurrence_any ~ uroplakin + pt, \"Uroplakin II\", outcome_str)\n",
    "\n",
    "recurrence_any_marker <- bind_rows(\n",
    "    outcome_uroplk, outcome_her2, outcome_ck20, outcome_cd44, outcome_ck56\n",
    ")\n",
    "\n",
    "print(recurrence_any_marker)"
   ]
  },
  {
   "cell_type": "markdown",
   "metadata": {
    "lines_to_next_cell": 0
   },
   "source": [
    "### Tumor stage progression at next biopsy"
   ]
  },
  {
   "cell_type": "code",
   "execution_count": 97,
   "metadata": {},
   "outputs": [
    {
     "name": "stdout",
     "output_type": "stream",
     "text": [
      "# A tibble: 5 x 5\n",
      "     or conf.low conf.high marker      outcome                                  \n",
      "  <dbl>    <dbl>     <dbl> <chr>       <chr>                                    \n",
      "1  1.01     0.98      1.09 Uroplakin … Tumor stage progression at next biopsy d…\n",
      "2  1        0.97      1.03 Her2        Tumor stage progression at next biopsy d…\n",
      "3  1.01     0.98      1.05 CK20        Tumor stage progression at next biopsy d…\n",
      "4  1.01     0.98      1.05 CD44        Tumor stage progression at next biopsy d…\n",
      "5  0.94     0.9       0.98 CK5/6       Tumor stage progression at next biopsy d…\n"
     ]
    }
   ],
   "source": [
    "outcome_str <- \"Tumor stage progression at next biopsy diagnosis\"\n",
    "outcome_ck56 <- OUTCOME %>% OR_tbl(progression_stage_next ~ ck56 + pt, \"CK5/6\", outcome_str)\n",
    "outcome_ck20 <- OUTCOME %>% OR_tbl(progression_stage_next ~ ck20 + pt, \"CK20\", outcome_str)\n",
    "outcome_cd44 <- OUTCOME %>% OR_tbl(progression_stage_next ~ cd44 + pt, \"CD44\", outcome_str)\n",
    "outcome_her2 <- OUTCOME %>% OR_tbl(progression_stage_next ~ her2 + pt, \"Her2\", outcome_str)\n",
    "outcome_uroplk <- OUTCOME %>% OR_tbl(progression_stage_next ~ uroplakin + pt, \"Uroplakin II\", outcome_str)\n",
    "\n",
    "progression_stage_next_marker <- bind_rows(\n",
    "    outcome_uroplk, outcome_her2, outcome_ck20, outcome_cd44, outcome_ck56\n",
    ")\n",
    "\n",
    "print(progression_stage_next_marker)"
   ]
  },
  {
   "cell_type": "markdown",
   "metadata": {
    "lines_to_next_cell": 0
   },
   "source": [
    "### Tumor stage progression at any biopsy"
   ]
  },
  {
   "cell_type": "code",
   "execution_count": 98,
   "metadata": {},
   "outputs": [
    {
     "name": "stdout",
     "output_type": "stream",
     "text": [
      "# A tibble: 5 x 5\n",
      "     or conf.low conf.high marker      outcome                                  \n",
      "  <dbl>    <dbl>     <dbl> <chr>       <chr>                                    \n",
      "1  1.02     0.99      1.06 Uroplakin … Tumor stage progression at any subsequen…\n",
      "2  1        0.98      1.02 Her2        Tumor stage progression at any subsequen…\n",
      "3  1.01     0.99      1.04 CK20        Tumor stage progression at any subsequen…\n",
      "4  1.01     0.99      1.04 CD44        Tumor stage progression at any subsequen…\n",
      "5  0.97     0.94      0.99 CK5/6       Tumor stage progression at any subsequen…\n"
     ]
    }
   ],
   "source": [
    "outcome_str <- \"Tumor stage progression at any subsequent biopsy diagnosis\"\n",
    "outcome_ck56 <- OUTCOME %>% OR_tbl(progression_stage_any ~ ck56 + pt, \"CK5/6\", outcome_str)\n",
    "outcome_ck20 <- OUTCOME %>% OR_tbl(progression_stage_any ~ ck20 + pt, \"CK20\", outcome_str)\n",
    "outcome_cd44 <- OUTCOME %>% OR_tbl(progression_stage_any ~ cd44 + pt, \"CD44\", outcome_str)\n",
    "outcome_her2 <- OUTCOME %>% OR_tbl(progression_stage_any ~ her2 + pt, \"Her2\", outcome_str)\n",
    "outcome_uroplk <- OUTCOME %>% OR_tbl(progression_stage_any ~ uroplakin + pt, \"Uroplakin II\", outcome_str)\n",
    "\n",
    "progression_stage_any_marker <- bind_rows(\n",
    "    outcome_uroplk, outcome_her2, outcome_ck20, outcome_cd44, outcome_ck56\n",
    ")\n",
    "\n",
    "print(progression_stage_any_marker)"
   ]
  },
  {
   "cell_type": "markdown",
   "metadata": {
    "lines_to_next_cell": 0
   },
   "source": [
    "### Tumor grade progression at next biopsy"
   ]
  },
  {
   "cell_type": "code",
   "execution_count": 99,
   "metadata": {},
   "outputs": [
    {
     "name": "stdout",
     "output_type": "stream",
     "text": [
      "# A tibble: 5 x 5\n",
      "     or conf.low conf.high marker      outcome                                  \n",
      "  <dbl>    <dbl>     <dbl> <chr>       <chr>                                    \n",
      "1  0.97     0.94      1.02 Uroplakin … Tumor grade progression at next biopsy d…\n",
      "2  0.97     0.94      1    Her2        Tumor grade progression at next biopsy d…\n",
      "3  0.99     0.96      1.02 CK20        Tumor grade progression at next biopsy d…\n",
      "4  1.02     0.98      1.06 CD44        Tumor grade progression at next biopsy d…\n",
      "5  1        0.97      1.04 CK5/6       Tumor grade progression at next biopsy d…\n"
     ]
    }
   ],
   "source": [
    "outcome_str <- \"Tumor grade progression at next biopsy diagnosis\"\n",
    "outcome_ck56 <- OUTCOME %>% OR_tbl(progression_grade_next ~ ck56 + pt, \"CK5/6\", outcome_str)\n",
    "outcome_ck20 <- OUTCOME %>% OR_tbl(progression_grade_next ~ ck20 + pt, \"CK20\", outcome_str)\n",
    "outcome_cd44 <- OUTCOME %>% OR_tbl(progression_grade_next ~ cd44 + pt, \"CD44\", outcome_str)\n",
    "outcome_her2 <- OUTCOME %>% OR_tbl(progression_grade_next ~ her2 + pt, \"Her2\", outcome_str)\n",
    "outcome_uroplk <- OUTCOME %>% OR_tbl(progression_grade_next ~ uroplakin + pt, \"Uroplakin II\", outcome_str)\n",
    "\n",
    "progression_grade_next_marker <- bind_rows(\n",
    "    outcome_uroplk, outcome_her2, outcome_ck20, outcome_cd44, outcome_ck56\n",
    ")\n",
    "\n",
    "print(progression_grade_next_marker)"
   ]
  },
  {
   "cell_type": "markdown",
   "metadata": {
    "lines_to_next_cell": 0
   },
   "source": [
    "### Tumor grade progression at any biopsy"
   ]
  },
  {
   "cell_type": "code",
   "execution_count": 100,
   "metadata": {},
   "outputs": [
    {
     "name": "stdout",
     "output_type": "stream",
     "text": [
      "# A tibble: 5 x 5\n",
      "     or conf.low conf.high marker      outcome                                  \n",
      "  <dbl>    <dbl>     <dbl> <chr>       <chr>                                    \n",
      "1  1        0.97      1.05 Uroplakin … Tumor grade progression at any subsequen…\n",
      "2  0.98     0.95      1    Her2        Tumor grade progression at any subsequen…\n",
      "3  0.99     0.97      1.01 CK20        Tumor grade progression at any subsequen…\n",
      "4  1        0.98      1.02 CD44        Tumor grade progression at any subsequen…\n",
      "5  1.01     0.98      1.04 CK5/6       Tumor grade progression at any subsequen…\n"
     ]
    }
   ],
   "source": [
    "outcome_str <- \"Tumor grade progression at any subsequent biopsy diagnosis\"\n",
    "outcome_ck56 <- OUTCOME %>% OR_tbl(progression_grade_any ~ ck56 + pt, \"CK5/6\", outcome_str)\n",
    "outcome_ck20 <- OUTCOME %>% OR_tbl(progression_grade_any ~ ck20 + pt, \"CK20\", outcome_str)\n",
    "outcome_cd44 <- OUTCOME %>% OR_tbl(progression_grade_any ~ cd44 + pt, \"CD44\", outcome_str)\n",
    "outcome_her2 <- OUTCOME %>% OR_tbl(progression_grade_any ~ her2 + pt, \"Her2\", outcome_str)\n",
    "outcome_uroplk <- OUTCOME %>% OR_tbl(progression_grade_any ~ uroplakin + pt, \"Uroplakin II\", outcome_str)\n",
    "\n",
    "progression_grade_any_marker <- bind_rows(\n",
    "    outcome_uroplk, outcome_her2, outcome_ck20, outcome_cd44, outcome_ck56\n",
    ")\n",
    "\n",
    "print(progression_grade_any_marker)"
   ]
  },
  {
   "cell_type": "markdown",
   "metadata": {
    "lines_to_next_cell": 0
   },
   "source": [
    "### Final table"
   ]
  },
  {
   "cell_type": "code",
   "execution_count": 101,
   "metadata": {},
   "outputs": [
    {
     "name": "stdout",
     "output_type": "stream",
     "text": [
      "# A tibble: 30 x 5\n",
      "      or conf.low conf.high marker      outcome                                 \n",
      "   <dbl>    <dbl>     <dbl> <chr>       <chr>                                   \n",
      " 1  1        0.98      1.01 Uroplakin … Tumor recurrence at next biopsy diagnos…\n",
      " 2  1        0.98      1.01 Her2        Tumor recurrence at next biopsy diagnos…\n",
      " 3  1        0.99      1.01 CK20        Tumor recurrence at next biopsy diagnos…\n",
      " 4  1.01     1         1.03 CD44        Tumor recurrence at next biopsy diagnos…\n",
      " 5  1        0.99      1.02 CK5/6       Tumor recurrence at next biopsy diagnos…\n",
      " 6  0.98     0.92      1.01 Uroplakin … Tumor recurrence at any subsequent biop…\n",
      " 7  0.97     0.94      1    Her2        Tumor recurrence at any subsequent biop…\n",
      " 8  0.99     0.96      1.01 CK20        Tumor recurrence at any subsequent biop…\n",
      " 9  1.01     0.99      1.04 CD44        Tumor recurrence at any subsequent biop…\n",
      "10  1        0.96      1.03 CK5/6       Tumor recurrence at any subsequent biop…\n",
      "# … with 20 more rows\n"
     ]
    }
   ],
   "source": [
    "outcome_marker <- bind_rows(\n",
    "  recurrence_next_marker,\n",
    "  recurrence_any_marker,\n",
    "  progression_grade_next_marker,\n",
    "  progression_grade_any_marker,\n",
    "  progression_stage_next_marker,\n",
    "  progression_stage_any_marker\n",
    ")\n",
    "\n",
    "print(outcome_marker)"
   ]
  },
  {
   "cell_type": "markdown",
   "metadata": {
    "lines_to_next_cell": 0
   },
   "source": [
    "### Plot\n",
    "Forest plots of biomarkers by outcome. Odds ratios (dots) with 95% confidence intervals (error bars) of expression levels and outcome. The dashed line corresponds to an odds ratio of 1. Odds ratios were adjusted by pT stage"
   ]
  },
  {
   "cell_type": "code",
   "execution_count": 102,
   "metadata": {
    "lines_to_next_cell": 2
   },
   "outputs": [
    {
     "data": {
      "image/png": "[encoded data removed]",
      "text/plain": [
       "plot without title"
      ]
     },
     "metadata": {},
     "output_type": "display_data"
    }
   ],
   "source": [
    "options(repr.plot.width = 10, repr.plot.height = 10)\n",
    "\n",
    "outcome_marker <- outcome_marker %>% \n",
    "    mutate(\n",
    "        outcome = fct_relevel(\n",
    "            outcome,\n",
    "            \"Tumor recurrence at next biopsy diagnosis\",\n",
    "            \"Tumor recurrence at any subsequent biopsy diagnosis\",\n",
    "            \"Tumor grade progression at next biopsy diagnosis\",\n",
    "            \"Tumor grade progression at any subsequent biopsy diagnosis\",\n",
    "            \"Tumor stage progression at next biopsy diagnosis\",\n",
    "            \"Tumor stage progression at any subsequent biopsy diagnosis\"\n",
    "        )\n",
    "    )\n",
    "\n",
    "OR_Plot <- ggplot(outcome_marker, aes(x = marker, y = or, ymin = conf.low, ymax = conf.high)) +\n",
    "    geom_pointrange() +\n",
    "    geom_errorbar(aes(ymin = conf.low, ymax = conf.high)) +\n",
    "    geom_hline(yintercept = 1, linetype = 2) +\n",
    "    facet_wrap(~ outcome, ncol = 2) +\n",
    "    coord_flip() +\n",
    "    labs(x = NULL, y = NULL) +\n",
    "    theme(\n",
    "        strip.text.x = element_text(face = \"bold\", hjust = 0, size = 10)\n",
    "    )\n",
    "\n",
    "OR_Plot"
   ]
  },
  {
   "cell_type": "code",
   "execution_count": 103,
   "metadata": {},
   "outputs": [],
   "source": [
    "ggsave(\n",
    "  filename = \"Figs/BL-NMIBUC-OR.png\",\n",
    "  plot = OR_Plot,\n",
    "  width = 10,\n",
    "  height = 10,\n",
    "  units = \"in\"\n",
    ")"
   ]
  }
 ],
 "metadata": {
  "jupytext": {
   "formats": "ipynb,Rmd"
  },
  "kernelspec": {
   "display_name": "R",
   "language": "R",
   "name": "ir"
  },
  "language_info": {
   "codemirror_mode": "r",
   "file_extension": ".r",
   "mimetype": "text/x-r-source",
   "name": "R",
   "pygments_lexer": "r",
   "version": "3.5.3"
  },
  "toc": {
   "base_numbering": 1,
   "nav_menu": {},
   "number_sections": true,
   "sideBar": true,
   "skip_h1_title": true,
   "title_cell": "Table of Contents",
   "title_sidebar": "Contents",
   "toc_cell": false,
   "toc_position": {},
   "toc_section_display": true,
   "toc_window_display": true
  }
 },
 "nbformat": 4,
 "nbformat_minor": 2
}
