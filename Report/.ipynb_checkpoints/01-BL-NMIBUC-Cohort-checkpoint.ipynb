{
 "cells": [
  {
   "cell_type": "markdown",
   "metadata": {},
   "source": [
    "# Cohort features"
   ]
  },
  {
   "cell_type": "code",
   "execution_count": 1,
   "metadata": {},
   "outputs": [
    {
     "name": "stdout",
     "output_type": "stream",
     "text": [
      "Observations: 411\n",
      "Variables: 23\n",
      "$ registry_id            <dbl> 20060035601, 19970063502, 20040008703, 2007008…\n",
      "$ pt_stage               <fct> T1, T1, T2, T1, T1, T1, Tis, T1, T2, Ta, Ta, T…\n",
      "$ sp_id                  <chr> \"06-S-4802\", \"07-S-3788\", \"07-S-8931\", \"07-S-6…\n",
      "$ ck56                   <dbl> 60, 10, 90, NA, NA, 5, NA, 0, 0, 40, NA, 40, 4…\n",
      "$ ck20                   <dbl> 0, 0, 0, NA, 0, 70, NA, 80, 0, 0, NA, 0, 10, N…\n",
      "$ cd44                   <dbl> 70, 60, NA, NA, NA, 40, NA, 5, NA, 60, NA, NA,…\n",
      "$ gata3                  <dbl> 100, 100, 100, NA, 100, 100, NA, 100, 100, 100…\n",
      "$ er                     <dbl> 40, 20, NA, NA, 0, 0, 0, 0, 0, 5, NA, NA, 0, N…\n",
      "$ her2                   <dbl> 0, 5, NA, NA, 60, 30, NA, 40, 60, 60, NA, 30, …\n",
      "$ uroplakin              <dbl> 5, 20, NA, NA, NA, 0, NA, 10, NA, 0, NA, NA, 0…\n",
      "$ sex                    <fct> Male, Male, Male, Male, Male, Male, Female, Ma…\n",
      "$ death                  <fct> Dead, Alive, Dead, Alive, Alive, Alive, Alive,…\n",
      "$ progression_stage_any  <fct> No stage progression, Stage progression, Stage…\n",
      "$ progression_stage_next <fct> No stage progression, No stage progression, No…\n",
      "$ recurrence_any         <fct> No tumor recurrence, Tumor recurrence, Tumor r…\n",
      "$ recurrence_next        <fct> No tumor recurrence, Tumor recurrence, No tumo…\n",
      "$ progression_grade_any  <fct> No grade progression, No grade progression, No…\n",
      "$ progression_grade_next <fct> No grade progression, No grade progression, No…\n",
      "$ age_dx                 <dbl> 77, 71, 89, 59, 76, 68, 59, 71, 71, 60, 56, 78…\n",
      "$ fu_mo                  <dbl> 42.6, 36.0, 3.9, 43.5, 39.1, 16.3, 66.6, 51.5,…\n",
      "$ histo_dx               <fct> HG, HG, HG, HG, HG, HG, CIS, HG, Invasive, HG,…\n",
      "$ date_dx                <dttm> 2006-06-07, 2007-04-17, 2007-09-05, 2007-06-1…\n",
      "$ date_last              <dttm> 2009-12-07, 2010-04-02, 2008-01-01, 2011-01-1…\n"
     ]
    }
   ],
   "source": [
    "# Libraries\n",
    "suppressPackageStartupMessages(library(tidyverse))\n",
    "\n",
    "# Global\n",
    "options(warn = -1)\n",
    "\n",
    "# Scripts\n",
    "source(\"summarize.R\")\n",
    "\n",
    "# Data\n",
    "load(\"DF.Rdata\")\n",
    "\n",
    "glimpse(DF)"
   ]
  },
  {
   "cell_type": "markdown",
   "metadata": {},
   "source": [
    "## Clinical and outcome features\n",
    "Clinical and outcome features are analyzed at the patient level."
   ]
  },
  {
   "cell_type": "code",
   "execution_count": 2,
   "metadata": {},
   "outputs": [
    {
     "name": "stdout",
     "output_type": "stream",
     "text": [
      "Observations: 60\n",
      "Variables: 8\n",
      "$ registry_id           <dbl> 20060035601, 19970063502, 20040008703, 20070089…\n",
      "$ age_dx                <dbl> 77, 71, 89, 59, 76, 68, 59, 71, 60, 56, 78, 89,…\n",
      "$ sex                   <fct> Male, Male, Male, Male, Male, Male, Female, Mal…\n",
      "$ fu_mo                 <dbl> 42.6, 36.0, 3.9, 43.5, 39.1, 16.3, 66.6, 51.5, …\n",
      "$ recurrence_any        <fct> No tumor recurrence, Tumor recurrence, Tumor re…\n",
      "$ progression_stage_any <fct> No stage progression, Stage progression, Stage …\n",
      "$ progression_grade_any <fct> No grade progression, No grade progression, No …\n",
      "$ death                 <fct> Dead, Alive, Dead, Alive, Alive, Alive, Alive, …\n"
     ]
    }
   ],
   "source": [
    "# Tidying up the clinical data\n",
    "CLINICAL <- DF %>% \n",
    "    group_by(registry_id) %>% \n",
    "    select(\n",
    "        registry_id,\n",
    "        age_dx,\n",
    "        sex,\n",
    "        fu_mo,\n",
    "        recurrence_any,\n",
    "        progression_stage_any,\n",
    "        progression_grade_any,\n",
    "        death\n",
    "    ) %>% \n",
    "    distinct() %>%\n",
    "    ungroup()\n",
    "\n",
    "glimpse(CLINICAL)"
   ]
  },
  {
   "cell_type": "markdown",
   "metadata": {
    "lines_to_next_cell": 0
   },
   "source": [
    "### Age, in years"
   ]
  },
  {
   "cell_type": "code",
   "execution_count": 3,
   "metadata": {},
   "outputs": [
    {
     "name": "stdout",
     "output_type": "stream",
     "text": [
      "# A tibble: 1 x 8\n",
      "      N  Mean    SD Median   IQR   Min   Max Missing\n",
      "  <int> <dbl> <dbl>  <dbl> <dbl> <dbl> <dbl>   <int>\n",
      "1    60  68.0  9.86     68  13.5    47    89       0\n"
     ]
    }
   ],
   "source": [
    "CLINICAL %>% summarize_num(age_dx)"
   ]
  },
  {
   "cell_type": "markdown",
   "metadata": {
    "lines_to_next_cell": 0
   },
   "source": [
    "### Sex"
   ]
  },
  {
   "cell_type": "code",
   "execution_count": 4,
   "metadata": {},
   "outputs": [
    {
     "name": "stdout",
     "output_type": "stream",
     "text": [
      "# A tibble: 2 x 3\n",
      "  Levels     N  Freq\n",
      "  <fct>  <int> <dbl>\n",
      "1 Female    19  31.7\n",
      "2 Male      41  68.3\n"
     ]
    }
   ],
   "source": [
    "CLINICAL %>% summarize_fct(sex)"
   ]
  },
  {
   "cell_type": "markdown",
   "metadata": {
    "lines_to_next_cell": 0
   },
   "source": [
    "### Follow-up, in months"
   ]
  },
  {
   "cell_type": "code",
   "execution_count": 5,
   "metadata": {},
   "outputs": [
    {
     "name": "stdout",
     "output_type": "stream",
     "text": [
      "# A tibble: 1 x 8\n",
      "      N  Mean    SD Median   IQR   Min   Max Missing\n",
      "  <int> <dbl> <dbl>  <dbl> <dbl> <dbl> <dbl>   <int>\n",
      "1    60  42.7  46.9   39.4  35.7   2.1  275.       0\n"
     ]
    }
   ],
   "source": [
    "CLINICAL %>% summarize_num(fu_mo)"
   ]
  },
  {
   "cell_type": "markdown",
   "metadata": {
    "lines_to_next_cell": 0
   },
   "source": [
    "### Tumor recurrence at any biopsy"
   ]
  },
  {
   "cell_type": "code",
   "execution_count": 6,
   "metadata": {},
   "outputs": [
    {
     "name": "stdout",
     "output_type": "stream",
     "text": [
      "# A tibble: 2 x 3\n",
      "  Levels                  N  Freq\n",
      "  <fct>               <int> <dbl>\n",
      "1 Tumor recurrence       52  86.7\n",
      "2 No tumor recurrence     8  13.3\n"
     ]
    }
   ],
   "source": [
    "CLINICAL %>% summarize_fct(recurrence_any)"
   ]
  },
  {
   "cell_type": "markdown",
   "metadata": {
    "lines_to_next_cell": 0
   },
   "source": [
    "### Tumor grade progression at any biopsy"
   ]
  },
  {
   "cell_type": "code",
   "execution_count": 7,
   "metadata": {},
   "outputs": [
    {
     "name": "stdout",
     "output_type": "stream",
     "text": [
      "# A tibble: 2 x 3\n",
      "  Levels                   N  Freq\n",
      "  <fct>                <int> <dbl>\n",
      "1 Grade progression        5   8.3\n",
      "2 No grade progression    55  91.7\n"
     ]
    }
   ],
   "source": [
    "CLINICAL %>% summarize_fct(progression_grade_any)"
   ]
  },
  {
   "cell_type": "markdown",
   "metadata": {
    "lines_to_next_cell": 0
   },
   "source": [
    "### Tumor stage progression at any biopsy"
   ]
  },
  {
   "cell_type": "code",
   "execution_count": 8,
   "metadata": {},
   "outputs": [
    {
     "name": "stdout",
     "output_type": "stream",
     "text": [
      "# A tibble: 2 x 3\n",
      "  Levels                   N  Freq\n",
      "  <fct>                <int> <dbl>\n",
      "1 Stage progression        6    10\n",
      "2 No stage progression    54    90\n"
     ]
    }
   ],
   "source": [
    "CLINICAL %>% summarize_fct(progression_stage_any)"
   ]
  },
  {
   "cell_type": "markdown",
   "metadata": {
    "lines_to_next_cell": 0
   },
   "source": [
    "### Overall mortality"
   ]
  },
  {
   "cell_type": "code",
   "execution_count": 9,
   "metadata": {},
   "outputs": [
    {
     "name": "stdout",
     "output_type": "stream",
     "text": [
      "# A tibble: 3 x 3\n",
      "  Levels     N  Freq\n",
      "  <fct>  <int> <dbl>\n",
      "1 Alive     48    80\n",
      "2 Dead       6    10\n",
      "3 <NA>       6    10\n"
     ]
    }
   ],
   "source": [
    "CLINICAL %>% summarize_fct(death)"
   ]
  },
  {
   "cell_type": "markdown",
   "metadata": {},
   "source": [
    "## Pathologic features\n",
    "This section includes the pathologic features of the cases that were included in the dataset. For the histologic diagnosis, \"CIS\" includes carcinoma in situ and dysplasia, \"LG\" and \"HG\" mean low-grade and high-grade noninvasive papillary urothelial carcinoma, respectively."
   ]
  },
  {
   "cell_type": "code",
   "execution_count": 10,
   "metadata": {},
   "outputs": [
    {
     "name": "stdout",
     "output_type": "stream",
     "text": [
      "Observations: 193\n",
      "Variables: 6\n",
      "$ sp_id                  <chr> \"06-S-4802\", \"07-S-3788\", \"07-S-8931\", \"07-S-6…\n",
      "$ histo_dx               <fct> HG, HG, HG, HG, HG, HG, CIS, HG, Invasive, HG,…\n",
      "$ pt_stage               <fct> T1, T1, T2, T1, T1, T1, Tis, T1, T2, Ta, Ta, T…\n",
      "$ recurrence_next        <fct> No tumor recurrence, Tumor recurrence, No tumo…\n",
      "$ progression_grade_next <fct> No grade progression, No grade progression, No…\n",
      "$ progression_stage_next <fct> No stage progression, No stage progression, No…\n"
     ]
    }
   ],
   "source": [
    "# Tidying up the pathologic data\n",
    "PATHOLOGIC <- DF %>% \n",
    "    group_by(sp_id) %>% \n",
    "    select(\n",
    "        sp_id,\n",
    "        histo_dx,\n",
    "        pt_stage,\n",
    "        recurrence_next,\n",
    "        progression_grade_next,\n",
    "        progression_stage_next\n",
    "    ) %>% \n",
    "    distinct() %>% \n",
    "    ungroup()\n",
    "\n",
    "glimpse (PATHOLOGIC)"
   ]
  },
  {
   "cell_type": "markdown",
   "metadata": {
    "lines_to_next_cell": 0
   },
   "source": [
    "### Histologic diagnosis"
   ]
  },
  {
   "cell_type": "code",
   "execution_count": 11,
   "metadata": {},
   "outputs": [
    {
     "name": "stdout",
     "output_type": "stream",
     "text": [
      "# A tibble: 4 x 3\n",
      "  Levels       N  Freq\n",
      "  <fct>    <int> <dbl>\n",
      "1 CIS         13   6.7\n",
      "2 LG          60  31.1\n",
      "3 HG          79  40.9\n",
      "4 Invasive    41  21.2\n"
     ]
    }
   ],
   "source": [
    "PATHOLOGIC %>% summarize_fct(histo_dx)"
   ]
  },
  {
   "cell_type": "markdown",
   "metadata": {
    "lines_to_next_cell": 0
   },
   "source": [
    "### pT stage"
   ]
  },
  {
   "cell_type": "code",
   "execution_count": 12,
   "metadata": {},
   "outputs": [
    {
     "name": "stdout",
     "output_type": "stream",
     "text": [
      "# A tibble: 5 x 3\n",
      "  Levels     N  Freq\n",
      "  <fct>  <int> <dbl>\n",
      "1 Tis        9   4.7\n",
      "2 Ta       102  52.8\n",
      "3 T1        66  34.2\n",
      "4 T2        10   5.2\n",
      "5 <NA>       6   3.1\n"
     ]
    }
   ],
   "source": [
    "PATHOLOGIC %>% summarize_fct(pt_stage)"
   ]
  },
  {
   "cell_type": "markdown",
   "metadata": {
    "lines_to_next_cell": 0
   },
   "source": [
    "### Tumor recurrence at next biopsy"
   ]
  },
  {
   "cell_type": "code",
   "execution_count": 13,
   "metadata": {},
   "outputs": [
    {
     "name": "stdout",
     "output_type": "stream",
     "text": [
      "# A tibble: 3 x 3\n",
      "  Levels                  N  Freq\n",
      "  <fct>               <int> <dbl>\n",
      "1 Tumor recurrence      102  52.8\n",
      "2 No tumor recurrence    68  35.2\n",
      "3 <NA>                   23  11.9\n"
     ]
    }
   ],
   "source": [
    "PATHOLOGIC %>% summarize_fct(recurrence_next)"
   ]
  },
  {
   "cell_type": "markdown",
   "metadata": {
    "lines_to_next_cell": 0
   },
   "source": [
    "### Tumor grade progression at next biopsy"
   ]
  },
  {
   "cell_type": "code",
   "execution_count": 14,
   "metadata": {},
   "outputs": [
    {
     "name": "stdout",
     "output_type": "stream",
     "text": [
      "# A tibble: 3 x 3\n",
      "  Levels                   N  Freq\n",
      "  <fct>                <int> <dbl>\n",
      "1 Grade progression        6   3.1\n",
      "2 No grade progression   170  88.1\n",
      "3 <NA>                    17   8.8\n"
     ]
    }
   ],
   "source": [
    "PATHOLOGIC %>% summarize_fct(progression_grade_next)"
   ]
  },
  {
   "cell_type": "markdown",
   "metadata": {
    "lines_to_next_cell": 0
   },
   "source": [
    "### Tumor stage progression at next biopsy"
   ]
  },
  {
   "cell_type": "code",
   "execution_count": 15,
   "metadata": {},
   "outputs": [
    {
     "name": "stdout",
     "output_type": "stream",
     "text": [
      "# A tibble: 3 x 3\n",
      "  Levels                   N  Freq\n",
      "  <fct>                <int> <dbl>\n",
      "1 Stage progression        9   4.7\n",
      "2 No stage progression   160  82.9\n",
      "3 <NA>                    24  12.4\n"
     ]
    }
   ],
   "source": [
    "PATHOLOGIC %>% summarize_fct(progression_stage_next)"
   ]
  },
  {
   "cell_type": "markdown",
   "metadata": {},
   "source": [
    "## Biomarkers features\n",
    "Biomarkers features were established at the TMA level.\n",
    "\n",
    "### Biomarker distribution"
   ]
  },
  {
   "cell_type": "code",
   "execution_count": 16,
   "metadata": {},
   "outputs": [
    {
     "name": "stdout",
     "output_type": "stream",
     "text": [
      "# A tibble: 7 x 9\n",
      "  Levels        N  Mean    SD Median   IQR   Min   Max Missing\n",
      "  <fct>     <int> <dbl> <dbl>  <dbl> <dbl> <dbl> <dbl>   <int>\n",
      "1 cd44        411 51.5  33.6      60  60       0   100     106\n",
      "2 ck20        411 28.8  35.7       5  62.5     0   100      75\n",
      "3 ck56        411 28.1  29.2      20  35       0   100      76\n",
      "4 er          411  1.66  6.79      0   0       0    60      74\n",
      "5 gata3       411 99.1   5.05    100   0      50   100      73\n",
      "6 her2        411 40    36.0      30  65       0   100      69\n",
      "7 uroplakin   411 15.3  24.6       5  20       0   100      96\n",
      "\n",
      "\tKruskal-Wallis rank sum test\n",
      "\n",
      "data:  x by y\n",
      "Kruskal-Wallis chi-squared = 1260, df = 6, p-value < 2.2e-16\n",
      "\n",
      "\n",
      "\tPairwise comparisons using Wilcoxon rank sum test \n",
      "\n",
      "data:  x and y \n",
      "\n",
      "          cd44    ck20    ck56    er      gata3   her2   \n",
      "ck20      < 2e-16 -       -       -       -       -      \n",
      "ck56      2.9e-16 0.01987 -       -       -       -      \n",
      "er        < 2e-16 < 2e-16 < 2e-16 -       -       -      \n",
      "gata3     < 2e-16 < 2e-16 < 2e-16 < 2e-16 -       -      \n",
      "her2      0.00031 2.5e-05 0.03988 < 2e-16 < 2e-16 -      \n",
      "uroplakin < 2e-16 0.29903 1.4e-12 < 2e-16 < 2e-16 < 2e-16\n",
      "\n",
      "P value adjustment method: bonferroni \n"
     ]
    }
   ],
   "source": [
    "DF %>% \n",
    "    select(ck56:uroplakin) %>% \n",
    "    gather(key = \"Biomarker\", value = \"Expression\") %>% \n",
    "    summarize_nums(Expression, Biomarker)"
   ]
  },
  {
   "cell_type": "markdown",
   "metadata": {
    "lines_to_next_cell": 0
   },
   "source": [
    "### Biormarker and histology\n",
    "#### CK5/6"
   ]
  },
  {
   "cell_type": "code",
   "execution_count": 17,
   "metadata": {},
   "outputs": [
    {
     "name": "stdout",
     "output_type": "stream",
     "text": [
      "# A tibble: 4 x 9\n",
      "  Levels       N  Mean    SD Median   IQR   Min   Max Missing\n",
      "  <fct>    <int> <dbl> <dbl>  <dbl> <dbl> <dbl> <dbl>   <int>\n",
      "1 CIS         21  30.4  33.7     15  35       0    90       9\n",
      "2 LG         114  36.6  31.1     30  57.5     0   100      20\n",
      "3 HG         168  24.7  27.0     10  35       0   100      33\n",
      "4 Invasive   108  24.1  28.6     10  25       0   100      14\n",
      "\n",
      "\tKruskal-Wallis rank sum test\n",
      "\n",
      "data:  x by y\n",
      "Kruskal-Wallis chi-squared = 11.225, df = 3, p-value = 0.01057\n",
      "\n",
      "\n",
      "\tPairwise comparisons using Wilcoxon rank sum test \n",
      "\n",
      "data:  x and y \n",
      "\n",
      "         CIS   LG    HG   \n",
      "LG       1.000 -     -    \n",
      "HG       1.000 0.030 -    \n",
      "Invasive 1.000 0.016 1.000\n",
      "\n",
      "P value adjustment method: bonferroni \n"
     ]
    }
   ],
   "source": [
    "DF %>% \n",
    "    mutate(\n",
    "        marker = ck56,\n",
    "        feature = histo_dx\n",
    "    ) %>% \n",
    "    summarize_nums(marker, feature)"
   ]
  },
  {
   "cell_type": "markdown",
   "metadata": {
    "lines_to_next_cell": 0
   },
   "source": [
    "#### CD44"
   ]
  },
  {
   "cell_type": "code",
   "execution_count": 18,
   "metadata": {},
   "outputs": [
    {
     "name": "stdout",
     "output_type": "stream",
     "text": [
      "# A tibble: 4 x 9\n",
      "  Levels       N  Mean    SD Median   IQR   Min   Max Missing\n",
      "  <fct>    <int> <dbl> <dbl>  <dbl> <dbl> <dbl> <dbl>   <int>\n",
      "1 CIS         21  71.4  25.1     80    40    20   100       7\n",
      "2 LG         114  61.3  31.2     70    60     0   100      30\n",
      "3 HG         168  45.0  33.9     40    70     0   100      45\n",
      "4 Invasive   108  47.7  33.7     45    60     0   100      24\n",
      "\n",
      "\tKruskal-Wallis rank sum test\n",
      "\n",
      "data:  x by y\n",
      "Kruskal-Wallis chi-squared = 16.759, df = 3, p-value = 0.000792\n",
      "\n",
      "\n",
      "\tPairwise comparisons using Wilcoxon rank sum test \n",
      "\n",
      "data:  x and y \n",
      "\n",
      "         CIS    LG     HG    \n",
      "LG       1.0000 -      -     \n",
      "HG       0.0370 0.0064 -     \n",
      "Invasive 0.0886 0.0699 1.0000\n",
      "\n",
      "P value adjustment method: bonferroni \n"
     ]
    }
   ],
   "source": [
    "DF %>% \n",
    "    mutate(\n",
    "        marker = cd44,\n",
    "        feature = histo_dx\n",
    "    ) %>% \n",
    "    summarize_nums(marker, feature)"
   ]
  },
  {
   "cell_type": "markdown",
   "metadata": {
    "lines_to_next_cell": 0
   },
   "source": [
    "#### CK20"
   ]
  },
  {
   "cell_type": "code",
   "execution_count": 19,
   "metadata": {},
   "outputs": [
    {
     "name": "stdout",
     "output_type": "stream",
     "text": [
      "# A tibble: 4 x 9\n",
      "  Levels       N  Mean    SD Median   IQR   Min   Max Missing\n",
      "  <fct>    <int> <dbl> <dbl>  <dbl> <dbl> <dbl> <dbl>   <int>\n",
      "1 CIS         21  36.5  42.9     10    85     0   100       8\n",
      "2 LG         114  22.5  32.4      0    30     0   100      21\n",
      "3 HG         168  31.1  36.1     10    70     0   100      32\n",
      "4 Invasive   108  30.5  36.9      5    70     0   100      14\n",
      "\n",
      "\tKruskal-Wallis rank sum test\n",
      "\n",
      "data:  x by y\n",
      "Kruskal-Wallis chi-squared = 5.406, df = 3, p-value = 0.1444\n",
      "\n",
      "\n",
      "\tPairwise comparisons using Wilcoxon rank sum test \n",
      "\n",
      "data:  x and y \n",
      "\n",
      "         CIS  LG   HG  \n",
      "LG       0.62 -    -   \n",
      "HG       1.00 0.25 -   \n",
      "Invasive 1.00 1.00 1.00\n",
      "\n",
      "P value adjustment method: bonferroni \n"
     ]
    }
   ],
   "source": [
    "DF %>% \n",
    "    mutate(\n",
    "        marker = ck20,\n",
    "        feature = histo_dx\n",
    "    ) %>% \n",
    "    summarize_nums(marker, feature)"
   ]
  },
  {
   "cell_type": "markdown",
   "metadata": {
    "lines_to_next_cell": 0
   },
   "source": [
    "#### GATA3"
   ]
  },
  {
   "cell_type": "code",
   "execution_count": 20,
   "metadata": {},
   "outputs": [
    {
     "name": "stdout",
     "output_type": "stream",
     "text": [
      "# A tibble: 4 x 9\n",
      "  Levels       N  Mean    SD Median   IQR   Min   Max Missing\n",
      "  <fct>    <int> <dbl> <dbl>  <dbl> <dbl> <dbl> <dbl>   <int>\n",
      "1 CIS         21 100    0       100     0   100   100       8\n",
      "2 LG         114  98.9  6.10    100     0    50   100      19\n",
      "3 HG         168  99.1  4.03    100     0    70   100      29\n",
      "4 Invasive   108  99.0  5.60    100     0    60   100      17\n",
      "\n",
      "\tKruskal-Wallis rank sum test\n",
      "\n",
      "data:  x by y\n",
      "Kruskal-Wallis chi-squared = 1.002, df = 3, p-value = 0.8008\n",
      "\n",
      "\n",
      "\tPairwise comparisons using Wilcoxon rank sum test \n",
      "\n",
      "data:  x and y \n",
      "\n",
      "         CIS LG HG\n",
      "LG       1   -  - \n",
      "HG       1   1  - \n",
      "Invasive 1   1  1 \n",
      "\n",
      "P value adjustment method: bonferroni \n"
     ]
    }
   ],
   "source": [
    "DF %>% \n",
    "    mutate(\n",
    "        marker = gata3,\n",
    "        feature = histo_dx\n",
    "    ) %>% \n",
    "    summarize_nums(marker, feature)"
   ]
  },
  {
   "cell_type": "markdown",
   "metadata": {
    "lines_to_next_cell": 0
   },
   "source": [
    "#### ER"
   ]
  },
  {
   "cell_type": "code",
   "execution_count": 21,
   "metadata": {},
   "outputs": [
    {
     "name": "stdout",
     "output_type": "stream",
     "text": [
      "# A tibble: 4 x 9\n",
      "  Levels       N  Mean    SD Median   IQR   Min   Max Missing\n",
      "  <fct>    <int> <dbl> <dbl>  <dbl> <dbl> <dbl> <dbl>   <int>\n",
      "1 CIS         21 1.43   5.35      0     0     0    20       7\n",
      "2 LG         114 0.532  2.48      0     0     0    20      20\n",
      "3 HG         168 1.23   5.33      0     0     0    40      30\n",
      "4 Invasive   108 3.52  10.6       0     0     0    60      17\n",
      "\n",
      "\tKruskal-Wallis rank sum test\n",
      "\n",
      "data:  x by y\n",
      "Kruskal-Wallis chi-squared = 4.7291, df = 3, p-value = 0.1927\n",
      "\n",
      "\n",
      "\tPairwise comparisons using Wilcoxon rank sum test \n",
      "\n",
      "data:  x and y \n",
      "\n",
      "         CIS  LG   HG  \n",
      "LG       1.00 -    -   \n",
      "HG       1.00 1.00 -   \n",
      "Invasive 1.00 0.23 1.00\n",
      "\n",
      "P value adjustment method: bonferroni \n"
     ]
    }
   ],
   "source": [
    "DF %>% \n",
    "    mutate(\n",
    "        marker = er,\n",
    "        feature = histo_dx\n",
    "    ) %>% \n",
    "    summarize_nums(marker, feature)"
   ]
  },
  {
   "cell_type": "markdown",
   "metadata": {
    "lines_to_next_cell": 0
   },
   "source": [
    "#### HER2"
   ]
  },
  {
   "cell_type": "code",
   "execution_count": 22,
   "metadata": {},
   "outputs": [
    {
     "name": "stdout",
     "output_type": "stream",
     "text": [
      "# A tibble: 4 x 9\n",
      "  Levels       N  Mean    SD Median   IQR   Min   Max Missing\n",
      "  <fct>    <int> <dbl> <dbl>  <dbl> <dbl> <dbl> <dbl>   <int>\n",
      "1 CIS         21  51.2  48.4     55   100     0   100       9\n",
      "2 LG         114  35.8  36.4     30    70     0   100      18\n",
      "3 HG         168  38.2  34.2     30    55     0   100      28\n",
      "4 Invasive   108  45.4  36.2     40    70     0   100      14\n",
      "\n",
      "\tKruskal-Wallis rank sum test\n",
      "\n",
      "data:  x by y\n",
      "Kruskal-Wallis chi-squared = 5.1666, df = 3, p-value = 0.16\n",
      "\n",
      "\n",
      "\tPairwise comparisons using Wilcoxon rank sum test \n",
      "\n",
      "data:  x and y \n",
      "\n",
      "         CIS  LG   HG  \n",
      "LG       1.00 -    -   \n",
      "HG       1.00 1.00 -   \n",
      "Invasive 1.00 0.26 0.76\n",
      "\n",
      "P value adjustment method: bonferroni \n"
     ]
    }
   ],
   "source": [
    "DF %>% \n",
    "    mutate(\n",
    "        marker = her2,\n",
    "        feature = histo_dx\n",
    "    ) %>% \n",
    "    summarize_nums(marker, feature)"
   ]
  },
  {
   "cell_type": "markdown",
   "metadata": {
    "lines_to_next_cell": 0
   },
   "source": [
    "#### Uroplakin"
   ]
  },
  {
   "cell_type": "code",
   "execution_count": 23,
   "metadata": {},
   "outputs": [
    {
     "name": "stdout",
     "output_type": "stream",
     "text": [
      "# A tibble: 4 x 9\n",
      "  Levels       N  Mean    SD Median   IQR   Min   Max Missing\n",
      "  <fct>    <int> <dbl> <dbl>  <dbl> <dbl> <dbl> <dbl>   <int>\n",
      "1 CIS         21  33.3  43.9    7.5    90     0   100       9\n",
      "2 LG         114  12.6  17.8    5      20     0    70      27\n",
      "3 HG         168  14.3  25.1    5      10     0   100      34\n",
      "4 Invasive   108  17.3  25.6   10      20     0   100      26\n",
      "\n",
      "\tKruskal-Wallis rank sum test\n",
      "\n",
      "data:  x by y\n",
      "Kruskal-Wallis chi-squared = 4.2708, df = 3, p-value = 0.2337\n",
      "\n",
      "\n",
      "\tPairwise comparisons using Wilcoxon rank sum test \n",
      "\n",
      "data:  x and y \n",
      "\n",
      "         CIS  LG   HG  \n",
      "LG       1.00 -    -   \n",
      "HG       1.00 1.00 -   \n",
      "Invasive 1.00 1.00 0.48\n",
      "\n",
      "P value adjustment method: bonferroni \n"
     ]
    }
   ],
   "source": [
    "DF %>% \n",
    "    mutate(\n",
    "        marker = uroplakin,\n",
    "        feature = histo_dx\n",
    "    ) %>% \n",
    "    summarize_nums(marker, feature)"
   ]
  },
  {
   "cell_type": "markdown",
   "metadata": {
    "lines_to_next_cell": 0
   },
   "source": [
    "### Biormarker and stage\n",
    "#### CK5/6"
   ]
  },
  {
   "cell_type": "code",
   "execution_count": 24,
   "metadata": {},
   "outputs": [
    {
     "name": "stdout",
     "output_type": "stream",
     "text": [
      "# A tibble: 5 x 9\n",
      "  Levels     N  Mean    SD Median   IQR   Min   Max Missing\n",
      "  <fct>  <int> <dbl> <dbl>  <dbl> <dbl> <dbl> <dbl>   <int>\n",
      "1 Tis       15  25    28.7     20  25       0    90       7\n",
      "2 Ta       203  30.6  29.2     20  42.5     0   100      41\n",
      "3 T1       161  23.1  27.7     10  25       0   100      22\n",
      "4 T2        21  31.5  33.9     20  43.8     0    90       1\n",
      "5 <NA>      11  68.3  11.7     65  10      60    90       5\n",
      "\n",
      "\tKruskal-Wallis rank sum test\n",
      "\n",
      "data:  x by y\n",
      "Kruskal-Wallis chi-squared = 8.1625, df = 3, p-value = 0.04277\n",
      "\n",
      "\n",
      "\tPairwise comparisons using Wilcoxon rank sum test \n",
      "\n",
      "data:  x and y \n",
      "\n",
      "   Tis   Ta    T1   \n",
      "Ta 1.000 -     -    \n",
      "T1 1.000 0.025 -    \n",
      "T2 1.000 1.000 1.000\n",
      "\n",
      "P value adjustment method: bonferroni \n"
     ]
    }
   ],
   "source": [
    "DF %>% \n",
    "    mutate(\n",
    "        marker = ck56,\n",
    "        feature = pt_stage\n",
    "    ) %>% \n",
    "    summarize_nums(marker, feature)"
   ]
  },
  {
   "cell_type": "markdown",
   "metadata": {
    "lines_to_next_cell": 0
   },
   "source": [
    "#### CD44"
   ]
  },
  {
   "cell_type": "code",
   "execution_count": 25,
   "metadata": {},
   "outputs": [
    {
     "name": "stdout",
     "output_type": "stream",
     "text": [
      "# A tibble: 5 x 9\n",
      "  Levels     N  Mean    SD Median   IQR   Min   Max Missing\n",
      "  <fct>  <int> <dbl> <dbl>  <dbl> <dbl> <dbl> <dbl>   <int>\n",
      "1 Tis       15  60    35.7     80  50       0   100       6\n",
      "2 Ta       203  54.8  33.3     60  70       0   100      53\n",
      "3 T1       161  46.8  33.7     40  70       0   100      36\n",
      "4 T2        21  40.8  30.1     30  40       5    90       8\n",
      "5 <NA>      11  71.2  30.9     85  27.5    10   100       3\n",
      "\n",
      "\tKruskal-Wallis rank sum test\n",
      "\n",
      "data:  x by y\n",
      "Kruskal-Wallis chi-squared = 6.0429, df = 3, p-value = 0.1095\n",
      "\n",
      "\n",
      "\tPairwise comparisons using Wilcoxon rank sum test \n",
      "\n",
      "data:  x and y \n",
      "\n",
      "   Tis  Ta   T1  \n",
      "Ta 1.00 -    -   \n",
      "T1 1.00 0.26 -   \n",
      "T2 1.00 0.83 1.00\n",
      "\n",
      "P value adjustment method: bonferroni \n"
     ]
    }
   ],
   "source": [
    "DF %>% \n",
    "    mutate(\n",
    "        marker = cd44,\n",
    "        feature = pt_stage\n",
    "    ) %>% \n",
    "    summarize_nums(marker, feature)"
   ]
  },
  {
   "cell_type": "markdown",
   "metadata": {
    "lines_to_next_cell": 0
   },
   "source": [
    "#### CK20"
   ]
  },
  {
   "cell_type": "code",
   "execution_count": 26,
   "metadata": {},
   "outputs": [
    {
     "name": "stdout",
     "output_type": "stream",
     "text": [
      "# A tibble: 5 x 9\n",
      "  Levels     N  Mean    SD Median   IQR   Min   Max Missing\n",
      "  <fct>  <int> <dbl> <dbl>  <dbl> <dbl> <dbl> <dbl>   <int>\n",
      "1 Tis       15 26.2   45.6    2.5  28.8     0   100       7\n",
      "2 Ta       203 26.1   32.9    5    50       0    90      42\n",
      "3 T1       161 33.0   37.5   10    70       0   100      20\n",
      "4 T2        21 28.5   43.0    0    75       0   100       1\n",
      "5 <NA>      11  6.67  12.1    0     7.5     0    30       5\n",
      "\n",
      "\tKruskal-Wallis rank sum test\n",
      "\n",
      "data:  x by y\n",
      "Kruskal-Wallis chi-squared = 2.6592, df = 3, p-value = 0.4472\n",
      "\n",
      "\n",
      "\tPairwise comparisons using Wilcoxon rank sum test \n",
      "\n",
      "data:  x and y \n",
      "\n",
      "   Tis  Ta   T1  \n",
      "Ta 1.00 -    -   \n",
      "T1 1.00 0.87 -   \n",
      "T2 1.00 1.00 1.00\n",
      "\n",
      "P value adjustment method: bonferroni \n"
     ]
    }
   ],
   "source": [
    "DF %>% \n",
    "    mutate(\n",
    "        marker = ck20,\n",
    "        feature = pt_stage\n",
    "    ) %>% \n",
    "    summarize_nums(marker, feature)"
   ]
  },
  {
   "cell_type": "markdown",
   "metadata": {
    "lines_to_next_cell": 0
   },
   "source": [
    "#### GATA3"
   ]
  },
  {
   "cell_type": "code",
   "execution_count": 27,
   "metadata": {},
   "outputs": [
    {
     "name": "stdout",
     "output_type": "stream",
     "text": [
      "# A tibble: 5 x 9\n",
      "  Levels     N  Mean    SD Median   IQR   Min   Max Missing\n",
      "  <fct>  <int> <dbl> <dbl>  <dbl> <dbl> <dbl> <dbl>   <int>\n",
      "1 Tis       15 100    0       100     0   100   100       7\n",
      "2 Ta       203  99.2  5.13    100     0    50   100      37\n",
      "3 T1       161  98.7  5.50    100     0    60   100      22\n",
      "4 T2        21 100    0       100     0   100   100       3\n",
      "5 <NA>      11 100    0       100     0   100   100       4\n",
      "\n",
      "\tKruskal-Wallis rank sum test\n",
      "\n",
      "data:  x by y\n",
      "Kruskal-Wallis chi-squared = 3.5226, df = 3, p-value = 0.3178\n",
      "\n",
      "\n",
      "\tPairwise comparisons using Wilcoxon rank sum test \n",
      "\n",
      "data:  x and y \n",
      "\n",
      "   Tis  Ta   T1  \n",
      "Ta 1.00 -    -   \n",
      "T1 1.00 0.82 -   \n",
      "T2 -    1.00 1.00\n",
      "\n",
      "P value adjustment method: bonferroni \n"
     ]
    }
   ],
   "source": [
    "DF %>% \n",
    "    mutate(\n",
    "        marker = gata3,\n",
    "        feature = pt_stage\n",
    "    ) %>% \n",
    "    summarize_nums(marker, feature)"
   ]
  },
  {
   "cell_type": "markdown",
   "metadata": {
    "lines_to_next_cell": 0
   },
   "source": [
    "#### ER"
   ]
  },
  {
   "cell_type": "code",
   "execution_count": 28,
   "metadata": {},
   "outputs": [
    {
     "name": "stdout",
     "output_type": "stream",
     "text": [
      "# A tibble: 5 x 9\n",
      "  Levels     N  Mean    SD Median   IQR   Min   Max Missing\n",
      "  <fct>  <int> <dbl> <dbl>  <dbl> <dbl> <dbl> <dbl>   <int>\n",
      "1 Tis       15 2.22   6.67      0     0     0    20       6\n",
      "2 Ta       203 0.697  3.57      0     0     0    40      38\n",
      "3 T1       161 2.61   8.95      0     0     0    60      21\n",
      "4 T2        21 2.5   10         0     0     0    40       5\n",
      "5 <NA>      11 2.86   3.93      0     5     0    10       4\n",
      "\n",
      "\tKruskal-Wallis rank sum test\n",
      "\n",
      "data:  x by y\n",
      "Kruskal-Wallis chi-squared = 3.1836, df = 3, p-value = 0.3642\n",
      "\n",
      "\n",
      "\tPairwise comparisons using Wilcoxon rank sum test \n",
      "\n",
      "data:  x and y \n",
      "\n",
      "   Tis  Ta   T1  \n",
      "Ta 1.00 -    -   \n",
      "T1 1.00 0.51 -   \n",
      "T2 1.00 1.00 1.00\n",
      "\n",
      "P value adjustment method: bonferroni \n"
     ]
    }
   ],
   "source": [
    "DF %>% \n",
    "    mutate(\n",
    "        marker = er,\n",
    "        feature = pt_stage\n",
    "    ) %>% \n",
    "    summarize_nums(marker, feature)"
   ]
  },
  {
   "cell_type": "markdown",
   "metadata": {
    "lines_to_next_cell": 0
   },
   "source": [
    "#### HER2"
   ]
  },
  {
   "cell_type": "code",
   "execution_count": 29,
   "metadata": {},
   "outputs": [
    {
     "name": "stdout",
     "output_type": "stream",
     "text": [
      "# A tibble: 5 x 9\n",
      "  Levels     N  Mean    SD Median   IQR   Min   Max Missing\n",
      "  <fct>  <int> <dbl> <dbl>  <dbl> <dbl> <dbl> <dbl>   <int>\n",
      "1 Tis       15  32.9  47.2      0  65       0   100       8\n",
      "2 Ta       203  35.9  34.0     30  65       0   100      36\n",
      "3 T1       161  44.3  37.1     40  75       0   100      16\n",
      "4 T2        21  59.1  36.9     65  60       0   100       5\n",
      "5 <NA>      11  11.4  16.5      5  17.5     0    40       4\n",
      "\n",
      "\tKruskal-Wallis rank sum test\n",
      "\n",
      "data:  x by y\n",
      "Kruskal-Wallis chi-squared = 8.8682, df = 3, p-value = 0.0311\n",
      "\n",
      "\n",
      "\tPairwise comparisons using Wilcoxon rank sum test \n",
      "\n",
      "data:  x and y \n",
      "\n",
      "   Tis  Ta   T1  \n",
      "Ta 1.00 -    -   \n",
      "T1 1.00 0.24 -   \n",
      "T2 1.00 0.10 0.91\n",
      "\n",
      "P value adjustment method: bonferroni \n"
     ]
    }
   ],
   "source": [
    "DF %>% \n",
    "    mutate(\n",
    "        marker = her2,\n",
    "        feature = pt_stage\n",
    "    ) %>% \n",
    "    summarize_nums(marker, feature)"
   ]
  },
  {
   "cell_type": "markdown",
   "metadata": {
    "lines_to_next_cell": 0
   },
   "source": [
    "#### Uroplakin"
   ]
  },
  {
   "cell_type": "code",
   "execution_count": 30,
   "metadata": {},
   "outputs": [
    {
     "name": "stdout",
     "output_type": "stream",
     "text": [
      "# A tibble: 5 x 9\n",
      "  Levels     N  Mean    SD Median   IQR   Min   Max Missing\n",
      "  <fct>  <int> <dbl> <dbl>  <dbl> <dbl> <dbl> <dbl>   <int>\n",
      "1 Tis       15 14.4   30.9    2.5 10        0    90       7\n",
      "2 Ta       203 12.3   19.2    5   10        0    90      46\n",
      "3 T1       161 20     30.4    5   20        0   100      34\n",
      "4 T2        21 12.3   18.0    5   15        0    60       6\n",
      "5 <NA>      11  6.25  10.3    2.5  6.25     0    30       3\n",
      "\n",
      "\tKruskal-Wallis rank sum test\n",
      "\n",
      "data:  x by y\n",
      "Kruskal-Wallis chi-squared = 2.0016, df = 3, p-value = 0.5721\n",
      "\n",
      "\n",
      "\tPairwise comparisons using Wilcoxon rank sum test \n",
      "\n",
      "data:  x and y \n",
      "\n",
      "   Tis Ta T1\n",
      "Ta 1   -  - \n",
      "T1 1   1  - \n",
      "T2 1   1  1 \n",
      "\n",
      "P value adjustment method: bonferroni \n"
     ]
    }
   ],
   "source": [
    "DF %>% \n",
    "    mutate(\n",
    "        marker = uroplakin,\n",
    "        feature = pt_stage\n",
    "    ) %>% \n",
    "    summarize_nums(marker, feature)"
   ]
  }
 ],
 "metadata": {
  "jupytext": {
   "cell_metadata_filter": "-all",
   "formats": "ipynb,Rmd",
   "main_language": "R",
   "notebook_metadata_filter": "-all"
  },
  "kernelspec": {
   "display_name": "R",
   "language": "R",
   "name": "ir"
  },
  "language_info": {
   "codemirror_mode": "r",
   "file_extension": ".r",
   "mimetype": "text/x-r-source",
   "name": "R",
   "pygments_lexer": "r",
   "version": "3.5.3"
  },
  "toc": {
   "base_numbering": 1,
   "nav_menu": {},
   "number_sections": true,
   "sideBar": true,
   "skip_h1_title": true,
   "title_cell": "Table of Contents",
   "title_sidebar": "Contents",
   "toc_cell": false,
   "toc_position": {},
   "toc_section_display": true,
   "toc_window_display": true
  }
 },
 "nbformat": 4,
 "nbformat_minor": 2
}
